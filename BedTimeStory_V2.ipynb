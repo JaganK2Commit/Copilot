{
  "cells": [
    {
      "cell_type": "markdown",
      "metadata": {
        "id": "view-in-github",
        "colab_type": "text"
      },
      "source": [
        "<a href=\"https://colab.research.google.com/github/JaganK2Commit/Copilot/blob/main/BedTimeStory_V2.ipynb\" target=\"_parent\"><img src=\"https://colab.research.google.com/assets/colab-badge.svg\" alt=\"Open In Colab\"/></a>"
      ]
    },
    {
      "cell_type": "markdown",
      "metadata": {
        "id": "J9Rp69NTNkeD"
      },
      "source": [
        "### What should be the video be about ?\n"
      ]
    },
    {
      "cell_type": "code",
      "execution_count": 2,
      "metadata": {
        "id": "nhS-O7xhNX4w"
      },
      "outputs": [],
      "source": [
        "TOPIC = \"Could you please help me create a short story script that is perfect for entertaining a 5-year-old? The story should be magical, filled with colorful characters and have an educational message. Please make it fun, engaging, and age-appropriate.\" # make sure it has \"how to _\"\n",
        "NARRATOR_ADJECTIVES = \"story teller\"\n",
        "MUSIC_STYLE = \"kids friendly random music\""
      ]
    },
    {
      "cell_type": "markdown",
      "metadata": {
        "id": "jAh_gNJxOFuS"
      },
      "source": [
        "### Install the dependencies"
      ]
    },
    {
      "cell_type": "code",
      "execution_count": 8,
      "metadata": {
        "id": "8C6O9QF0OLrJ"
      },
      "outputs": [],
      "source": [
        "!pip install replicate\n",
        "!pip install requests\n",
        "!pip install openai\n",
        "!pip install langchain\n",
        "!pip install moviepy\n",
        "!pip install ffmpeg --upgrade\n",
        "!pip install pydub\n",
        "from google.colab import output\n",
        "output.clear()"
      ]
    },
    {
      "cell_type": "code",
      "execution_count": 9,
      "metadata": {
        "id": "7XdHue8kOWJB"
      },
      "outputs": [],
      "source": [
        "import os\n",
        "import openai\n",
        "import time\n",
        "import numpy as np\n",
        "import replicate\n",
        "import json"
      ]
    },
    {
      "cell_type": "code",
      "execution_count": 10,
      "metadata": {
        "id": "KNqChrMOOZc9"
      },
      "outputs": [],
      "source": [
        "from langchain.prompts import PromptTemplate\n",
        "from langchain.chains import LLMChain, SimpleSequentialChain, SequentialChain, TransformChain\n",
        "from langchain.llms import OpenAI, Replicate\n",
        "from langchain.chat_models import ChatOpenAI\n",
        "from langchain.prompts.chat import (\n",
        "    ChatPromptTemplate,\n",
        "    SystemMessagePromptTemplate,\n",
        "    AIMessagePromptTemplate,\n",
        "    HumanMessagePromptTemplate,\n",
        ")\n",
        "from langchain.schema import (\n",
        "    AIMessage,\n",
        "    HumanMessage,\n",
        "    SystemMessage\n",
        ")\n",
        "from pydub import AudioSegment"
      ]
    },
    {
      "cell_type": "markdown",
      "metadata": {
        "id": "GZKHE_PrOcTq"
      },
      "source": [
        "## Aquire Tokens for Replicate and OpenAI"
      ]
    },
    {
      "cell_type": "code",
      "execution_count": 11,
      "metadata": {
        "colab": {
          "base_uri": "https://localhost:8080/"
        },
        "id": "3o1AzkwaOh04",
        "outputId": "46222ec9-68f9-4d34-ed19-14144af0dfc6"
      },
      "outputs": [
        {
          "name": "stdout",
          "output_type": "stream",
          "text": [
            "··········\n"
          ]
        }
      ],
      "source": [
        "# get your token from https://replicate.com/account\n",
        "from getpass import getpass\n",
        "\n",
        "REPLICATE_API_TOKEN = getpass()\n",
        "os.environ[\"REPLICATE_API_TOKEN\"] = REPLICATE_API_TOKEN"
      ]
    },
    {
      "cell_type": "code",
      "execution_count": 12,
      "metadata": {
        "colab": {
          "base_uri": "https://localhost:8080/"
        },
        "id": "_5mKI7HROpuK",
        "outputId": "f3bf0716-b7f8-45a8-9356-b1edb9f6954f"
      },
      "outputs": [
        {
          "name": "stdout",
          "output_type": "stream",
          "text": [
            "··········\n"
          ]
        }
      ],
      "source": [
        "# get your key from https://platform.openai.com/account/api-keys\n",
        "OPENAI_API_KEY = getpass()\n",
        "os.environ[\"OPENAI_API_KEY\"] = OPENAI_API_KEY\n",
        "openai.api_key = os.getenv(\"OPENAI_API_KEY\")"
      ]
    },
    {
      "cell_type": "markdown",
      "metadata": {
        "id": "94EOQygEO4xF"
      },
      "source": [
        "## Create the LongChain"
      ]
    },
    {
      "cell_type": "code",
      "execution_count": 45,
      "metadata": {
        "colab": {
          "base_uri": "https://localhost:8080/"
        },
        "id": "x_IBFTV4O9qZ",
        "outputId": "843a18f4-d2b0-4bca-c1b0-05e0d965978e"
      },
      "outputs": [
        {
          "output_type": "stream",
          "name": "stdout",
          "text": [
            "{\n",
            "  \"title\": \"The Brave Little Turtle\",\n",
            "  \"description\": \"Join the brave little turtle on a thrilling adventure to save his underwater friends.\",\n",
            "  \"paragraphs\": [\n",
            "    \"Once upon a time, in the vast blue ocean, there lived a brave little turtle named Tommy.\",\n",
            "    \"Tommy was always curious and loved exploring the ocean depths.\",\n",
            "    \"One day, while swimming near a coral reef, Tommy discovered that his friends, the clownfish, were trapped in a fishing net.\",\n",
            "    \"Tommy knew he had to help them despite being scared.\",\n",
            "    \"With great courage, Tommy dived into action, biting through the net to free his friends.\",\n",
            "    \"The clownfish were grateful and praised Tommy for his bravery.\",\n",
            "    \"Word of Tommy's heroic act spread among the ocean creatures.\",\n",
            "    \"Soon, a group of dolphins sought Tommy's help to rescue a lost baby dolphin.\",\n",
            "    \"Tommy gathered his strength and fearlessly led the dolphins to find the little one.\",\n",
            "    \"The baby dolphin was reunited with its family, and Tommy became a hero of the ocean.\"\n",
            "  ],\n",
            "  \"visual_descriptions\": [\n",
            "    {\n",
            "      \"character_descriptions\": [\n",
            "        {\n",
            "          \"name\": \"Tommy\",\n",
            "          \"description\": \"A small green turtle with a determined look on his face.\"\n",
            "        }\n",
            "      ],\n",
            "      \"scene_description\": \"An endless blue ocean with colorful coral reefs.\"\n",
            "    },\n",
            "    {\n",
            "      \"character_descriptions\": [\n",
            "        {\n",
            "          \"name\": \"Tommy\",\n",
            "          \"description\": \"A small green turtle with a curious expression.\"\n",
            "        }\n",
            "      ],\n",
            "      \"scene_description\": \"Tommy exploring the ocean depths with sunlight filtering through the water.\"\n",
            "    },\n",
            "    {\n",
            "      \"character_descriptions\": [\n",
            "        {\n",
            "          \"name\": \"Tommy\",\n",
            "          \"description\": \"A small green turtle with a concerned look.\"\n",
            "        },\n",
            "        {\n",
            "          \"name\": \"Clownfish\",\n",
            "          \"description\": \"Bright orange fish with white stripes, trapped in a fishing net.\"\n",
            "        }\n",
            "      ],\n",
            "      \"scene_description\": \"Tommy finding his trapped friends, surrounded by colorful coral and the shimmering net.\"\n",
            "    },\n",
            "    {\n",
            "      \"character_descriptions\": [\n",
            "        {\n",
            "          \"name\": \"Tommy\",\n",
            "          \"description\": \"A small green turtle with a determined look on his face.\"\n",
            "        }\n",
            "      ],\n",
            "      \"scene_description\": \"Tommy summoning courage to bite through the net and release the clownfish.\"\n",
            "    },\n",
            "    {\n",
            "      \"character_descriptions\": [\n",
            "        {\n",
            "          \"name\": \"Tommy\",\n",
            "          \"description\": \"A small green turtle with a proud smile.\"\n",
            "        }\n",
            "      ],\n",
            "      \"scene_description\": \"The freed clownfish thanking Tommy with joy and gratitude.\"\n",
            "    },\n",
            "    {\n",
            "      \"character_descriptions\": [\n",
            "        {\n",
            "          \"name\": \"Tommy\",\n",
            "          \"description\": \"A small green turtle with a happy expression.\"\n",
            "        }\n",
            "      ],\n",
            "      \"scene_description\": \"News of Tommy's bravery spreads among the ocean creatures.\"\n",
            "    },\n",
            "    {\n",
            "      \"character_descriptions\": [\n",
            "        {\n",
            "          \"name\": \"Tommy\",\n",
            "          \"description\": \"A small green turtle with a determined look on his face.\"\n",
            "        },\n",
            "        {\n",
            "          \"name\": \"Dolphins\",\n",
            "          \"description\": \"A group of playful dolphins, eager for Tommy's help.\"\n",
            "        }\n",
            "      ],\n",
            "      \"scene_description\": \"Tommy joined by dolphins on an expedition to save a lost baby dolphin.\"\n",
            "    },\n",
            "    {\n",
            "      \"character_descriptions\": [\n",
            "        {\n",
            "          \"name\": \"Tommy\",\n",
            "          \"description\": \"A small green turtle with a confident stance.\"\n",
            "        },\n",
            "        {\n",
            "          \"name\": \"Baby Dolphin\",\n",
            "          \"description\": \"A cute, lost baby dolphin, anxiously awaiting rescue.\"\n",
            "        }\n",
            "      ],\n",
            "      \"scene_description\": \"Tommy leading the dolphins through a maze of crystal-clear waters to find the lost baby.\"\n",
            "    },\n",
            "    {\n",
            "      \"character_descriptions\": [\n",
            "        {\n",
            "          \"name\": \"Tommy\",\n",
            "          \"description\": \"A small green turtle with a triumphant smile.\"\n",
            "        }\n",
            "      ],\n",
            "      \"scene_description\": \"The joyous reunion of the baby dolphin with its family, surrounded by happy dolphins and Tommy.\"\n",
            "    },\n",
            "    {\n",
            "      \"character_descriptions\": [\n",
            "        {\n",
            "          \"name\": \"Tommy\",\n",
            "          \"description\": \"A small green turtle with a proud expression.\"\n",
            "        }\n",
            "      ],\n",
            "      \"scene_description\": \"Tommy being cheered as a hero of the ocean, surrounded by grateful sea creatures.\"\n",
            "    }\n",
            "  ]\n",
            "}\n",
            "input_variables=[] output_parser=None partial_variables={} messages=[HumanMessagePromptTemplate(prompt=PromptTemplate(input_variables=[], output_parser=None, partial_variables={}, template='\\nGenerate a script for a short story for children of 5 to 7 years old, which should be in not more than 10 paragraphs.\\nWrite the story in JSON format with the following keys:\\n\\n\"title\": The name of the story\\n\"description\": Description that can be used for YouTube video description, not exceeding 20 words\\n\"paragraphs\": A list of 10 paragraphs that make up the story\\n\"visual_descriptions\": A list of 10 visual descriptions that correspond to each paragraph. Each visual description is an array object with two keys character_descriptions, scene_description. Each character_descriptions has two keys name and a description of the characters. \\n\\nPlease make sure that each visual description includes both the character introductions and the scene descriptions to allow AI image tools to generate appropriate pictures for each scene.\\n\\nThank you!\\n', template_format='f-string', validate_template=True), additional_kwargs={})]\n"
          ]
        }
      ],
      "source": [
        "# LLMChain to write a a script for our how-to video.\n",
        "topic_template = \"\"\"\n",
        "Generate a script for a short story for children of 5 to 7 years old, which should be in not more than 10 paragraphs.\n",
        "Write the story in JSON format with the following keys:\n",
        "\n",
        "\"title\": The name of the story\n",
        "\"description\": Description that can be used for YouTube video description, not exceeding 20 words\n",
        "\"paragraphs\": A list of 10 paragraphs that make up the story\n",
        "\"visual_descriptions\": A list of 10 visual descriptions that correspond to each paragraph. Each visual description is an array object with two keys character_descriptions, scene_description. Each character_descriptions has two keys name and a description of the characters.\n",
        "\n",
        "Please make sure that each visual description includes both the character introductions and the scene descriptions to allow AI image tools to generate appropriate pictures for each scene.\n",
        "\n",
        "Thank you!\n",
        "\"\"\"\n",
        "system_message_prompt = SystemMessage(content=\"You are a story teller, shares wide range of fairy tales, bedtime stories, kids stories, and be creative in your responses\")\n",
        "human_message_prompt = HumanMessagePromptTemplate(prompt=PromptTemplate(\n",
        "                                                  template=topic_template,\n",
        "                                                  input_variables=[]\n",
        "                                                  ))\n",
        "\n",
        "# create the initial script\n",
        "chat = ChatOpenAI(temperature=0.99, model_name=\"gpt-3.5-turbo\")\n",
        "chat_prompt_template = ChatPromptTemplate.from_messages([human_message_prompt])\n",
        "script_chain = LLMChain(llm=chat, prompt=chat_prompt_template, output_key='script')\n",
        "\n",
        "script = script_chain.run({\"topic\": TOPIC, \"narrator_adjectives\": NARRATOR_ADJECTIVES, \"music_style\": MUSIC_STYLE})\n",
        "# data = json.loads(result)\n",
        "# script = data['paragraphs']\n",
        "# video_descriptions = data['video_descriptions']\n",
        "\n",
        "print(script)\n",
        "print(chat_prompt_template)\n",
        "# print(video_descriptions)"
      ]
    },
    {
      "cell_type": "code",
      "source": [
        "script = \"\"\"\n",
        "{\n",
        "    \"title\": \"The Star Painter and The Moon\",\n",
        "    \"description\": \"Embark on a magical adventure with Lila, the star painter, as she brings colors to the night sky and befriends the moon.\",\n",
        "    \"paragraphs\": [\n",
        "        \"Once upon a time, in a little cottage atop a hill, there lived a young girl named Lila who had the power to paint stars in the night sky.\",\n",
        "        \"Every night, Lila would climb up the hill with her magical paintbrush and paint stars, making the night sky twinkle with colors.\",\n",
        "        \"One night, as she painted, she noticed the moon looked sad. Lila decided to paint a picture of a flower next to the moon to cheer it up.\",\n",
        "        \"To her surprise, the moon began to speak! It thanked Lila for the beautiful flower but shared that it felt lonely in the sky.\",\n",
        "        \"Lila promised the moon that she would visit it every night. They started to share stories and soon became best friends.\",\n",
        "        \"Lila wanted the moon to have more friends. So, she painted colorful planets and stars around the moon to keep it company.\",\n",
        "        \"The moon was very happy and wanted to thank Lila. It used its magic to create a beautiful night-blooming flower and sent it down to her.\",\n",
        "        \"With her magical paintbrush, Lila made the flower into a luminescent necklace that glowed with the colors of the night sky.\",\n",
        "        \"As nights passed, the sky became a canvas of stories and friendship. Everyone from the village would gather to see the magical sky Lila and the moon created together.\",\n",
        "        \"Lila never felt alone again, and neither did the moon. Their friendship was painted across the sky for everyone to see and filled the night with magic and wonder.\"\n",
        "    ],\n",
        "    \"visual_descriptions\": [\n",
        "        {\n",
        "            \"character_descriptions\": [\n",
        "                {\n",
        "                    \"name\": \"Lila\",\n",
        "                    \"description\": \"Lila is a young girl with long blue hair, wearing a white dress and holding a magical paintbrush.\"\n",
        "                }\n",
        "            ],\n",
        "            \"scene_descriptions\": \"Lila is standing outside a small cottage on a hill, looking up at the night sky filled with stars.\"\n",
        "        },\n",
        "        {\n",
        "            \"character_descriptions\": [\n",
        "                {\n",
        "                    \"name\": \"Lila\",\n",
        "                    \"description\": \"Lila is a young girl with long blue hair, wearing a white dress, holding a magical paintbrush that glows.\"\n",
        "                }\n",
        "            ],\n",
        "            \"scene_descriptions\": \"Lila is on top of the hill painting stars in the night sky with her magical paintbrush.\"\n",
        "        },\n",
        "        {\n",
        "            \"character_descriptions\": [\n",
        "                {\n",
        "                    \"name\": \"Lila\",\n",
        "                    \"description\": \"Lila is a young girl with long blue hair, wearing a white dress, looking concerned.\"\n",
        "                }\n",
        "            ],\n",
        "            \"scene_descriptions\": \"Lila is painting a flower next to a sad-looking moon in the night sky.\"\n",
        "        },\n",
        "        {\n",
        "            \"character_descriptions\": [\n",
        "                {\n",
        "                    \"name\": \"Moon\",\n",
        "                    \"description\": \"Moon has a face and looks happy and surprised.\"\n",
        "                }\n",
        "            ],\n",
        "            \"scene_descriptions\": \"The moon starts to talk to Lila, who is holding her magical paintbrush.\"\n",
        "        },\n",
        "        {\n",
        "            \"character_descriptions\": [\n",
        "                {\n",
        "                    \"name\": \"Lila\",\n",
        "                    \"description\": \"Lila is a young girl with long blue hair, wearing a white dress, smiling.\"\n",
        "                },\n",
        "                {\n",
        "                    \"name\": \"Moon\",\n",
        "                    \"description\": \"Moon has a face and is smiling.\"\n",
        "                }\n",
        "            ],\n",
        "            \"scene_descriptions\": \"Lila and the moon are sharing stories, with colorful stars around them.\"\n",
        "        },\n",
        "        {\n",
        "            \"character_descriptions\": [\n",
        "                {\n",
        "                    \"name\": \"Lila\",\n",
        "                    \"description\": \"Lila is a young girl with long blue hair, wearing a white dress, painting with her magical paintbrush.\"\n",
        "                },\n",
        "                {\n",
        "                    \"name\": \"Moon\",\n",
        "                    \"description\": \"Moon has a face and looks happy with colorful planets and stars around it.\"\n",
        "                }\n",
        "            ],\n",
        "            \"scene_descriptions\": \"Lila is painting colorful planets and stars around the smiling moon.\"\n",
        "        },\n",
        "        {\n",
        "            \"character_descriptions\": [\n",
        "                {\n",
        "                    \"name\": \"Lila\",\n",
        "                    \"description\": \"Lila is a young girl with long blue hair, wearing a white dress, looking amazed.\"\n",
        "                },\n",
        "                {\n",
        "                    \"name\": \"Moon\",\n",
        "                    \"description\": \"Moon has a face and is smiling down at Lila.\"\n",
        "                }\n",
        "            ],\n",
        "            \"scene_descriptions\": \"The moon is sending down a night-blooming flower to Lila.\"\n",
        "        },\n",
        "        {\n",
        "            \"character_descriptions\": [\n",
        "                {\n",
        "                    \"name\": \"Lila\",\n",
        "                    \"description\": \"Lila is a young girl with long blue hair, wearing a white dress and a glowing necklace.\"\n",
        "                }\n",
        "            ],\n",
        "            \"scene_descriptions\": \"Lila is turning the night-blooming flower into a glowing necklace with her magical paintbrush.\"\n",
        "        },\n",
        "        {\n",
        "            \"character_descriptions\": [\n",
        "                {\n",
        "                    \"name\": \"Lila\",\n",
        "                    \"description\": \"Lila is a young girl with long blue hair, wearing a white dress and a glowing necklace, smiling.\"\n",
        "                },\n",
        "                {\n",
        "                    \"name\": \"Villagers\",\n",
        "                    \"description\": \"Villagers are people of various ages looking up at the sky with awe.\"\n",
        "                }\n",
        "            ],\n",
        "            \"scene_descriptions\": \"Lila is standing on a hill with villagers around her, all looking up at the colorful night sky.\"\n",
        "        },\n",
        "        {\n",
        "            \"character_descriptions\": [\n",
        "                {\n",
        "                    \"name\": \"Lila\",\n",
        "                    \"description\": \"Lila is a young girl with long blue hair, wearing a white dress and a glowing necklace, looking happy.\"\n",
        "                },\n",
        "                {\n",
        "                    \"name\": \"Moon\",\n",
        "                    \"description\": \"Moon has a face and is smiling with colorful stars around it.\"\n",
        "                }\n",
        "            ],\n",
        "            \"scene_descriptions\": \"Lila is looking up at the happy moon in a night sky filled with colorful stars, planets, and paintings.\"\n",
        "        }\n",
        "    ]\n",
        "}\n",
        "\"\"\""
      ],
      "metadata": {
        "id": "_FlRXZXikxz0"
      },
      "execution_count": 57,
      "outputs": []
    },
    {
      "cell_type": "code",
      "execution_count": 46,
      "metadata": {
        "id": "PShF9cU9Tmi5"
      },
      "outputs": [],
      "source": [
        "# LLMChain to write a title for our video\n",
        "llm = OpenAI(temperature=.9)\n",
        "template = \"\"\"Please come up with a creative and zany title for the below how-to video script.\n",
        "Puns are encouraged. Don't include quotations (\") in the output.\n",
        "\n",
        "Script:\n",
        "{script}\n",
        "Title: \"\"\"\n",
        "prompt_template = PromptTemplate(input_variables=[\"script\"], template=template)\n",
        "title_chain = LLMChain(llm=llm, prompt=prompt_template, output_key='title')\n",
        "\n",
        "# title = title_chain.run({\"script\": script})\n",
        "# print(title)\n",
        "\n"
      ]
    },
    {
      "cell_type": "markdown",
      "source": [
        "## Script Scrubbing"
      ],
      "metadata": {
        "id": "9Cvyj2tNu36n"
      }
    },
    {
      "cell_type": "code",
      "source": [
        "## Fill the characters_descriptions with the last known description for each paragraph\n",
        "\n",
        "def fill_character_descriptions(input_data):\n",
        "    character_descriptions = {}\n",
        "\n",
        "    for item in input_data[\"visual_descriptions\"]:\n",
        "        current_character_descriptions = item.get(\"character_descriptions\", [])\n",
        "        for character_description in current_character_descriptions:\n",
        "            character_name = character_description[\"name\"]\n",
        "            character_description_text = character_description[\"description\"]\n",
        "            character_descriptions[character_name] = character_description_text\n",
        "\n",
        "    for item in input_data[\"visual_descriptions\"]:\n",
        "        updated_character_descriptions = []\n",
        "        current_character_descriptions = item.get(\"character_descriptions\", [])\n",
        "        for character_description in current_character_descriptions:\n",
        "            character_name = character_description[\"name\"]\n",
        "            if character_name in character_descriptions:\n",
        "                updated_character_description = {\n",
        "                    \"name\": character_name,\n",
        "                    \"description\": character_descriptions[character_name]\n",
        "                }\n",
        "                updated_character_descriptions.append(updated_character_description)\n",
        "        item[\"character_descriptions\"] = updated_character_descriptions\n",
        "\n",
        "    return input_data\n",
        "\n",
        "\n",
        "# Fill the character_descriptions with the last defined value\n",
        "script = fill_character_descriptions(json.loads(script))\n",
        "\n",
        "# Print the result\n",
        "# for item in filled_input_data['visual_descriptions']:\n",
        "#     print(item)"
      ],
      "metadata": {
        "id": "eWSbze0Hu1ux"
      },
      "execution_count": 47,
      "outputs": []
    },
    {
      "cell_type": "code",
      "execution_count": 96,
      "metadata": {
        "id": "w02ha9J8XpcE"
      },
      "outputs": [],
      "source": [
        "# LLMChain to create the replicate predictions for our text-to-image model\n",
        "import re\n",
        "def update_scene_descriptions(input_data):\n",
        "    character_descriptions = input_data[\"character_descriptions\"]\n",
        "    scene_description = input_data[\"scene_description\"]\n",
        "\n",
        "    updated_scene_descriptions = []\n",
        "\n",
        "    if character_descriptions:\n",
        "        for character_description in character_descriptions:\n",
        "            character_name = character_description[\"name\"]\n",
        "            character_description_text = character_description[\"description\"]\n",
        "\n",
        "            # Check if the character name appears in the scene description\n",
        "            if character_name in scene_description:\n",
        "                # Append the character description to the scene description\n",
        "                updated_scene_description = re.sub(re.escape(character_name), character_name + \",\" + character_description_text, scene_description, flags=re.IGNORECASE)\n",
        "                updated_scene_descriptions.append(updated_scene_description)\n",
        "            else:\n",
        "              updated_scene_descriptions.append(scene_description)\n",
        "    else:\n",
        "        # If no character descriptions available, return original scene descriptions\n",
        "        updated_scene_descriptions.append(scene_description)\n",
        "    return updated_scene_descriptions\n",
        "\n",
        "\n",
        "def transform_func(inputs: dict) -> dict:\n",
        "  video_model = replicate.models.get('ai-forever/kandinsky-2')\n",
        "  video_version = video_model.versions.get(\"601eea49d49003e6ea75a11527209c4f510a93e2112c969d548fbb45b9c4f19f\")\n",
        "  descriptions = inputs['script']['visual_descriptions']\n",
        "\n",
        "  predictions = []\n",
        "  known_character_descriptions = [];\n",
        "\n",
        "  for description in descriptions:\n",
        "      print(description)\n",
        "      updated_description = update_scene_descriptions(description)[0]\n",
        "      print(f\"Creating video prediction for '{updated_description}'...\")\n",
        "      video_prediction = replicate.predictions.create(version=video_version,\n",
        "                                                      input={\"prompt\": updated_description, \"prior_steps\": '5', \"guidance_scale\": 4, \"num_inference_steps\": 100, \"prior_cf_scale\":4,\n",
        "                                                             \"scheduler\": \"p_sampler\", \"width\": 1024, \"height\":768})\n",
        "      predictions.append(video_prediction)\n",
        "  return {'video_predictions': predictions}\n",
        "\n",
        "video_predictions_chain = TransformChain(input_variables=['script'], output_variables=['video_predictions'], transform=transform_func)\n",
        "\n",
        "# video_predictions = video_predictions_chain.run({\"script\": script})\n",
        "# print(video_predictions)"
      ]
    },
    {
      "cell_type": "code",
      "execution_count": 97,
      "metadata": {
        "id": "wo9Tu12yXpic"
      },
      "outputs": [],
      "source": [
        "# LLMChain to create the replicate predictions for our bark model\n",
        "def transform_func(inputs: dict) -> dict:\n",
        "  audio_model = replicate.models.get(\"suno-ai/bark\")\n",
        "  audio_version = audio_model.versions.get(\"b76242b40d67c76ab6742e987628a2a9ac019e11d56ab96c4e91ce03b79b2787\")\n",
        "  parsed_script = inputs['script']['paragraphs']\n",
        "\n",
        "  predictions = []\n",
        "\n",
        "  for line in parsed_script:\n",
        "      print(f\"Creating audio prediction for '{line}''...\")\n",
        "      audio_prediction = replicate.predictions.create(version=audio_version,\n",
        "                                                      input={\"prompt\": line, \"history_prompt\": \"announcer\", \"text_temp\": 0.7, \"waveform_temp\":0.8})\n",
        "      predictions.append(audio_prediction)\n",
        "  return {'audio_predictions': predictions}\n",
        "\n",
        "audio_predictions_chain = TransformChain(input_variables=['script'], output_variables=['audio_predictions'], transform=transform_func)\n",
        "\n",
        "# audio_predictions = audio_predictions_chain.run({\"script\": script})\n",
        "# print(audio_predictions)"
      ]
    },
    {
      "cell_type": "code",
      "execution_count": 98,
      "metadata": {
        "id": "8vcijQCYY4aM"
      },
      "outputs": [],
      "source": [
        "# LLMChain to create the cover image\n",
        "llm = OpenAI(temperature=.9)\n",
        "template = \"\"\"\n",
        "          Create a visual description artstation, hd, dramatic lighting, detailed for the following script.\n",
        "          \"{script}\"\"\n",
        "          \"\"\"\n",
        "prompt_template = PromptTemplate(input_variables=[\"script\"], template=template)\n",
        "\n",
        "text2image = Replicate(model=\"ai-forever/kandinsky-2:601eea49d49003e6ea75a11527209c4f510a93e2112c969d548fbb45b9c4f19f\",\n",
        "                       input={\"prior_steps\": '5', \"guidance_scale\": 4, \"num_inference_steps\": 100, \"prior_cf_scale\":4,\n",
        "                                                        \"scheduler\": \"p_sampler\"})\n",
        "\n",
        "# text2image = Replicate(model=\"stability-ai/stable-diffusion:db21e45d3f7023abc2a46ee38a23973f6dce16bb082a930b0c49861f96d1e5bf\",\n",
        "#                        input={'image_dimensions': '512x512', \"negative_prompt\": \"text, writing\"})\n",
        "title_image_chain = LLMChain(llm=text2image, prompt=prompt_template, output_key='title_image')\n",
        "\n",
        "# title_image = title_image_chain.run({\"script\": script})\n",
        "# print(title_image)"
      ]
    },
    {
      "cell_type": "code",
      "execution_count": 99,
      "metadata": {
        "id": "Bxh2OimkalSC"
      },
      "outputs": [],
      "source": [
        "# LLMChain to write the thank you note at the end of our video\n",
        "template = \"\"\"Please come up with a creative and zany ending quote from our narrator.\n",
        "The script is what the narrator just read. We want to close things out in less than 30 words.\n",
        "\n",
        "Make sure you add a \"And don't forget to like and subscribe!\" to the end of your output.\n",
        "\n",
        "You are a {narrator_adjectives} narrator.\n",
        "\n",
        "Script:\n",
        "{script}\n",
        "Ending quote:\n",
        "\"\"\"\n",
        "\n",
        "system_message_prompt = SystemMessage(content=\"You are a helpful assistant.\")\n",
        "human_message_prompt = HumanMessagePromptTemplate(prompt=PromptTemplate(\n",
        "                                                  template=template,\n",
        "                                                  input_variables=[\"script\", \"narrator_adjectives\"]))\n",
        "chat_prompt_template = ChatPromptTemplate.from_messages([system_message_prompt, human_message_prompt])\n",
        "ending_quote_chain = LLMChain(llm=chat, prompt=chat_prompt_template, output_key='ending_quote')\n",
        "\n",
        "# ending_quote = ending_quote_chain.run({\"script\": script, \"narrator_adjectives\": NARRATOR_ADJECTIVES})\n",
        "# print(ending_quote)"
      ]
    },
    {
      "cell_type": "code",
      "execution_count": 100,
      "metadata": {
        "id": "it9cAOOKbDiL"
      },
      "outputs": [],
      "source": [
        "# LLMChain to create the prediction that generates the audio for the thank you note\n",
        "def transform_func(inputs: dict) -> dict:\n",
        "  audio_model = replicate.models.get(\"suno-ai/bark\")\n",
        "  audio_version = audio_model.versions.get(\"b76242b40d67c76ab6742e987628a2a9ac019e11d56ab96c4e91ce03b79b2787\")\n",
        "  ending_quote_prediction = replicate.predictions.create(version=audio_version,\n",
        "                                                      input={\"prompt\": inputs['ending_quote'], \"history_prompt\": \"announcer\", \"text_temp\": 0.7, \"waveform_temp\":0.8}) #en_speaker_6 female, loud\n",
        "  return {'ending_quote_prediction': ending_quote_prediction}\n",
        "\n",
        "ending_quote_prediction_chain = TransformChain(input_variables=['ending_quote'], output_variables=['ending_quote_prediction'], transform=transform_func)\n",
        "\n",
        "# ending_quote_prediction = ending_quote_prediction_chain.run({\"ending_quote\": ending_quote})\n",
        "# print(ending_quote_prediction)\n",
        "\n",
        "#chain_output['ending_quote_prediction'].output['audio_out']\n"
      ]
    },
    {
      "cell_type": "code",
      "execution_count": 101,
      "metadata": {
        "id": "xZ9cJ6ZLbj-u"
      },
      "outputs": [],
      "source": [
        "# LLMChain to create the prediction that generates the audio for the title\n",
        "def transform_func(inputs: dict) -> dict:\n",
        "  audio_model = replicate.models.get(\"suno-ai/bark\")\n",
        "  audio_version = audio_model.versions.get(\"b76242b40d67c76ab6742e987628a2a9ac019e11d56ab96c4e91ce03b79b2787\")\n",
        "  title_prediction = replicate.predictions.create(version=audio_version,\n",
        "                                                      input={\"prompt\": inputs['title'],\"history_prompt\": \"announcer\", \"text_temp\": 0.7, \"waveform_temp\":0.8})\n",
        "  return {'title_audio_prediction': title_prediction}\n",
        "\n",
        "title_audio_prediction_chain = TransformChain(input_variables=['title'], output_variables=['title_audio_prediction'], transform=transform_func)\n",
        "\n",
        "# title_audio_prediction = title_audio_prediction_chain.run({\"title\": title})\n",
        "# print(title_audio_prediction)\n"
      ]
    },
    {
      "cell_type": "code",
      "execution_count": 102,
      "metadata": {
        "colab": {
          "base_uri": "https://localhost:8080/"
        },
        "id": "HZEqPPk5b_NU",
        "outputId": "c7073bb2-ef0b-4169-bb39-baa313de4fe3"
      },
      "outputs": [
        {
          "output_type": "stream",
          "name": "stdout",
          "text": [
            "id='d2vvlojbnqejemqfp7khbth7va' error=None input={'prompt': 'kids friendly random music'} logs='' output=None status='starting' version=Version(id='8cf61ea6c56afd61d8f5b9ffd14d7c216c0a93844ce2d82ac1c9ecc9c7f24e05', created_at=datetime.datetime(2022, 12, 16, 7, 48, 40, 890140, tzinfo=datetime.timezone.utc), cog_version='0.6.1', openapi_schema={'info': {'title': 'Cog', 'version': '0.1.0'}, 'paths': {'/': {'get': {'summary': 'Root', 'responses': {'200': {'content': {'application/json': {'schema': {}}}, 'description': 'Successful Response'}}, 'operationId': 'root__get'}}, '/predictions': {'post': {'summary': 'Predict', 'responses': {'200': {'content': {'application/json': {'schema': {'$ref': '#/components/schemas/PredictionResponse'}}}, 'description': 'Successful Response'}, '422': {'content': {'application/json': {'schema': {'$ref': '#/components/schemas/HTTPValidationError'}}}, 'description': 'Validation Error'}}, 'description': 'Run a single prediction on the model', 'operationId': 'predict_predictions_post', 'requestBody': {'content': {'application/json': {'schema': {'$ref': '#/components/schemas/PredictionRequest'}}}}}}}, 'openapi': '3.0.2', 'components': {'schemas': {'Input': {'type': 'object', 'title': 'Input', 'properties': {'alpha': {'type': 'number', 'title': 'Alpha', 'default': 0.5, 'maximum': 1, 'minimum': 0, 'x-order': 3, 'description': 'Interpolation alpha if using two prompts. A value of 0 uses prompt_a fully, a value of 1 uses prompt_b fully'}, 'prompt_a': {'type': 'string', 'title': 'Prompt A', 'default': 'funky synth solo', 'x-order': 0, 'description': 'The prompt for your audio'}, 'prompt_b': {'type': 'string', 'title': 'Prompt B', 'x-order': 2, 'description': 'The second prompt to interpolate with the first, leave blank if no interpolation'}, 'denoising': {'type': 'number', 'title': 'Denoising', 'default': 0.75, 'maximum': 1, 'minimum': 0, 'x-order': 1, 'description': 'How much to transform input spectrogram'}, 'seed_image_id': {'allOf': [{'$ref': '#/components/schemas/seed_image_id'}], 'default': 'vibes', 'x-order': 5, 'description': 'Seed spectrogram to use'}, 'num_inference_steps': {'type': 'integer', 'title': 'Num Inference Steps', 'default': 50, 'minimum': 1, 'x-order': 4, 'description': 'Number of steps to run the diffusion model'}}}, 'Output': {'type': 'object', 'title': 'Output', 'required': ['audio', 'spectrogram'], 'properties': {'audio': {'type': 'string', 'title': 'Audio', 'format': 'uri'}, 'spectrogram': {'type': 'string', 'title': 'Spectrogram', 'format': 'uri'}}}, 'Status': {'enum': ['processing', 'succeeded', 'canceled', 'failed'], 'type': 'string', 'title': 'Status', 'description': 'An enumeration.'}, 'WebhookEvent': {'enum': ['start', 'output', 'logs', 'completed'], 'type': 'string', 'title': 'WebhookEvent', 'description': 'An enumeration.'}, 'seed_image_id': {'enum': ['agile', 'marim', 'mask_beat_lines_80', 'mask_gradient_dark', 'mask_gradient_top_70', 'mask_graident_top_fifth_75', 'mask_top_third_75', 'mask_top_third_95', 'motorway', 'og_beat', 'vibes'], 'type': 'string', 'title': 'seed_image_id', 'description': 'An enumeration.'}, 'ValidationError': {'type': 'object', 'title': 'ValidationError', 'required': ['loc', 'msg', 'type'], 'properties': {'loc': {'type': 'array', 'items': {'anyOf': [{'type': 'string'}, {'type': 'integer'}]}, 'title': 'Location'}, 'msg': {'type': 'string', 'title': 'Message'}, 'type': {'type': 'string', 'title': 'Error Type'}}}, 'PredictionRequest': {'type': 'object', 'title': 'PredictionRequest', 'properties': {'id': {'type': 'string', 'title': 'Id'}, 'input': {'$ref': '#/components/schemas/Input'}, 'webhook': {'type': 'string', 'title': 'Webhook', 'format': 'uri', 'maxLength': 65536, 'minLength': 1}, 'created_at': {'type': 'string', 'title': 'Created At', 'format': 'date-time'}, 'output_file_prefix': {'type': 'string', 'title': 'Output File Prefix'}, 'webhook_events_filter': {'type': 'array', 'items': {'$ref': '#/components/schemas/WebhookEvent'}, 'default': ['output', 'completed', 'start', 'logs'], 'uniqueItems': True}}}, 'PredictionResponse': {'type': 'object', 'title': 'PredictionResponse', 'properties': {'id': {'type': 'string', 'title': 'Id'}, 'logs': {'type': 'string', 'title': 'Logs'}, 'error': {'type': 'string', 'title': 'Error'}, 'input': {'$ref': '#/components/schemas/Input'}, 'output': {'$ref': '#/components/schemas/Output'}, 'status': {'$ref': '#/components/schemas/Status'}, 'created_at': {'type': 'string', 'title': 'Created At', 'format': 'date-time'}, 'started_at': {'type': 'string', 'title': 'Started At', 'format': 'date-time'}, 'completed_at': {'type': 'string', 'title': 'Completed At', 'format': 'date-time'}}}, 'HTTPValidationError': {'type': 'object', 'title': 'HTTPValidationError', 'properties': {'detail': {'type': 'array', 'items': {'$ref': '#/components/schemas/ValidationError'}, 'title': 'Detail'}}}}}}) started_at=None created_at='2023-07-05T02:53:55.771229607Z' completed_at=None\n"
          ]
        }
      ],
      "source": [
        "# LLMChain to create the prediction that generates the background music\n",
        "def transform_func(inputs: dict) -> dict:\n",
        "  model = replicate.models.get(\"riffusion/riffusion\")\n",
        "  version = model.versions.get(\"8cf61ea6c56afd61d8f5b9ffd14d7c216c0a93844ce2d82ac1c9ecc9c7f24e05\")\n",
        "  music_prediction = replicate.predictions.create(version=version, input={\"prompt\": inputs['music_style']})\n",
        "\n",
        "  return {'music_prediction': music_prediction}\n",
        "\n",
        "music_prediction_chain = TransformChain(input_variables=['music_style'], output_variables=['music_prediction'], transform=transform_func)\n",
        "\n",
        "music_prediction = music_prediction_chain.run({\"music_style\": MUSIC_STYLE})\n",
        "print(music_prediction)"
      ]
    },
    {
      "cell_type": "markdown",
      "metadata": {
        "id": "m4lb38nOcOy0"
      },
      "source": [
        "## Run the chain\n",
        "\n",
        "Now, let's execute the chain we created. This is relatively fast, because the chains that create long-running predictions (like the video_predictions_chain) make asynchronous calls to the Replicate API."
      ]
    },
    {
      "cell_type": "code",
      "execution_count": null,
      "metadata": {
        "colab": {
          "base_uri": "https://localhost:8080/"
        },
        "id": "5cj-nTemcW_t",
        "outputId": "a5f0e799-a56b-4f87-a45d-28f1ea12a464"
      },
      "outputs": [
        {
          "output_type": "stream",
          "name": "stdout",
          "text": [
            "\n",
            "\n",
            "\u001b[1m> Entering new  chain...\u001b[0m\n",
            "{'character_descriptions': [{'name': 'Tommy', 'description': 'A small green turtle with a proud expression.'}], 'scene_description': 'An endless blue ocean with colorful coral reefs.'}\n",
            "Creating video prediction for 'An endless blue ocean with colorful coral reefs.'...\n",
            "{'character_descriptions': [{'name': 'Tommy', 'description': 'A small green turtle with a proud expression.'}], 'scene_description': 'Tommy exploring the ocean depths with sunlight filtering through the water.'}\n",
            "Creating video prediction for 'Tommy,A small green turtle with a proud expression. exploring the ocean depths with sunlight filtering through the water.'...\n",
            "{'character_descriptions': [{'name': 'Tommy', 'description': 'A small green turtle with a proud expression.'}, {'name': 'Clownfish', 'description': 'Bright orange fish with white stripes, trapped in a fishing net.'}], 'scene_description': 'Tommy finding his trapped friends, surrounded by colorful coral and the shimmering net.'}\n",
            "Creating video prediction for 'Tommy,A small green turtle with a proud expression. finding his trapped friends, surrounded by colorful coral and the shimmering net.'...\n",
            "{'character_descriptions': [{'name': 'Tommy', 'description': 'A small green turtle with a proud expression.'}], 'scene_description': 'Tommy summoning courage to bite through the net and release the clownfish.'}\n",
            "Creating video prediction for 'Tommy,A small green turtle with a proud expression. summoning courage to bite through the net and release the clownfish.'...\n",
            "{'character_descriptions': [{'name': 'Tommy', 'description': 'A small green turtle with a proud expression.'}], 'scene_description': 'The freed clownfish thanking Tommy with joy and gratitude.'}\n",
            "Creating video prediction for 'The freed clownfish thanking Tommy,A small green turtle with a proud expression. with joy and gratitude.'...\n",
            "{'character_descriptions': [{'name': 'Tommy', 'description': 'A small green turtle with a proud expression.'}], 'scene_description': \"News of Tommy's bravery spreads among the ocean creatures.\"}\n",
            "Creating video prediction for 'News of Tommy,A small green turtle with a proud expression.'s bravery spreads among the ocean creatures.'...\n",
            "{'character_descriptions': [{'name': 'Tommy', 'description': 'A small green turtle with a proud expression.'}, {'name': 'Dolphins', 'description': \"A group of playful dolphins, eager for Tommy's help.\"}], 'scene_description': 'Tommy joined by dolphins on an expedition to save a lost baby dolphin.'}\n",
            "Creating video prediction for 'Tommy,A small green turtle with a proud expression. joined by dolphins on an expedition to save a lost baby dolphin.'...\n",
            "{'character_descriptions': [{'name': 'Tommy', 'description': 'A small green turtle with a proud expression.'}, {'name': 'Baby Dolphin', 'description': 'A cute, lost baby dolphin, anxiously awaiting rescue.'}], 'scene_description': 'Tommy leading the dolphins through a maze of crystal-clear waters to find the lost baby.'}\n",
            "Creating video prediction for 'Tommy,A small green turtle with a proud expression. leading the dolphins through a maze of crystal-clear waters to find the lost baby.'...\n",
            "{'character_descriptions': [{'name': 'Tommy', 'description': 'A small green turtle with a proud expression.'}], 'scene_description': 'The joyous reunion of the baby dolphin with its family, surrounded by happy dolphins and Tommy.'}\n",
            "Creating video prediction for 'The joyous reunion of the baby dolphin with its family, surrounded by happy dolphins and Tommy,A small green turtle with a proud expression..'...\n",
            "{'character_descriptions': [{'name': 'Tommy', 'description': 'A small green turtle with a proud expression.'}], 'scene_description': 'Tommy being cheered as a hero of the ocean, surrounded by grateful sea creatures.'}\n",
            "Creating video prediction for 'Tommy,A small green turtle with a proud expression. being cheered as a hero of the ocean, surrounded by grateful sea creatures.'...\n",
            "Creating audio prediction for 'Once upon a time, in the vast blue ocean, there lived a brave little turtle named Tommy.''...\n",
            "Creating audio prediction for 'Tommy was always curious and loved exploring the ocean depths.''...\n",
            "Creating audio prediction for 'One day, while swimming near a coral reef, Tommy discovered that his friends, the clownfish, were trapped in a fishing net.''...\n",
            "Creating audio prediction for 'Tommy knew he had to help them despite being scared.''...\n",
            "Creating audio prediction for 'With great courage, Tommy dived into action, biting through the net to free his friends.''...\n",
            "Creating audio prediction for 'The clownfish were grateful and praised Tommy for his bravery.''...\n",
            "Creating audio prediction for 'Word of Tommy's heroic act spread among the ocean creatures.''...\n",
            "Creating audio prediction for 'Soon, a group of dolphins sought Tommy's help to rescue a lost baby dolphin.''...\n",
            "Creating audio prediction for 'Tommy gathered his strength and fearlessly led the dolphins to find the little one.''...\n",
            "Creating audio prediction for 'The baby dolphin was reunited with its family, and Tommy became a hero of the ocean.''...\n"
          ]
        }
      ],
      "source": [
        "# Run the chain\n",
        "overall_chain = SequentialChain(chains=[\n",
        "    #script_chain,\n",
        "                                        title_chain,\n",
        "                                        video_predictions_chain,\n",
        "                                        audio_predictions_chain,\n",
        "                                        ending_quote_chain,\n",
        "                                        ending_quote_prediction_chain,\n",
        "                                        title_image_chain,\n",
        "                                        title_audio_prediction_chain,\n",
        "                                        music_prediction_chain\n",
        "                                        ], input_variables=['script', 'topic', 'narrator_adjectives', 'music_style'], output_variables=[\n",
        "                                            #'script',\n",
        "                                            'title', 'video_predictions', 'audio_predictions', 'ending_quote', 'title_image', 'ending_quote_prediction', 'title_audio_prediction', 'music_prediction'], verbose=True)\n",
        "chain_output = overall_chain({\"script\":script, \"topic\": TOPIC, \"narrator_adjectives\": NARRATOR_ADJECTIVES, \"music_style\": MUSIC_STYLE})"
      ]
    },
    {
      "cell_type": "code",
      "execution_count": null,
      "metadata": {
        "id": "_qy6_gb3iQVF"
      },
      "outputs": [],
      "source": [
        "# unpack outputs\n",
        "script = chain_output['script']\n",
        "title = script['title']\n",
        "split_script = script['paragraphs']\n",
        "video_descriptions = script['visual_descriptions']\n",
        "video_predictions = chain_output['video_predictions']\n",
        "audio_predictions = chain_output['audio_predictions']\n",
        "\n",
        "# print(title)\n",
        "# print(split_script)\n",
        "# print(video_descriptions)\n",
        "# print(video_predictions)\n",
        "# print(audio_predictions)"
      ]
    },
    {
      "cell_type": "code",
      "execution_count": null,
      "metadata": {
        "id": "PcdrKjxgjEY8"
      },
      "outputs": [],
      "source": [
        "# sanity check\n",
        "assert len(split_script) == len(video_descriptions)"
      ]
    },
    {
      "cell_type": "markdown",
      "metadata": {
        "id": "65lEfaahjOYz"
      },
      "source": [
        "# ⏳ Wait for our async predictions to complete\n",
        "Here's a helper to check in on our predictions. This usually takes a minute or two."
      ]
    },
    {
      "cell_type": "code",
      "execution_count": null,
      "metadata": {
        "id": "TCSfv_LPjP2b"
      },
      "outputs": [],
      "source": [
        "def all_done(predictions):\n",
        "    return set([p.status for p in predictions]) == {'succeeded'}"
      ]
    },
    {
      "cell_type": "code",
      "execution_count": null,
      "metadata": {
        "id": "ca5eiUYxjTay"
      },
      "outputs": [],
      "source": [
        "all_predictions = chain_output['video_predictions'] + \\\n",
        "                  chain_output['audio_predictions'] + \\\n",
        "                  [chain_output['ending_quote_prediction']] + \\\n",
        "                  [chain_output['title_audio_prediction']] + \\\n",
        "                  [chain_output['music_prediction']]"
      ]
    },
    {
      "cell_type": "code",
      "execution_count": null,
      "metadata": {
        "id": "jxKwLD-yjZ81"
      },
      "outputs": [],
      "source": [
        "done = False\n",
        "\n",
        "while not done:\n",
        "  [p.reload() for p in all_predictions]\n",
        "  for p in all_predictions:\n",
        "    print(f'https://replicate.com/p/{p.id}', p.status)\n",
        "  done = all_done(all_predictions)\n",
        "  time.sleep(2)\n",
        "  output.clear()\n",
        "\n",
        "print(\"Predictions complete\")"
      ]
    },
    {
      "cell_type": "markdown",
      "metadata": {
        "id": "tPbUIOPtjfjk"
      },
      "source": [
        "# 🪡 Stitch them all together!"
      ]
    },
    {
      "cell_type": "code",
      "execution_count": null,
      "metadata": {
        "id": "UnydT92Hjh-W"
      },
      "outputs": [],
      "source": [
        "video_urls = [v.output for v in video_predictions]\n",
        "audio_urls = [a.output['audio_out'] for a in audio_predictions]\n",
        "music_url = chain_output['music_prediction'].output['audio']\n",
        "subtitles = split_script\n",
        "title_image_url = chain_output['title_image']\n",
        "title_audio_url = chain_output['title_audio_prediction'].output['audio_out']\n",
        "\n",
        "video_urls\n"
      ]
    },
    {
      "cell_type": "code",
      "execution_count": null,
      "metadata": {
        "id": "E6WO3an_0423"
      },
      "outputs": [],
      "source": [
        "## slow down the audio urls\n",
        "\n",
        "import requests\n",
        "import os\n",
        "\n",
        "def slow_down_audio(input_file, output_file, slowdown_factor):\n",
        "    # Load the audio file\n",
        "    audio = AudioSegment.from_wav(input_file)\n",
        "\n",
        "    # Calculate the new length of the audio\n",
        "    new_length = int(len(audio) / slowdown_factor)\n",
        "\n",
        "    # Stretch the audio by duplicating frames\n",
        "    slowed_audio = audio._spawn(audio.raw_data, overrides={\n",
        "        \"frame_rate\": int(audio.frame_rate * slowdown_factor)\n",
        "    })\n",
        "\n",
        "    # Export the modified audio to a file\n",
        "    slowed_audio.export(output_file, format=\"mp3\")\n",
        "    print(\"Slowdown complete. Output file:\", output_file)\n",
        "\n",
        "slowdown_factor = 0.96"
      ]
    },
    {
      "cell_type": "code",
      "execution_count": null,
      "metadata": {
        "id": "Djhj0wMm8G4F"
      },
      "outputs": [],
      "source": [
        "audio_files = []\n",
        "\n",
        "for i, url in enumerate(audio_urls):\n",
        "    response = requests.get(url)\n",
        "    audio_filename = f\"temp_audio{i}.wav\"\n",
        "    with open(audio_filename, \"wb\") as audio_file:\n",
        "        audio_file.write(response.content)\n",
        "\n",
        "    # Generate the output file name\n",
        "    output_file = os.path.join(audio_filename.replace(\".wav\", \".mp3\"))\n",
        "\n",
        "    # Call the slow_down_audio function\n",
        "    slow_down_audio(audio_filename, output_file, slowdown_factor)\n",
        "\n",
        "    # Append the output file name to the array\n",
        "    audio_files.append(output_file)\n",
        "    #audio_files.append(audio_filename)"
      ]
    },
    {
      "cell_type": "code",
      "execution_count": null,
      "metadata": {
        "id": "ItggQVmkkBDH"
      },
      "outputs": [],
      "source": [
        "import requests\n",
        "import os\n",
        "import moviepy.editor as mp\n",
        "import moviepy.video.fx.all as vfx\n",
        "import textwrap\n",
        "from moviepy.editor import *\n",
        "from PIL import Image, ImageDraw, ImageFont\n",
        "from io import BytesIO\n",
        "import numpy as np\n",
        "\n",
        "\n",
        "# Download video and audio files\n",
        "video_files = []\n",
        "audio_files = []\n",
        "# for i, url in enumerate(video_urls):\n",
        "#     response = requests.get(url)\n",
        "#     video_filename = f\"temp_video{i}.mp4\"\n",
        "#     with open(video_filename, \"wb\") as video_file:\n",
        "#         video_file.write(response.content)\n",
        "#     video_files.append(video_filename)\n",
        "fps = 12.0\n",
        "for i, url in enumerate(video_urls):\n",
        "    response = requests.get(url[0])\n",
        "    image = Image.open(BytesIO(response.content))\n",
        "    image_np = np.array(image)\n",
        "    clip = mp.ImageSequenceClip([image_np], fps=fps)\n",
        "    video_filename = f\"temp_video{i}.mp4\"\n",
        "    clip.write_videofile(video_filename, codec='libx264', fps=fps)\n",
        "    #with open(video_filename, \"wb\") as video_file:\n",
        "        #video_file.write(response.content)\n",
        "    video_files.append(video_filename)\n",
        "\n",
        "for i, url in enumerate(audio_urls):\n",
        "    response = requests.get(url)\n",
        "    audio_filename = f\"temp_audio{i}.wav\"\n",
        "    with open(audio_filename, \"wb\") as audio_file:\n",
        "        audio_file.write(response.content)\n",
        "\n",
        "    # Generate the output file name\n",
        "    output_file = os.path.join(audio_filename.replace(\".wav\", \".mp3\"))\n",
        "\n",
        "    # Call the slow_down_audio function\n",
        "    slow_down_audio(audio_filename, output_file, slowdown_factor)\n",
        "\n",
        "    # Append the output file name to the array\n",
        "    audio_files.append(output_file)\n",
        "    #audio_files.append(audio_filename)\n",
        "\n",
        "# Load and process video and audio files\n",
        "\n",
        "processed_videos = []\n",
        "for i, audio_file in enumerate(audio_files):\n",
        "    video = mp.VideoFileClip(video_files[i])\n",
        "    audio = mp.AudioFileClip(audio_file)\n",
        "\n",
        "    # Loop the video for the duration of the audio\n",
        "    looped_video = mp.concatenate_videoclips([video] * int(audio.duration // video.duration + 1))\n",
        "\n",
        "    # Set the audio of the video to the audio file\n",
        "    video_with_audio = looped_video.set_audio(audio)\n",
        "    processed_videos.append(video_with_audio)\n",
        "\n",
        "# Concatenate all the processed videos\n",
        "final_video = mp.concatenate_videoclips(processed_videos)\n",
        "\n",
        "## The following adds the title image / narration to the video.\n",
        "# Add this function to create the text image\n",
        "def txt_image(img, txt, font_size, color):\n",
        "    image = img.copy()\n",
        "    draw = ImageDraw.Draw(image)\n",
        "    draw.text((50, 50), txt, fill=(255, 255, 0))\n",
        "    # font = ImageFont.load_default().font_variant(size=font_size)\n",
        "    # draw.text((50, 50), txt, font=font, fill=color)\n",
        "    return image\n",
        "\n",
        "# Download and create the image clip\n",
        "image_url = title_image_url\n",
        "response = requests.get(image_url)\n",
        "img = Image.open(BytesIO(response.content))\n",
        "\n",
        "# Resize the image to match the video dimensions\n",
        "img_resized = img.resize((1200, 900))\n",
        "\n",
        "# Download the audio file\n",
        "audio_url = chain_output['ending_quote_prediction'].output['audio_out']\n",
        "response = requests.get(audio_url)\n",
        "audio_filename = \"temp_audio_ending.wav\"\n",
        "with open(audio_filename, \"wb\") as audio_file:\n",
        "    audio_file.write(response.content)\n",
        "\n",
        "# Generate the output file name\n",
        "output_file = os.path.join(audio_filename.replace(\".wav\", \".mp3\"))\n",
        "\n",
        "# Call the slow_down_audio function\n",
        "slow_down_audio(audio_filename, output_file, slowdown_factor)\n",
        "\n",
        "# Create the audio clip\n",
        "audio_ending = AudioFileClip(output_file)\n",
        "\n",
        "# make title empty for now, couldn't figure out how to get it bigger\n",
        "text = chain_output['title']\n",
        "img_text = ImageClip(np.asarray(txt_image(img_resized, txt='text', font_size=72, color=\"white\")), duration=4)\n",
        "\n",
        "# Set the audio of the image clip to the audio file and trim it to the same duration\n",
        "img_text_audio_ending = mp.concatenate_videoclips([img_text] * int(audio_ending.duration // img_text.duration + 1))\n",
        "img_text_audio_ending = img_text.set_audio(audio_ending)\n",
        "\n",
        "# Download the title page audio file\n",
        "audio_url = chain_output['title_audio_prediction'].output['audio_out']\n",
        "response = requests.get(audio_url)\n",
        "with open(\"temp_audio_title.mp3\", \"wb\") as audio_file:\n",
        "    audio_file.write(response.content)\n",
        "\n",
        "# Create the audio clip\n",
        "audio_beginning = AudioFileClip(\"temp_audio_title.mp3\")\n",
        "\n",
        "# Set the audio of the image clip to the audio file and trim it to the same duration\n",
        "img_text_audio_beginning = mp.concatenate_videoclips([img_text] * int(audio_beginning.duration // img_text.duration + 1))\n",
        "img_text_audio_beginning = img_text.set_audio(audio_beginning)\n",
        "\n",
        "# Concatenate the image clip with the processed videos\n",
        "width, height = processed_videos[0].size\n",
        "title_video = img_text_audio_beginning.resize((width, height))\n",
        "ending_video = img_text_audio_ending.resize((width, height))\n",
        "\n",
        "# processed_videos.insert(0, title_video)\n",
        "processed_videos.append(ending_video)\n",
        "\n",
        "final_video = concatenate_videoclips(processed_videos)\n",
        "\n",
        "# Download the background audio file\n",
        "bg_audio_url = music_url\n",
        "response = requests.get(bg_audio_url)\n",
        "with open(\"temp_bg_audio.mp3\", \"wb\") as audio_file:\n",
        "    audio_file.write(response.content)\n",
        "\n",
        "# Create the background audio clip\n",
        "bg_audio = AudioFileClip(\"temp_bg_audio.mp3\")\n",
        "\n",
        "# Calculate the duration of the final video\n",
        "video_duration = final_video.duration\n",
        "\n",
        "# Loop the background audio to match the final video's duration\n",
        "bg_audio_looped = bg_audio.fx(afx.audio_loop, duration=video_duration)\n",
        "bg_audio_looped = bg_audio_looped.volumex(0.3)\n",
        "\n",
        "# Overlay the background audio with the audio from the final video\n",
        "final_audio = CompositeAudioClip([final_video.audio, bg_audio_looped])\n",
        "\n",
        "# Set the audio of the final video to the combined audio\n",
        "final_video_with_bg_audio = final_video.set_audio(final_audio)\n",
        "\n",
        "# Save the final video\n",
        "final_video_with_bg_audio.write_videofile(f\"how_to.mp4\", codec='libx264', audio_codec='aac')\n",
        "\n",
        "# Clean up temporary files\n",
        "for video_file, audio_file in zip(video_files, audio_files):\n",
        "    os.remove(video_file)\n",
        "# for audio_file in audio_files:\n",
        "#     os.remove(audio_file)"
      ]
    },
    {
      "cell_type": "code",
      "execution_count": null,
      "metadata": {
        "id": "xQW6Eyoxkdbn"
      },
      "outputs": [],
      "source": [
        "#@title Watch the video\n",
        "from IPython.display import HTML\n",
        "from base64 import b64encode\n",
        "mp4 = open(f'how_to.mp4','rb').read()\n",
        "data_url = \"data:video/mp4;base64,\" + b64encode(mp4).decode()\n",
        "HTML(\"\"\"\n",
        "<video width=400 controls>\n",
        "      <source src=\"%s\" type=\"video/mp4\">\n",
        "</video>\n",
        "\"\"\" % data_url)"
      ]
    },
    {
      "cell_type": "code",
      "execution_count": null,
      "metadata": {
        "id": "lDbxU6osnxmg"
      },
      "outputs": [],
      "source": [
        "chain_output['ending_quote_prediction'].output['audio_out']"
      ]
    }
  ],
  "metadata": {
    "colab": {
      "provenance": [],
      "collapsed_sections": [
        "jAh_gNJxOFuS"
      ],
      "authorship_tag": "ABX9TyPCf5dI9cDaCikIVMqxcrjq",
      "include_colab_link": true
    },
    "kernelspec": {
      "display_name": "Python 3",
      "name": "python3"
    },
    "language_info": {
      "name": "python"
    }
  },
  "nbformat": 4,
  "nbformat_minor": 0
}