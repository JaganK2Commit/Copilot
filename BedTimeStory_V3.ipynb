{
  "cells": [
    {
      "cell_type": "markdown",
      "metadata": {
        "id": "view-in-github",
        "colab_type": "text"
      },
      "source": [
        "<a href=\"https://colab.research.google.com/github/JaganK2Commit/Copilot/blob/main/BedTimeStory_V3.ipynb\" target=\"_parent\"><img src=\"https://colab.research.google.com/assets/colab-badge.svg\" alt=\"Open In Colab\"/></a>"
      ]
    },
    {
      "cell_type": "markdown",
      "metadata": {
        "id": "J9Rp69NTNkeD"
      },
      "source": [
        "### What should be the video be about ?\n"
      ]
    },
    {
      "cell_type": "code",
      "execution_count": 1,
      "metadata": {
        "id": "nhS-O7xhNX4w"
      },
      "outputs": [],
      "source": [
        "NARRATOR_ADJECTIVES = \"story teller\"\n",
        "MUSIC_STYLE = \"kids friendly random music\""
      ]
    },
    {
      "cell_type": "markdown",
      "source": [
        "## Tools and Models used in this notebook\n",
        "\n",
        "Tools and models used in this script\n",
        "\n",
        "| Task                | Service         | Model              |\n",
        "|---------------------|-----------------|--------------------|\n",
        "| Script generation   | OpenAI API      | gpt-3.5-turbo      |\n",
        "| Text to Image       | Replicate AI API| ai-forever/kandinsky-2 |\n",
        "| Text to Audio       | Replicate AI API| suno-ai/bark |\n",
        "| Text to Audio       | Resemble AI API| - |\n"
      ],
      "metadata": {
        "id": "1VrFgBX2BreD"
      }
    },
    {
      "cell_type": "markdown",
      "metadata": {
        "id": "jAh_gNJxOFuS"
      },
      "source": [
        "### Install the dependencies"
      ]
    },
    {
      "cell_type": "code",
      "execution_count": 2,
      "metadata": {
        "id": "8C6O9QF0OLrJ"
      },
      "outputs": [],
      "source": [
        "!pip install replicate\n",
        "!pip install requests\n",
        "!pip install openai\n",
        "!pip install langchain\n",
        "!pip install moviepy\n",
        "!pip install ffmpeg --upgrade\n",
        "!pip install pydub\n",
        "!pip install resemble\n",
        "from google.colab import output\n",
        "output.clear()"
      ]
    },
    {
      "cell_type": "code",
      "execution_count": 3,
      "metadata": {
        "id": "7XdHue8kOWJB"
      },
      "outputs": [],
      "source": [
        "import os\n",
        "import openai\n",
        "import time\n",
        "import numpy as np\n",
        "import replicate\n",
        "import json"
      ]
    },
    {
      "cell_type": "code",
      "execution_count": 4,
      "metadata": {
        "id": "KNqChrMOOZc9"
      },
      "outputs": [],
      "source": [
        "from langchain.prompts import PromptTemplate\n",
        "from langchain.chains import LLMChain, SimpleSequentialChain, SequentialChain, TransformChain\n",
        "from langchain.llms import OpenAI, Replicate\n",
        "from langchain.chat_models import ChatOpenAI\n",
        "from langchain.prompts.chat import (\n",
        "    ChatPromptTemplate,\n",
        "    SystemMessagePromptTemplate,\n",
        "    AIMessagePromptTemplate,\n",
        "    HumanMessagePromptTemplate,\n",
        ")\n",
        "from langchain.schema import (\n",
        "    AIMessage,\n",
        "    HumanMessage,\n",
        "    SystemMessage\n",
        ")\n",
        "from pydub import AudioSegment"
      ]
    },
    {
      "cell_type": "markdown",
      "metadata": {
        "id": "GZKHE_PrOcTq"
      },
      "source": [
        "## Aquire Tokens for Replicate and OpenAI"
      ]
    },
    {
      "cell_type": "code",
      "execution_count": 5,
      "metadata": {
        "colab": {
          "base_uri": "https://localhost:8080/"
        },
        "id": "3o1AzkwaOh04",
        "outputId": "a66ce6b8-d821-45eb-f078-1382fabdae6a"
      },
      "outputs": [
        {
          "name": "stdout",
          "output_type": "stream",
          "text": [
            "··········\n"
          ]
        }
      ],
      "source": [
        "# get your token from https://replicate.com/account\n",
        "from getpass import getpass\n",
        "\n",
        "REPLICATE_API_TOKEN = getpass()\n",
        "os.environ[\"REPLICATE_API_TOKEN\"] = REPLICATE_API_TOKEN"
      ]
    },
    {
      "cell_type": "code",
      "execution_count": 6,
      "metadata": {
        "colab": {
          "base_uri": "https://localhost:8080/"
        },
        "id": "_5mKI7HROpuK",
        "outputId": "c99460b4-1909-4671-ea9a-d0416b327525"
      },
      "outputs": [
        {
          "name": "stdout",
          "output_type": "stream",
          "text": [
            "··········\n"
          ]
        }
      ],
      "source": [
        "# get your key from https://platform.openai.com/account/api-keys\n",
        "OPENAI_API_KEY = getpass()\n",
        "os.environ[\"OPENAI_API_KEY\"] = OPENAI_API_KEY\n",
        "openai.api_key = os.getenv(\"OPENAI_API_KEY\")"
      ]
    },
    {
      "cell_type": "code",
      "source": [
        "# get your key from https://app.resemble.ai/account/api\n",
        "from resemble import Resemble\n",
        "\n",
        "RESEMBLE_API_KEY = getpass()\n",
        "os.environ[\"RESEMEBLE_API_KEY\"] = RESEMBLE_API_KEY\n",
        "Resemble.api_key(os.environ['RESEMEBLE_API_KEY'])"
      ],
      "metadata": {
        "colab": {
          "base_uri": "https://localhost:8080/"
        },
        "id": "CUHVoT63DZFk",
        "outputId": "a5882bed-6570-4f13-8529-0f5120507a6f"
      },
      "execution_count": 7,
      "outputs": [
        {
          "name": "stdout",
          "output_type": "stream",
          "text": [
            "··········\n"
          ]
        }
      ]
    },
    {
      "cell_type": "markdown",
      "metadata": {
        "id": "94EOQygEO4xF"
      },
      "source": [
        "## Create the LongChain"
      ]
    },
    {
      "cell_type": "code",
      "execution_count": 34,
      "metadata": {
        "colab": {
          "base_uri": "https://localhost:8080/",
          "height": 345
        },
        "id": "x_IBFTV4O9qZ",
        "outputId": "68bf393b-04bc-4083-d4da-495a4a680d4f"
      },
      "outputs": [
        {
          "output_type": "error",
          "ename": "ValidationError",
          "evalue": "ignored",
          "traceback": [
            "\u001b[0;31m---------------------------------------------------------------------------\u001b[0m",
            "\u001b[0;31mValidationError\u001b[0m                           Traceback (most recent call last)",
            "\u001b[0;32m<ipython-input-34-6216d05e7e7a>\u001b[0m in \u001b[0;36m<cell line: 26>\u001b[0;34m()\u001b[0m\n\u001b[1;32m     24\u001b[0m \"\"\"\n\u001b[1;32m     25\u001b[0m \u001b[0msystem_message_prompt\u001b[0m \u001b[0;34m=\u001b[0m \u001b[0mSystemMessage\u001b[0m\u001b[0;34m(\u001b[0m\u001b[0mcontent\u001b[0m\u001b[0;34m=\u001b[0m\u001b[0;34m\"You are a story teller, shares wide range of fairy tales, bedtime stories, kids stories, and be creative in your responses\"\u001b[0m\u001b[0;34m)\u001b[0m\u001b[0;34m\u001b[0m\u001b[0;34m\u001b[0m\u001b[0m\n\u001b[0;32m---> 26\u001b[0;31m human_message_prompt = HumanMessagePromptTemplate(prompt=PromptTemplate(\n\u001b[0m\u001b[1;32m     27\u001b[0m                                                   \u001b[0mtemplate\u001b[0m\u001b[0;34m=\u001b[0m\u001b[0mtopic_template\u001b[0m\u001b[0;34m,\u001b[0m\u001b[0;34m\u001b[0m\u001b[0;34m\u001b[0m\u001b[0m\n\u001b[1;32m     28\u001b[0m                                                   \u001b[0minput_variables\u001b[0m\u001b[0;34m=\u001b[0m\u001b[0;34m[\u001b[0m\u001b[0;34m]\u001b[0m\u001b[0;34m\u001b[0m\u001b[0;34m\u001b[0m\u001b[0m\n",
            "\u001b[0;32m/usr/local/lib/python3.10/dist-packages/langchain/load/serializable.py\u001b[0m in \u001b[0;36m__init__\u001b[0;34m(self, **kwargs)\u001b[0m\n\u001b[1;32m     72\u001b[0m \u001b[0;34m\u001b[0m\u001b[0m\n\u001b[1;32m     73\u001b[0m     \u001b[0;32mdef\u001b[0m \u001b[0m__init__\u001b[0m\u001b[0;34m(\u001b[0m\u001b[0mself\u001b[0m\u001b[0;34m,\u001b[0m \u001b[0;34m**\u001b[0m\u001b[0mkwargs\u001b[0m\u001b[0;34m:\u001b[0m \u001b[0mAny\u001b[0m\u001b[0;34m)\u001b[0m \u001b[0;34m->\u001b[0m \u001b[0;32mNone\u001b[0m\u001b[0;34m:\u001b[0m\u001b[0;34m\u001b[0m\u001b[0;34m\u001b[0m\u001b[0m\n\u001b[0;32m---> 74\u001b[0;31m         \u001b[0msuper\u001b[0m\u001b[0;34m(\u001b[0m\u001b[0;34m)\u001b[0m\u001b[0;34m.\u001b[0m\u001b[0m__init__\u001b[0m\u001b[0;34m(\u001b[0m\u001b[0;34m**\u001b[0m\u001b[0mkwargs\u001b[0m\u001b[0;34m)\u001b[0m\u001b[0;34m\u001b[0m\u001b[0;34m\u001b[0m\u001b[0m\n\u001b[0m\u001b[1;32m     75\u001b[0m         \u001b[0mself\u001b[0m\u001b[0;34m.\u001b[0m\u001b[0m_lc_kwargs\u001b[0m \u001b[0;34m=\u001b[0m \u001b[0mkwargs\u001b[0m\u001b[0;34m\u001b[0m\u001b[0;34m\u001b[0m\u001b[0m\n\u001b[1;32m     76\u001b[0m \u001b[0;34m\u001b[0m\u001b[0m\n",
            "\u001b[0;32m/usr/local/lib/python3.10/dist-packages/pydantic/main.cpython-310-x86_64-linux-gnu.so\u001b[0m in \u001b[0;36mpydantic.main.BaseModel.__init__\u001b[0;34m()\u001b[0m\n",
            "\u001b[0;31mValidationError\u001b[0m: 1 validation error for PromptTemplate\n__root__\n  unmatched '{' in format spec (type=value_error)"
          ]
        }
      ],
      "source": [
        "# LLMChain to write a a script for our how-to video.\n",
        "topic_template = \"\"\"\n",
        "Generate a script for a short moral story for children of 5 to 7 years old.\n",
        "Write the story in JSON format with the following keys:\n",
        "\n",
        "\"title\": Title for the story, not exceeding 15 words\n",
        "\"description\":YouTube video description, not exceeding 50 words\n",
        "\"paragraphs\": A list of 15 paragraphs that make up the story\n",
        "\"visual_descriptions\": 15 visual descriptions corresponding to each paragraph. Each visual description is an array object with two keys character_descriptions, scene_description.\n",
        "Each character_descriptions has two keys name and a description of the characters. Name contain no adjectives\n",
        "\n",
        "Please make sure that each visual description includes both the character introductions and the scene descriptions to allow AI image tools to generate appropriate pictures for each scene.\n",
        "\n",
        "Thank you!\n",
        "\"\"\"\n",
        "system_message_prompt = SystemMessage(content=\"You are a story teller, shares wide range of fairy tales, bedtime stories, kids stories, and be creative in your responses\")\n",
        "human_message_prompt = HumanMessagePromptTemplate(prompt=PromptTemplate(\n",
        "                                                  template=topic_template,\n",
        "                                                  input_variables=[]\n",
        "                                                  ))\n",
        "\n",
        "# create the initial script\n",
        "chat = ChatOpenAI(temperature=0.99, model_name=\"gpt-3.5-turbo\")\n",
        "chat_prompt_template = ChatPromptTemplate.from_messages([human_message_prompt])\n",
        "script_chain = LLMChain(llm=chat, prompt=chat_prompt_template, output_key='script')\n",
        "\n",
        "script = script_chain.run({\"narrator_adjectives\": NARRATOR_ADJECTIVES, \"music_style\": MUSIC_STYLE})\n",
        "# data = json.loads(result)\n",
        "# script = data['paragraphs']\n",
        "# video_descriptions = data['video_descriptions']\n",
        "\n",
        "script_json = json.loads(script)\n",
        "print(len(script_json['paragraphs']))\n",
        "print(len(script_json['visual_descriptions']))\n",
        "assert len(script_json['paragraphs']) == len(script_json['visual_descriptions'])\n",
        "\n",
        "print(script)\n",
        "# print(chat_prompt_template)\n",
        "# print(video_descriptions)"
      ]
    },
    {
      "cell_type": "code",
      "source": [
        "script =  \"\"\"\n",
        "{\n",
        "  \"title\": \"The Wise Tortoise\",\n",
        "  \"description\": \"Join the wise tortoise on his journey to teach valuable life lessons in this heartwarming animated story for kids.\",\n",
        "  \"paragraphs\": [\n",
        "    \"Once upon a time, in a beautiful forest, lived a wise tortoise named Tim.\",\n",
        "    \"Tim was known for his wisdom and kindness, and all the animals respected him.\",\n",
        "    \"One day, Tim noticed a group of young rabbits playing near a deep river.\",\n",
        "    \"He warned them about the dangers of going too close to the water.\",\n",
        "    \"But the rabbits ignored his advice and continued playing.\",\n",
        "    \"Suddenly, one of the rabbits slipped and fell into the river.\",\n",
        "    \"The other rabbits panicked and didn't know what to do.\",\n",
        "    \"Tim quickly dove into the water and rescued the rabbit.\",\n",
        "    \"The rabbits realized their mistake and thanked Tim for saving their friend.\",\n",
        "    \"From that day on, the rabbits always listened to Tim's advice.\",\n",
        "    \"Word spread about Tim's bravery, and animals from all over the forest sought his guidance.\",\n",
        "    \"Tim taught them about the importance of listening, making wise decisions, and helping others.\",\n",
        "    \"The forest became a harmonious place where everyone lived in peace and harmony.\",\n",
        "    \"And it was all thanks to the wisdom of the humble tortoise, Tim.\",\n",
        "    \"The end.\"\n",
        "  ],\n",
        "  \"visual_descriptions\": [\n",
        "    {\n",
        "      \"character_descriptions\": [\n",
        "        {\n",
        "          \"name\": \"Tim\",\n",
        "          \"description\": \"A wise tortoise with a friendly smile\"\n",
        "        }\n",
        "      ],\n",
        "      \"scene_description\": \"A beautiful forest with tall trees and colorful flowers\"\n",
        "    },\n",
        "    {\n",
        "      \"character_descriptions\": [\n",
        "        {\n",
        "          \"name\": \"Tim\",\n",
        "          \"description\": \"A wise tortoise with a friendly smile\"\n",
        "        }\n",
        "      ],\n",
        "      \"scene_description\": \"Tim sitting under a tree, surrounded by other animals\"\n",
        "    },\n",
        "    {\n",
        "      \"character_descriptions\": [\n",
        "        {\n",
        "          \"name\": \"Tim\",\n",
        "          \"description\": \"A wise tortoise with a friendly smile\"\n",
        "        },\n",
        "        {\n",
        "          \"name\": \"rabbits\",\n",
        "          \"description\": \"A group of playful rabbits\"\n",
        "        }\n",
        "      ],\n",
        "      \"scene_description\": \"Tim observing the young rabbits playing near the river\"\n",
        "    },\n",
        "    {\n",
        "      \"character_descriptions\": [\n",
        "        {\n",
        "          \"name\": \"Tim\",\n",
        "          \"description\": \"A wise tortoise with a friendly smile\"\n",
        "        },\n",
        "        {\n",
        "          \"name\": \"rabbits\",\n",
        "          \"description\": \"A group of playful rabbits\"\n",
        "        }\n",
        "      ],\n",
        "      \"scene_description\": \"Tim warning the rabbits about the dangers of the deep river\"\n",
        "    },\n",
        "    {\n",
        "      \"character_descriptions\": [\n",
        "        {\n",
        "          \"name\": \"Tim\",\n",
        "          \"description\": \"A wise tortoise with a friendly smile\"\n",
        "        },\n",
        "        {\n",
        "          \"name\": \"rabbits\",\n",
        "          \"description\": \"A group of playful rabbits\"\n",
        "        }\n",
        "      ],\n",
        "      \"scene_description\": \"The rabbits ignoring Tim's advice and continuing to play near the river\"\n",
        "    },\n",
        "    {\n",
        "      \"character_descriptions\": [\n",
        "        {\n",
        "          \"name\": \"Tim\",\n",
        "          \"description\": \"A wise tortoise with a friendly smile\"\n",
        "        },\n",
        "        {\n",
        "          \"name\": \"Young rabbits\",\n",
        "          \"description\": \"A group of playful rabbits\"\n",
        "        }\n",
        "      ],\n",
        "      \"scene_description\": \"One of the rabbits slipping and falling into the deep river\"\n",
        "    },\n",
        "    {\n",
        "      \"character_descriptions\": [\n",
        "        {\n",
        "          \"name\": \"Tim\",\n",
        "          \"description\": \"A wise tortoise with a friendly smile\"\n",
        "        },\n",
        "        {\n",
        "          \"name\": \"Young rabbits\",\n",
        "          \"description\": \"A group of panicked rabbits\"\n",
        "        }\n",
        "      ],\n",
        "      \"scene_description\": \"The other rabbits panicking and not knowing what to do\"\n",
        "    },\n",
        "    {\n",
        "      \"character_descriptions\": [\n",
        "        {\n",
        "          \"name\": \"Tim\",\n",
        "          \"description\": \"A wise tortoise with a friendly smile\"\n",
        "        },\n",
        "        {\n",
        "          \"name\": \"Young rabbits\",\n",
        "          \"description\": \"A group of panicked rabbits\"\n",
        "        }\n",
        "      ],\n",
        "      \"scene_description\": \"Tim diving into the water and rescuing the rabbit\"\n",
        "    },\n",
        "    {\n",
        "      \"character_descriptions\": [\n",
        "        {\n",
        "          \"name\": \"Tim\",\n",
        "          \"description\": \"A wise tortoise with a friendly smile\"\n",
        "        },\n",
        "        {\n",
        "          \"name\": \"rabbits\",\n",
        "          \"description\": \"A group of grateful rabbits\"\n",
        "        }\n",
        "      ],\n",
        "      \"scene_description\": \"The rabbits thanking Tim for saving their friend\"\n",
        "    },\n",
        "    {\n",
        "      \"character_descriptions\": [\n",
        "        {\n",
        "          \"name\": \"Tim\",\n",
        "          \"description\": \"A wise tortoise with a friendly smile\"\n",
        "        }\n",
        "      ],\n",
        "      \"scene_description\": \"Animals from all over the forest seeking Tim's guidance\"\n",
        "    },\n",
        "    {\n",
        "      \"character_descriptions\": [\n",
        "        {\n",
        "          \"name\": \"Tim\",\n",
        "          \"description\": \"A wise tortoise with a friendly smile\"\n",
        "        }\n",
        "      ],\n",
        "      \"scene_description\": \"Tim teaching the animals about listening and making wise decisions\"\n",
        "    },\n",
        "    {\n",
        "      \"character_descriptions\": [\n",
        "        {\n",
        "          \"name\": \"Tim\",\n",
        "          \"description\": \"A wise tortoise with a friendly smile\"\n",
        "        }\n",
        "      ],\n",
        "      \"scene_description\": \"The forest filled with animals living in peace and harmony\"\n",
        "    },\n",
        "    {\n",
        "      \"character_descriptions\": [\n",
        "        {\n",
        "          \"name\": \"Tim\",\n",
        "          \"description\": \"A wise tortoise with a friendly smile\"\n",
        "        }\n",
        "      ],\n",
        "      \"scene_description\": \"Tim sitting under a tree, content with his contribution to the forest\"\n",
        "    },\n",
        "    {\n",
        "      \"character_descriptions\": [],\n",
        "      \"scene_description\": \"A beautiful forest with tall trees and colorful flowers\"\n",
        "    },\n",
        "    {\n",
        "      \"character_descriptions\": [],\n",
        "      \"scene_description\": \"The end screen with the words 'The End' and a peaceful forest background\"\n",
        "    }\n",
        "  ]\n",
        "}\n",
        "\"\"\"\n",
        "\n",
        "script = json.loads(script)"
      ],
      "metadata": {
        "id": "WM5yHx2JAo6u"
      },
      "execution_count": null,
      "outputs": []
    },
    {
      "cell_type": "markdown",
      "source": [
        "## Script Scrubbing"
      ],
      "metadata": {
        "id": "9Cvyj2tNu36n"
      }
    },
    {
      "cell_type": "code",
      "source": [
        "## Fill the characters_descriptions with the last known description for each paragraph\n",
        "\n",
        "def fill_character_descriptions(input_data):\n",
        "    character_descriptions = {}\n",
        "\n",
        "    for item in input_data[\"visual_descriptions\"]:\n",
        "        current_character_descriptions = item.get(\"character_descriptions\", [])\n",
        "        for character_description in current_character_descriptions:\n",
        "            character_name = character_description[\"name\"]\n",
        "            character_description_text = character_description.get(\"description\", '')\n",
        "            if(character_description_text != ''):\n",
        "              character_descriptions[character_name] = character_description_text\n",
        "\n",
        "    for item in input_data[\"visual_descriptions\"]:\n",
        "        updated_character_descriptions = []\n",
        "        current_character_descriptions = item.get(\"character_descriptions\", [])\n",
        "        for character_description in current_character_descriptions:\n",
        "            character_name = character_description[\"name\"]\n",
        "            if character_name in character_descriptions:\n",
        "                updated_character_description = {\n",
        "                    \"name\": character_name,\n",
        "                    \"description\": character_descriptions[character_name]\n",
        "                }\n",
        "                updated_character_descriptions.append(updated_character_description)\n",
        "        item[\"character_descriptions\"] = updated_character_descriptions\n",
        "\n",
        "    return input_data\n",
        "\n",
        "\n",
        "# Fill the character_descriptions with the last defined value\n",
        "script = fill_character_descriptions(json.loads(script))\n",
        "\n",
        "# Print the result\n",
        "# for item in filled_input_data['visual_descriptions']:\n",
        "#     print(item)"
      ],
      "metadata": {
        "id": "eWSbze0Hu1ux"
      },
      "execution_count": 11,
      "outputs": []
    },
    {
      "cell_type": "code",
      "execution_count": 12,
      "metadata": {
        "id": "PShF9cU9Tmi5"
      },
      "outputs": [],
      "source": [
        "# LLMChain to write a title for our video\n",
        "llm = OpenAI(temperature=.9)\n",
        "template = \"\"\"Please come up with a creative and zany title for the below how-to video script.\n",
        "Puns are encouraged. Don't include quotations (\") in the output.\n",
        "\n",
        "Script:\n",
        "{script}\n",
        "Title: \"\"\"\n",
        "prompt_template = PromptTemplate(input_variables=[\"script\"], template=template)\n",
        "title_chain = LLMChain(llm=llm, prompt=prompt_template, output_key='title')\n",
        "\n",
        "# title = title_chain.run({\"script\": script})\n",
        "# print(title)\n",
        "\n"
      ]
    },
    {
      "cell_type": "code",
      "execution_count": 13,
      "metadata": {
        "id": "w02ha9J8XpcE"
      },
      "outputs": [],
      "source": [
        "# LLMChain to create the replicate predictions for our text-to-image model\n",
        "import re\n",
        "\n",
        "previous_character_descriptions = {};\n",
        "\n",
        "def update_scene_descriptions(input_data):\n",
        "    character_descriptions = input_data[\"character_descriptions\"]\n",
        "    updated_scene_description = input_data[\"scene_description\"]\n",
        "\n",
        "    updated_scene_descriptions = []\n",
        "\n",
        "    if character_descriptions:\n",
        "        for character_description in character_descriptions:\n",
        "            character_name = character_description[\"name\"]\n",
        "            character_description_text = character_description[\"description\"]\n",
        "            previous_character_descriptions[character_name] = character_description_text\n",
        "\n",
        "\n",
        "    # Check if the character name appears in the scene description\n",
        "    for character_name, character_description_text in previous_character_descriptions.items():\n",
        "        # Append the character description to the scene description\n",
        "        updated_scene_description = re.sub(re.escape(character_name), character_name + \",\" + character_description_text, updated_scene_description, flags=re.IGNORECASE)\n",
        "\n",
        "    updated_scene_descriptions.append(updated_scene_description)\n",
        "\n",
        "    return updated_scene_descriptions\n",
        "\n",
        "\n",
        "def transform_func(inputs: dict) -> dict:\n",
        "  video_model = replicate.models.get('ai-forever/kandinsky-2')\n",
        "  video_version = video_model.versions.get(\"601eea49d49003e6ea75a11527209c4f510a93e2112c969d548fbb45b9c4f19f\")\n",
        "  descriptions = inputs['script']['visual_descriptions']\n",
        "\n",
        "  predictions = []\n",
        "\n",
        "  for description in descriptions:\n",
        "      print(description)\n",
        "      updated_description = update_scene_descriptions(description)[0]\n",
        "      print(f\"Creating video prediction for '{updated_description}'...\")\n",
        "      video_prediction = replicate.predictions.create(version=video_version,\n",
        "                                                      input={\"prompt\": updated_description, \"prior_steps\": '5', \"guidance_scale\": 4, \"num_inference_steps\": 100, \"prior_cf_scale\":4,\n",
        "                                                             \"scheduler\": \"p_sampler\", \"width\": 1024, \"height\":768})\n",
        "      predictions.append(video_prediction)\n",
        "  return {'video_predictions': predictions}\n",
        "\n",
        "video_predictions_chain = TransformChain(input_variables=['script'], output_variables=['video_predictions'], transform=transform_func)\n",
        "\n",
        "# video_predictions = video_predictions_chain.run({\"script\": script})\n",
        "# print(video_predictions)"
      ]
    },
    {
      "cell_type": "code",
      "source": [
        "# LLMChain to create the replicate predictions for our bark model\n",
        "def transform_func(inputs: dict) -> dict:\n",
        "  audio_model = replicate.models.get(\"suno-ai/bark\")\n",
        "  audio_version = audio_model.versions.get(\"b76242b40d67c76ab6742e987628a2a9ac019e11d56ab96c4e91ce03b79b2787\")\n",
        "  parsed_script = inputs['script']['paragraphs']\n",
        "\n",
        "  predictions = []\n",
        "\n",
        "  for line in parsed_script:\n",
        "      print(f\"Creating audio prediction for '{line}''...\")\n",
        "      audio_prediction = replicate.predictions.create(version=audio_version,\n",
        "                                                      input={\"prompt\": line, \"history_prompt\": \"announcer\", \"text_temp\": 0.7, \"waveform_temp\":0.8})\n",
        "      predictions.append(audio_prediction)\n",
        "  return {'audio_predictions': predictions}\n",
        "\n",
        "audio_predictions_chain = TransformChain(input_variables=['script'], output_variables=['audio_predictions'], transform=transform_func)"
      ],
      "metadata": {
        "id": "VL1q_HXJEKfb"
      },
      "execution_count": 14,
      "outputs": []
    },
    {
      "cell_type": "code",
      "execution_count": 15,
      "metadata": {
        "id": "wo9Tu12yXpic"
      },
      "outputs": [],
      "source": [
        "# LLMChain to create the replicate predictions for our bark model\n",
        "def transform_func(inputs: dict) -> dict:\n",
        "  audio_model = replicate.models.get(\"suno-ai/bark\")\n",
        "  audio_version = audio_model.versions.get(\"b76242b40d67c76ab6742e987628a2a9ac019e11d56ab96c4e91ce03b79b2787\")\n",
        "  parsed_script = inputs['script']['paragraphs']\n",
        "\n",
        "  predictions = []\n",
        "\n",
        "  for line in parsed_script:\n",
        "      print(f\"Creating audio prediction for '{line}''...\")\n",
        "      audio_prediction = replicate.predictions.create(version=audio_version,\n",
        "                                                      input={\"prompt\": line, \"history_prompt\": \"announcer\", \"text_temp\": 0.7, \"waveform_temp\":0.8})\n",
        "      predictions.append(audio_prediction)\n",
        "  return {'audio_predictions': predictions}\n",
        "\n",
        "audio_predictions_chain = TransformChain(input_variables=['script'], output_variables=['audio_predictions'], transform=transform_func)\n",
        "\n",
        "# audio_predictions = audio_predictions_chain.run({\"script\": script})\n",
        "# print(audio_predictions)"
      ]
    },
    {
      "cell_type": "code",
      "execution_count": 16,
      "metadata": {
        "id": "8vcijQCYY4aM"
      },
      "outputs": [],
      "source": [
        "# LLMChain to create the cover image\n",
        "llm = OpenAI(temperature=.9)\n",
        "template = \"\"\"\n",
        "          Create a visual description artstation, hd, dramatic lighting, detailed for the following script.\n",
        "          \"{script}\"\"\n",
        "          \"\"\"\n",
        "prompt_template = PromptTemplate(input_variables=[\"script\"], template=template)\n",
        "\n",
        "text2image = Replicate(model=\"ai-forever/kandinsky-2:601eea49d49003e6ea75a11527209c4f510a93e2112c969d548fbb45b9c4f19f\",\n",
        "                       input={\"prior_steps\": '5', \"guidance_scale\": 4, \"num_inference_steps\": 100, \"prior_cf_scale\":4,\n",
        "                                                        \"scheduler\": \"p_sampler\"})\n",
        "\n",
        "# text2image = Replicate(model=\"stability-ai/stable-diffusion:db21e45d3f7023abc2a46ee38a23973f6dce16bb082a930b0c49861f96d1e5bf\",\n",
        "#                        input={'image_dimensions': '512x512', \"negative_prompt\": \"text, writing\"})\n",
        "title_image_chain = LLMChain(llm=text2image, prompt=prompt_template, output_key='title_image')\n",
        "\n",
        "# title_image = title_image_chain.run({\"script\": script})\n",
        "# print(title_image)"
      ]
    },
    {
      "cell_type": "code",
      "execution_count": 17,
      "metadata": {
        "id": "Bxh2OimkalSC"
      },
      "outputs": [],
      "source": [
        "# LLMChain to write the thank you note at the end of our video\n",
        "template = \"\"\"Please come up with a creative and zany ending quote from our narrator.\n",
        "The script is what the narrator just read. We want to close things out in less than 15 words.\n",
        "\n",
        "Make sure you add a \"And don't forget to like and subscribe!\" to the end of your output.\n",
        "\n",
        "You are a {narrator_adjectives} narrator.\n",
        "\n",
        "Script:\n",
        "{script}\n",
        "Ending quote:\n",
        "\"\"\"\n",
        "\n",
        "system_message_prompt = SystemMessage(content=\"You are a helpful assistant.\")\n",
        "human_message_prompt = HumanMessagePromptTemplate(prompt=PromptTemplate(\n",
        "                                                  template=template,\n",
        "                                                  input_variables=[\"script\", \"narrator_adjectives\"]))\n",
        "chat_prompt_template = ChatPromptTemplate.from_messages([system_message_prompt, human_message_prompt])\n",
        "ending_quote_chain = LLMChain(llm=chat, prompt=chat_prompt_template, output_key='ending_quote')\n",
        "\n",
        "# ending_quote = ending_quote_chain.run({\"script\": script, \"narrator_adjectives\": NARRATOR_ADJECTIVES})\n",
        "# print(ending_quote)"
      ]
    },
    {
      "cell_type": "code",
      "execution_count": 18,
      "metadata": {
        "id": "it9cAOOKbDiL"
      },
      "outputs": [],
      "source": [
        "# LLMChain to create the prediction that generates the audio for the thank you note\n",
        "def transform_func(inputs: dict) -> dict:\n",
        "  audio_model = replicate.models.get(\"suno-ai/bark\")\n",
        "  audio_version = audio_model.versions.get(\"b76242b40d67c76ab6742e987628a2a9ac019e11d56ab96c4e91ce03b79b2787\")\n",
        "  ending_quote_prediction = replicate.predictions.create(version=audio_version,\n",
        "                                                      input={\"prompt\": inputs['ending_quote'], \"history_prompt\": \"announcer\", \"text_temp\": 0.7, \"waveform_temp\":0.8}) #en_speaker_6 female, loud\n",
        "  return {'ending_quote_prediction': ending_quote_prediction}\n",
        "\n",
        "ending_quote_prediction_chain = TransformChain(input_variables=['ending_quote'], output_variables=['ending_quote_prediction'], transform=transform_func)\n",
        "\n",
        "# ending_quote_prediction = ending_quote_prediction_chain.run({\"ending_quote\": ending_quote})\n",
        "# print(ending_quote_prediction)\n",
        "\n",
        "#chain_output['ending_quote_prediction'].output['audio_out']\n"
      ]
    },
    {
      "cell_type": "code",
      "execution_count": 19,
      "metadata": {
        "id": "xZ9cJ6ZLbj-u"
      },
      "outputs": [],
      "source": [
        "# LLMChain to create the prediction that generates the audio for the title\n",
        "def transform_func(inputs: dict) -> dict:\n",
        "  audio_model = replicate.models.get(\"suno-ai/bark\")\n",
        "  audio_version = audio_model.versions.get(\"b76242b40d67c76ab6742e987628a2a9ac019e11d56ab96c4e91ce03b79b2787\")\n",
        "  title_prediction = replicate.predictions.create(version=audio_version,\n",
        "                                                      input={\"prompt\": inputs['title'],\"history_prompt\": \"announcer\", \"text_temp\": 0.7, \"waveform_temp\":0.8})\n",
        "  return {'title_audio_prediction': title_prediction}\n",
        "\n",
        "title_audio_prediction_chain = TransformChain(input_variables=['title'], output_variables=['title_audio_prediction'], transform=transform_func)\n",
        "\n",
        "# title_audio_prediction = title_audio_prediction_chain.run({\"title\": title})\n",
        "# print(title_audio_prediction)\n"
      ]
    },
    {
      "cell_type": "code",
      "execution_count": 20,
      "metadata": {
        "colab": {
          "base_uri": "https://localhost:8080/"
        },
        "id": "HZEqPPk5b_NU",
        "outputId": "49f8a230-4a4e-4b93-8e3f-3e5b9e35f9a8"
      },
      "outputs": [
        {
          "output_type": "stream",
          "name": "stdout",
          "text": [
            "id='7r5bljbbrmzzrqmy5iz6phtusa' error=None input={'prompt': 'kids friendly random music'} logs='' output=None status='starting' version=Version(id='8cf61ea6c56afd61d8f5b9ffd14d7c216c0a93844ce2d82ac1c9ecc9c7f24e05', created_at=datetime.datetime(2022, 12, 16, 7, 48, 40, 890140, tzinfo=datetime.timezone.utc), cog_version='0.6.1', openapi_schema={'info': {'title': 'Cog', 'version': '0.1.0'}, 'paths': {'/': {'get': {'summary': 'Root', 'responses': {'200': {'content': {'application/json': {'schema': {}}}, 'description': 'Successful Response'}}, 'operationId': 'root__get'}}, '/predictions': {'post': {'summary': 'Predict', 'responses': {'200': {'content': {'application/json': {'schema': {'$ref': '#/components/schemas/PredictionResponse'}}}, 'description': 'Successful Response'}, '422': {'content': {'application/json': {'schema': {'$ref': '#/components/schemas/HTTPValidationError'}}}, 'description': 'Validation Error'}}, 'description': 'Run a single prediction on the model', 'operationId': 'predict_predictions_post', 'requestBody': {'content': {'application/json': {'schema': {'$ref': '#/components/schemas/PredictionRequest'}}}}}}}, 'openapi': '3.0.2', 'components': {'schemas': {'Input': {'type': 'object', 'title': 'Input', 'properties': {'alpha': {'type': 'number', 'title': 'Alpha', 'default': 0.5, 'maximum': 1, 'minimum': 0, 'x-order': 3, 'description': 'Interpolation alpha if using two prompts. A value of 0 uses prompt_a fully, a value of 1 uses prompt_b fully'}, 'prompt_a': {'type': 'string', 'title': 'Prompt A', 'default': 'funky synth solo', 'x-order': 0, 'description': 'The prompt for your audio'}, 'prompt_b': {'type': 'string', 'title': 'Prompt B', 'x-order': 2, 'description': 'The second prompt to interpolate with the first, leave blank if no interpolation'}, 'denoising': {'type': 'number', 'title': 'Denoising', 'default': 0.75, 'maximum': 1, 'minimum': 0, 'x-order': 1, 'description': 'How much to transform input spectrogram'}, 'seed_image_id': {'allOf': [{'$ref': '#/components/schemas/seed_image_id'}], 'default': 'vibes', 'x-order': 5, 'description': 'Seed spectrogram to use'}, 'num_inference_steps': {'type': 'integer', 'title': 'Num Inference Steps', 'default': 50, 'minimum': 1, 'x-order': 4, 'description': 'Number of steps to run the diffusion model'}}}, 'Output': {'type': 'object', 'title': 'Output', 'required': ['audio', 'spectrogram'], 'properties': {'audio': {'type': 'string', 'title': 'Audio', 'format': 'uri'}, 'spectrogram': {'type': 'string', 'title': 'Spectrogram', 'format': 'uri'}}}, 'Status': {'enum': ['processing', 'succeeded', 'canceled', 'failed'], 'type': 'string', 'title': 'Status', 'description': 'An enumeration.'}, 'WebhookEvent': {'enum': ['start', 'output', 'logs', 'completed'], 'type': 'string', 'title': 'WebhookEvent', 'description': 'An enumeration.'}, 'seed_image_id': {'enum': ['agile', 'marim', 'mask_beat_lines_80', 'mask_gradient_dark', 'mask_gradient_top_70', 'mask_graident_top_fifth_75', 'mask_top_third_75', 'mask_top_third_95', 'motorway', 'og_beat', 'vibes'], 'type': 'string', 'title': 'seed_image_id', 'description': 'An enumeration.'}, 'ValidationError': {'type': 'object', 'title': 'ValidationError', 'required': ['loc', 'msg', 'type'], 'properties': {'loc': {'type': 'array', 'items': {'anyOf': [{'type': 'string'}, {'type': 'integer'}]}, 'title': 'Location'}, 'msg': {'type': 'string', 'title': 'Message'}, 'type': {'type': 'string', 'title': 'Error Type'}}}, 'PredictionRequest': {'type': 'object', 'title': 'PredictionRequest', 'properties': {'id': {'type': 'string', 'title': 'Id'}, 'input': {'$ref': '#/components/schemas/Input'}, 'webhook': {'type': 'string', 'title': 'Webhook', 'format': 'uri', 'maxLength': 65536, 'minLength': 1}, 'created_at': {'type': 'string', 'title': 'Created At', 'format': 'date-time'}, 'output_file_prefix': {'type': 'string', 'title': 'Output File Prefix'}, 'webhook_events_filter': {'type': 'array', 'items': {'$ref': '#/components/schemas/WebhookEvent'}, 'default': ['output', 'completed', 'start', 'logs'], 'uniqueItems': True}}}, 'PredictionResponse': {'type': 'object', 'title': 'PredictionResponse', 'properties': {'id': {'type': 'string', 'title': 'Id'}, 'logs': {'type': 'string', 'title': 'Logs'}, 'error': {'type': 'string', 'title': 'Error'}, 'input': {'$ref': '#/components/schemas/Input'}, 'output': {'$ref': '#/components/schemas/Output'}, 'status': {'$ref': '#/components/schemas/Status'}, 'created_at': {'type': 'string', 'title': 'Created At', 'format': 'date-time'}, 'started_at': {'type': 'string', 'title': 'Started At', 'format': 'date-time'}, 'completed_at': {'type': 'string', 'title': 'Completed At', 'format': 'date-time'}}}, 'HTTPValidationError': {'type': 'object', 'title': 'HTTPValidationError', 'properties': {'detail': {'type': 'array', 'items': {'$ref': '#/components/schemas/ValidationError'}, 'title': 'Detail'}}}}}}) started_at=None created_at='2023-07-09T17:02:11.297277982Z' completed_at=None\n"
          ]
        }
      ],
      "source": [
        "# LLMChain to create the prediction that generates the background music\n",
        "def transform_func(inputs: dict) -> dict:\n",
        "  model = replicate.models.get(\"riffusion/riffusion\")\n",
        "  version = model.versions.get(\"8cf61ea6c56afd61d8f5b9ffd14d7c216c0a93844ce2d82ac1c9ecc9c7f24e05\")\n",
        "  music_prediction = replicate.predictions.create(version=version, input={\"prompt\": inputs['music_style']})\n",
        "\n",
        "  return {'music_prediction': music_prediction}\n",
        "\n",
        "music_prediction_chain = TransformChain(input_variables=['music_style'], output_variables=['music_prediction'], transform=transform_func)\n",
        "\n",
        "music_prediction = music_prediction_chain.run({\"music_style\": MUSIC_STYLE})\n",
        "print(music_prediction)"
      ]
    },
    {
      "cell_type": "markdown",
      "metadata": {
        "id": "m4lb38nOcOy0"
      },
      "source": [
        "## Run the chain\n",
        "\n",
        "Now, let's execute the chain we created. This is relatively fast, because the chains that create long-running predictions (like the video_predictions_chain) make asynchronous calls to the Replicate API."
      ]
    },
    {
      "cell_type": "code",
      "execution_count": 21,
      "metadata": {
        "colab": {
          "base_uri": "https://localhost:8080/"
        },
        "id": "5cj-nTemcW_t",
        "outputId": "02fa6ce3-024f-479c-e79a-9b9319e0adc7"
      },
      "outputs": [
        {
          "output_type": "stream",
          "name": "stdout",
          "text": [
            "\n",
            "\n",
            "\u001b[1m> Entering new  chain...\u001b[0m\n",
            "{'character_descriptions': [{'name': 'Tommy', 'description': 'A young boy with short, brown hair wearing a red t-shirt and blue shorts.'}, {'name': 'Lily', 'description': 'A young girl with long, blonde hair wearing a pink dress and white shoes.'}], 'scene_description': 'Tommy and Lily playing in a green park with trees and a playground.'}\n",
            "Creating video prediction for 'Tommy,A young boy with short, brown hair wearing a red t-shirt and blue shorts. and Lily,A young girl with long, blonde hair wearing a pink dress and white shoes. playing in a green park with trees and a playground.'...\n",
            "{'character_descriptions': [{'name': 'Tommy', 'description': 'A young boy with short, brown hair wearing a red t-shirt and blue shorts.'}, {'name': 'Lily', 'description': 'A young girl with long, blonde hair wearing a pink dress and white shoes.'}], 'scene_description': 'Tommy and Lily following the sound of meowing near a bush.'}\n",
            "Creating video prediction for 'Tommy,A young boy with short, brown hair wearing a red t-shirt and blue shorts. and Lily,A young girl with long, blonde hair wearing a pink dress and white shoes. following the sound of meowing near a bush.'...\n",
            "{'character_descriptions': [{'name': 'Tommy', 'description': 'A young boy with short, brown hair wearing a red t-shirt and blue shorts.'}, {'name': 'Lily', 'description': 'A young girl with long, blonde hair wearing a pink dress and white shoes.'}, {'name': 'Whiskers', 'description': 'A tiny kitten with gray fur and adorable whiskers.'}], 'scene_description': 'Tommy and Lily approaching the scared kitten hiding behind a bush.'}\n",
            "Creating video prediction for 'Tommy,A young boy with short, brown hair wearing a red t-shirt and blue shorts. and Lily,A young girl with long, blonde hair wearing a pink dress and white shoes. approaching the scared kitten hiding behind a bush.'...\n",
            "{'character_descriptions': [{'name': 'Tommy', 'description': 'A young boy with short, brown hair wearing a red t-shirt and blue shorts.'}, {'name': 'Lily', 'description': 'A young girl with long, blonde hair wearing a pink dress and white shoes.'}, {'name': 'Whiskers', 'description': 'A tiny kitten with gray fur and adorable whiskers.'}], 'scene_description': 'Tommy and Lily petting the hungry and scared kitten gently.'}\n",
            "Creating video prediction for 'Tommy,A young boy with short, brown hair wearing a red t-shirt and blue shorts. and Lily,A young girl with long, blonde hair wearing a pink dress and white shoes. petting the hungry and scared kitten gently.'...\n",
            "{'character_descriptions': [{'name': 'Tommy', 'description': 'A young boy with short, brown hair wearing a red t-shirt and blue shorts.'}, {'name': 'Lily', 'description': 'A young girl with long, blonde hair wearing a pink dress and white shoes.'}, {'name': 'Whiskers', 'description': 'A tiny kitten with gray fur and adorable whiskers.'}], 'scene_description': 'Tommy and Lily carrying Whiskers in their arms, walking towards their home.'}\n",
            "Creating video prediction for 'Tommy,A young boy with short, brown hair wearing a red t-shirt and blue shorts. and Lily,A young girl with long, blonde hair wearing a pink dress and white shoes. carrying Whiskers,A tiny kitten with gray fur and adorable whiskers. in their arms, walking towards their home.'...\n",
            "{'character_descriptions': [{'name': 'Tommy', 'description': 'A young boy with short, brown hair wearing a red t-shirt and blue shorts.'}, {'name': 'Lily', 'description': 'A young girl with long, blonde hair wearing a pink dress and white shoes.'}, {'name': 'Whiskers', 'description': 'A tiny kitten with gray fur and adorable whiskers.'}], 'scene_description': 'Tommy, Lily, and Whiskers playing happily together inside their cozy home.'}\n",
            "Creating video prediction for 'Tommy,A young boy with short, brown hair wearing a red t-shirt and blue shorts., Lily,A young girl with long, blonde hair wearing a pink dress and white shoes., and Whiskers,A tiny kitten with gray fur and adorable whiskers. playing happily together inside their cozy home.'...\n",
            "{'character_descriptions': [{'name': 'Tommy', 'description': 'A young boy with short, brown hair wearing a red t-shirt and blue shorts.'}, {'name': 'Lily', 'description': 'A young girl with long, blonde hair wearing a pink dress and white shoes.'}, {'name': 'Whiskers', 'description': 'A tiny kitten with gray fur and adorable whiskers.'}], 'scene_description': 'Whiskers accidentally wandering off into the nearby forest, with Tommy and Lily searching for him.'}\n",
            "Creating video prediction for 'Whiskers,A tiny kitten with gray fur and adorable whiskers. accidentally wandering off into the nearby forest, with Tommy,A young boy with short, brown hair wearing a red t-shirt and blue shorts. and Lily,A young girl with long, blonde hair wearing a pink dress and white shoes. searching for him.'...\n",
            "{'character_descriptions': [{'name': 'Tommy', 'description': 'A young boy with short, brown hair wearing a red t-shirt and blue shorts.'}, {'name': 'Lily', 'description': 'A young girl with long, blonde hair wearing a pink dress and white shoes.'}, {'name': 'Whiskers', 'description': 'A tiny kitten with gray fur and adorable whiskers.'}], 'scene_description': 'Tommy and Lily looking worried as they search for Whiskers in the forest.'}\n",
            "Creating video prediction for 'Tommy,A young boy with short, brown hair wearing a red t-shirt and blue shorts. and Lily,A young girl with long, blonde hair wearing a pink dress and white shoes. looking worried as they search for Whiskers,A tiny kitten with gray fur and adorable whiskers. in the forest.'...\n",
            "{'character_descriptions': [{'name': 'Tommy', 'description': 'A young boy with short, brown hair wearing a red t-shirt and blue shorts.'}, {'name': 'Lily', 'description': 'A young girl with long, blonde hair wearing a pink dress and white shoes.'}, {'name': 'Whiskers', 'description': 'A tiny kitten with gray fur and adorable whiskers.'}], 'scene_description': 'Tommy and Lily asking their neighbors for help in finding Whiskers.'}\n",
            "Creating video prediction for 'Tommy,A young boy with short, brown hair wearing a red t-shirt and blue shorts. and Lily,A young girl with long, blonde hair wearing a pink dress and white shoes. asking their neighbors for help in finding Whiskers,A tiny kitten with gray fur and adorable whiskers..'...\n",
            "{'character_descriptions': [{'name': 'Tommy', 'description': 'A young boy with short, brown hair wearing a red t-shirt and blue shorts.'}, {'name': 'Lily', 'description': 'A young girl with long, blonde hair wearing a pink dress and white shoes.'}, {'name': 'Whiskers', 'description': 'A tiny kitten with gray fur and adorable whiskers.'}], 'scene_description': \"Tommy and Lily putting up posters with Whiskers' picture around the village.\"}\n",
            "Creating video prediction for 'Tommy,A young boy with short, brown hair wearing a red t-shirt and blue shorts. and Lily,A young girl with long, blonde hair wearing a pink dress and white shoes. putting up posters with Whiskers,A tiny kitten with gray fur and adorable whiskers.' picture around the village.'...\n",
            "{'character_descriptions': [{'name': 'Tommy', 'description': 'A young boy with short, brown hair wearing a red t-shirt and blue shorts.'}, {'name': 'Lily', 'description': 'A young girl with long, blonde hair wearing a pink dress and white shoes.'}, {'name': 'Whiskers', 'description': 'A tiny kitten with gray fur and adorable whiskers.'}], 'scene_description': 'The whole village joining Tommy and Lily in the search for Whiskers.'}\n",
            "Creating video prediction for 'The whole village joining Tommy,A young boy with short, brown hair wearing a red t-shirt and blue shorts. and Lily,A young girl with long, blonde hair wearing a pink dress and white shoes. in the search for Whiskers,A tiny kitten with gray fur and adorable whiskers..'...\n",
            "{'character_descriptions': [{'name': 'Tommy', 'description': 'A young boy with short, brown hair wearing a red t-shirt and blue shorts.'}, {'name': 'Lily', 'description': 'A young girl with long, blonde hair wearing a pink dress and white shoes.'}, {'name': 'Whiskers', 'description': 'A tiny kitten with gray fur and adorable whiskers.'}], 'scene_description': 'Tommy spotting Whiskers stuck in a tree and calling for help.'}\n",
            "Creating video prediction for 'Tommy,A young boy with short, brown hair wearing a red t-shirt and blue shorts. spotting Whiskers,A tiny kitten with gray fur and adorable whiskers. stuck in a tree and calling for help.'...\n",
            "{'character_descriptions': [{'name': 'Tommy', 'description': 'A young boy with short, brown hair wearing a red t-shirt and blue shorts.'}, {'name': 'Lily', 'description': 'A young girl with long, blonde hair wearing a pink dress and white shoes.'}, {'name': 'Whiskers', 'description': 'A tiny kitten with gray fur and adorable whiskers.'}], 'scene_description': 'Tommy climbing the tree to rescue Whiskers while Lily and others cheer him on.'}\n",
            "Creating video prediction for 'Tommy,A young boy with short, brown hair wearing a red t-shirt and blue shorts. climbing the tree to rescue Whiskers,A tiny kitten with gray fur and adorable whiskers. while Lily,A young girl with long, blonde hair wearing a pink dress and white shoes. and others cheer him on.'...\n",
            "{'character_descriptions': [{'name': 'Tommy', 'description': 'A young boy with short, brown hair wearing a red t-shirt and blue shorts.'}, {'name': 'Lily', 'description': 'A young girl with long, blonde hair wearing a pink dress and white shoes.'}, {'name': 'Whiskers', 'description': 'A tiny kitten with gray fur and adorable whiskers.'}], 'scene_description': 'Tommy and Lily happily carrying Whiskers back home in their arms.'}\n",
            "Creating video prediction for 'Tommy,A young boy with short, brown hair wearing a red t-shirt and blue shorts. and Lily,A young girl with long, blonde hair wearing a pink dress and white shoes. happily carrying Whiskers,A tiny kitten with gray fur and adorable whiskers. back home in their arms.'...\n",
            "{'character_descriptions': [{'name': 'Tommy', 'description': 'A young boy with short, brown hair wearing a red t-shirt and blue shorts.'}, {'name': 'Lily', 'description': 'A young girl with long, blonde hair wearing a pink dress and white shoes.'}, {'name': 'Whiskers', 'description': 'A tiny kitten with gray fur and adorable whiskers.'}], 'scene_description': 'The whole village celebrating the reunion of Tommy, Lily, and Whiskers with smiles and laughter.'}\n",
            "Creating video prediction for 'The whole village celebrating the reunion of Tommy,A young boy with short, brown hair wearing a red t-shirt and blue shorts., Lily,A young girl with long, blonde hair wearing a pink dress and white shoes., and Whiskers,A tiny kitten with gray fur and adorable whiskers. with smiles and laughter.'...\n",
            "{'character_descriptions': [{'name': 'Tommy', 'description': 'A young boy with short, brown hair wearing a red t-shirt and blue shorts.'}, {'name': 'Lily', 'description': 'A young girl with long, blonde hair wearing a pink dress and white shoes.'}], 'scene_description': 'Tommy and Lily hugging Whiskers tightly, realizing the importance of never giving up and helping others.'}\n",
            "Creating video prediction for 'Tommy,A young boy with short, brown hair wearing a red t-shirt and blue shorts. and Lily,A young girl with long, blonde hair wearing a pink dress and white shoes. hugging Whiskers,A tiny kitten with gray fur and adorable whiskers. tightly, realizing the importance of never giving up and helping others.'...\n",
            "\n",
            "\u001b[1m> Finished chain.\u001b[0m\n"
          ]
        }
      ],
      "source": [
        "# Run the chain\n",
        "overall_chain = SequentialChain(chains=[\n",
        "    #script_chain,\n",
        "                                        title_chain,\n",
        "                                        video_predictions_chain,\n",
        "                                        ending_quote_chain,\n",
        "                                        ending_quote_prediction_chain,\n",
        "                                        title_image_chain,\n",
        "                                        title_audio_prediction_chain,\n",
        "                                        music_prediction_chain\n",
        "                                        ], input_variables=['script', 'narrator_adjectives', 'music_style'], output_variables=[\n",
        "                                            #'script',\n",
        "                                            'title', 'video_predictions', 'ending_quote', 'title_image', 'ending_quote_prediction', 'title_audio_prediction', 'music_prediction'], verbose=True)\n",
        "chain_output = overall_chain({\"script\":script, \"narrator_adjectives\": NARRATOR_ADJECTIVES, \"music_style\": MUSIC_STYLE})"
      ]
    },
    {
      "cell_type": "code",
      "execution_count": 22,
      "metadata": {
        "id": "_qy6_gb3iQVF",
        "colab": {
          "base_uri": "https://localhost:8080/"
        },
        "outputId": "5767e24c-a03d-4108-a406-2a2cb46e6c18"
      },
      "outputs": [
        {
          "output_type": "stream",
          "name": "stdout",
          "text": [
            "16\n",
            "16\n"
          ]
        },
        {
          "output_type": "execute_result",
          "data": {
            "text/plain": [
              "[Prediction(id='pxy45xrbbrjgcipgydoeet6nva', error=None, input={'guidance_scale': 4, 'height': 768, 'num_inference_steps': 100, 'prior_cf_scale': 4, 'prior_steps': '5', 'prompt': 'Tommy,A young boy with short, brown hair wearing a red t-shirt and blue shorts. and Lily,A young girl with long, blonde hair wearing a pink dress and white shoes. playing in a green park with trees and a playground.', 'scheduler': 'p_sampler', 'width': 1024}, logs='', output=None, status='starting', version=Version(id='601eea49d49003e6ea75a11527209c4f510a93e2112c969d548fbb45b9c4f19f', created_at=datetime.datetime(2023, 4, 15, 12, 51, 14, 975476, tzinfo=datetime.timezone.utc), cog_version='0.6.1', openapi_schema={'info': {'title': 'Cog', 'version': '0.1.0'}, 'paths': {'/': {'get': {'summary': 'Root', 'responses': {'200': {'content': {'application/json': {'schema': {'title': 'Response Root  Get'}}}, 'description': 'Successful Response'}}, 'operationId': 'root__get'}}, '/predictions': {'post': {'summary': 'Predict', 'responses': {'200': {'content': {'application/json': {'schema': {'$ref': '#/components/schemas/PredictionResponse'}}}, 'description': 'Successful Response'}, '422': {'content': {'application/json': {'schema': {'$ref': '#/components/schemas/HTTPValidationError'}}}, 'description': 'Validation Error'}}, 'description': 'Run a single prediction on the model', 'operationId': 'predict_predictions_post', 'requestBody': {'content': {'application/json': {'schema': {'$ref': '#/components/schemas/PredictionRequest'}}}}}}}, 'openapi': '3.0.2', 'components': {'schemas': {'Input': {'type': 'object', 'title': 'Input', 'properties': {'width': {'allOf': [{'$ref': '#/components/schemas/width'}], 'default': 512, 'x-order': 6, 'description': 'Choose width. Lower the setting if out of memory.'}, 'height': {'allOf': [{'$ref': '#/components/schemas/height'}], 'default': 512, 'x-order': 7, 'description': 'Choose height. Lower the setting if out of memory.'}, 'prompt': {'type': 'string', 'title': 'Prompt', 'default': 'red cat, 4k photo', 'x-order': 0, 'description': 'Input Prompt'}, 'scheduler': {'allOf': [{'$ref': '#/components/schemas/scheduler'}], 'default': 'p_sampler', 'x-order': 3, 'description': 'Choose a scheduler'}, 'batch_size': {'allOf': [{'$ref': '#/components/schemas/batch_size'}], 'default': 1, 'x-order': 8, 'description': 'Choose batch size. Lower the setting if out of memory.'}, 'prior_steps': {'type': 'string', 'title': 'Prior Steps', 'default': '5', 'x-order': 5}, 'guidance_scale': {'type': 'number', 'title': 'Guidance Scale', 'default': 4, 'maximum': 20, 'minimum': 1, 'x-order': 2, 'description': 'Scale for classifier-free guidance'}, 'prior_cf_scale': {'type': 'integer', 'title': 'Prior Cf Scale', 'default': 4, 'x-order': 4}, 'num_inference_steps': {'type': 'integer', 'title': 'Num Inference Steps', 'default': 50, 'maximum': 500, 'minimum': 1, 'x-order': 1, 'description': 'Number of denoising steps'}}}, 'width': {'enum': [256, 288, 432, 512, 576, 768, 1024], 'type': 'integer', 'title': 'width', 'description': 'An enumeration.'}, 'Output': {'type': 'array', 'items': {'type': 'string', 'format': 'uri'}, 'title': 'Output'}, 'Status': {'enum': ['processing', 'succeeded', 'canceled', 'failed'], 'type': 'string', 'title': 'Status', 'description': 'An enumeration.'}, 'height': {'enum': [256, 288, 432, 512, 576, 768, 1024], 'type': 'integer', 'title': 'height', 'description': 'An enumeration.'}, 'scheduler': {'enum': ['ddim_sampler', 'p_sampler', 'plms_sampler'], 'type': 'string', 'title': 'scheduler', 'description': 'An enumeration.'}, 'batch_size': {'enum': [1, 2, 3, 4], 'type': 'integer', 'title': 'batch_size', 'description': 'An enumeration.'}, 'WebhookEvent': {'enum': ['start', 'output', 'logs', 'completed'], 'type': 'string', 'title': 'WebhookEvent', 'description': 'An enumeration.'}, 'ValidationError': {'type': 'object', 'title': 'ValidationError', 'required': ['loc', 'msg', 'type'], 'properties': {'loc': {'type': 'array', 'items': {'anyOf': [{'type': 'string'}, {'type': 'integer'}]}, 'title': 'Location'}, 'msg': {'type': 'string', 'title': 'Message'}, 'type': {'type': 'string', 'title': 'Error Type'}}}, 'PredictionRequest': {'type': 'object', 'title': 'PredictionRequest', 'properties': {'id': {'type': 'string', 'title': 'Id'}, 'input': {'$ref': '#/components/schemas/Input'}, 'webhook': {'type': 'string', 'title': 'Webhook', 'format': 'uri', 'maxLength': 65536, 'minLength': 1}, 'created_at': {'type': 'string', 'title': 'Created At', 'format': 'date-time'}, 'output_file_prefix': {'type': 'string', 'title': 'Output File Prefix'}, 'webhook_events_filter': {'type': 'array', 'items': {'$ref': '#/components/schemas/WebhookEvent'}, 'default': ['output', 'logs', 'start', 'completed'], 'uniqueItems': True}}}, 'PredictionResponse': {'type': 'object', 'title': 'PredictionResponse', 'properties': {'id': {'type': 'string', 'title': 'Id'}, 'logs': {'type': 'string', 'title': 'Logs'}, 'error': {'type': 'string', 'title': 'Error'}, 'input': {'$ref': '#/components/schemas/Input'}, 'output': {'$ref': '#/components/schemas/Output'}, 'status': {'$ref': '#/components/schemas/Status'}, 'created_at': {'type': 'string', 'title': 'Created At', 'format': 'date-time'}, 'started_at': {'type': 'string', 'title': 'Started At', 'format': 'date-time'}, 'completed_at': {'type': 'string', 'title': 'Completed At', 'format': 'date-time'}}}, 'HTTPValidationError': {'type': 'object', 'title': 'HTTPValidationError', 'properties': {'detail': {'type': 'array', 'items': {'$ref': '#/components/schemas/ValidationError'}, 'title': 'Detail'}}}}}}), started_at=None, created_at='2023-07-09T17:02:14.140334672Z', completed_at=None),\n",
              " Prediction(id='pcdzy4bbtr5n45qt7omzgyg6qm', error=None, input={'guidance_scale': 4, 'height': 768, 'num_inference_steps': 100, 'prior_cf_scale': 4, 'prior_steps': '5', 'prompt': 'Tommy,A young boy with short, brown hair wearing a red t-shirt and blue shorts. and Lily,A young girl with long, blonde hair wearing a pink dress and white shoes. following the sound of meowing near a bush.', 'scheduler': 'p_sampler', 'width': 1024}, logs='', output=None, status='starting', version=Version(id='601eea49d49003e6ea75a11527209c4f510a93e2112c969d548fbb45b9c4f19f', created_at=datetime.datetime(2023, 4, 15, 12, 51, 14, 975476, tzinfo=datetime.timezone.utc), cog_version='0.6.1', openapi_schema={'info': {'title': 'Cog', 'version': '0.1.0'}, 'paths': {'/': {'get': {'summary': 'Root', 'responses': {'200': {'content': {'application/json': {'schema': {'title': 'Response Root  Get'}}}, 'description': 'Successful Response'}}, 'operationId': 'root__get'}}, '/predictions': {'post': {'summary': 'Predict', 'responses': {'200': {'content': {'application/json': {'schema': {'$ref': '#/components/schemas/PredictionResponse'}}}, 'description': 'Successful Response'}, '422': {'content': {'application/json': {'schema': {'$ref': '#/components/schemas/HTTPValidationError'}}}, 'description': 'Validation Error'}}, 'description': 'Run a single prediction on the model', 'operationId': 'predict_predictions_post', 'requestBody': {'content': {'application/json': {'schema': {'$ref': '#/components/schemas/PredictionRequest'}}}}}}}, 'openapi': '3.0.2', 'components': {'schemas': {'Input': {'type': 'object', 'title': 'Input', 'properties': {'width': {'allOf': [{'$ref': '#/components/schemas/width'}], 'default': 512, 'x-order': 6, 'description': 'Choose width. Lower the setting if out of memory.'}, 'height': {'allOf': [{'$ref': '#/components/schemas/height'}], 'default': 512, 'x-order': 7, 'description': 'Choose height. Lower the setting if out of memory.'}, 'prompt': {'type': 'string', 'title': 'Prompt', 'default': 'red cat, 4k photo', 'x-order': 0, 'description': 'Input Prompt'}, 'scheduler': {'allOf': [{'$ref': '#/components/schemas/scheduler'}], 'default': 'p_sampler', 'x-order': 3, 'description': 'Choose a scheduler'}, 'batch_size': {'allOf': [{'$ref': '#/components/schemas/batch_size'}], 'default': 1, 'x-order': 8, 'description': 'Choose batch size. Lower the setting if out of memory.'}, 'prior_steps': {'type': 'string', 'title': 'Prior Steps', 'default': '5', 'x-order': 5}, 'guidance_scale': {'type': 'number', 'title': 'Guidance Scale', 'default': 4, 'maximum': 20, 'minimum': 1, 'x-order': 2, 'description': 'Scale for classifier-free guidance'}, 'prior_cf_scale': {'type': 'integer', 'title': 'Prior Cf Scale', 'default': 4, 'x-order': 4}, 'num_inference_steps': {'type': 'integer', 'title': 'Num Inference Steps', 'default': 50, 'maximum': 500, 'minimum': 1, 'x-order': 1, 'description': 'Number of denoising steps'}}}, 'width': {'enum': [256, 288, 432, 512, 576, 768, 1024], 'type': 'integer', 'title': 'width', 'description': 'An enumeration.'}, 'Output': {'type': 'array', 'items': {'type': 'string', 'format': 'uri'}, 'title': 'Output'}, 'Status': {'enum': ['processing', 'succeeded', 'canceled', 'failed'], 'type': 'string', 'title': 'Status', 'description': 'An enumeration.'}, 'height': {'enum': [256, 288, 432, 512, 576, 768, 1024], 'type': 'integer', 'title': 'height', 'description': 'An enumeration.'}, 'scheduler': {'enum': ['ddim_sampler', 'p_sampler', 'plms_sampler'], 'type': 'string', 'title': 'scheduler', 'description': 'An enumeration.'}, 'batch_size': {'enum': [1, 2, 3, 4], 'type': 'integer', 'title': 'batch_size', 'description': 'An enumeration.'}, 'WebhookEvent': {'enum': ['start', 'output', 'logs', 'completed'], 'type': 'string', 'title': 'WebhookEvent', 'description': 'An enumeration.'}, 'ValidationError': {'type': 'object', 'title': 'ValidationError', 'required': ['loc', 'msg', 'type'], 'properties': {'loc': {'type': 'array', 'items': {'anyOf': [{'type': 'string'}, {'type': 'integer'}]}, 'title': 'Location'}, 'msg': {'type': 'string', 'title': 'Message'}, 'type': {'type': 'string', 'title': 'Error Type'}}}, 'PredictionRequest': {'type': 'object', 'title': 'PredictionRequest', 'properties': {'id': {'type': 'string', 'title': 'Id'}, 'input': {'$ref': '#/components/schemas/Input'}, 'webhook': {'type': 'string', 'title': 'Webhook', 'format': 'uri', 'maxLength': 65536, 'minLength': 1}, 'created_at': {'type': 'string', 'title': 'Created At', 'format': 'date-time'}, 'output_file_prefix': {'type': 'string', 'title': 'Output File Prefix'}, 'webhook_events_filter': {'type': 'array', 'items': {'$ref': '#/components/schemas/WebhookEvent'}, 'default': ['output', 'logs', 'start', 'completed'], 'uniqueItems': True}}}, 'PredictionResponse': {'type': 'object', 'title': 'PredictionResponse', 'properties': {'id': {'type': 'string', 'title': 'Id'}, 'logs': {'type': 'string', 'title': 'Logs'}, 'error': {'type': 'string', 'title': 'Error'}, 'input': {'$ref': '#/components/schemas/Input'}, 'output': {'$ref': '#/components/schemas/Output'}, 'status': {'$ref': '#/components/schemas/Status'}, 'created_at': {'type': 'string', 'title': 'Created At', 'format': 'date-time'}, 'started_at': {'type': 'string', 'title': 'Started At', 'format': 'date-time'}, 'completed_at': {'type': 'string', 'title': 'Completed At', 'format': 'date-time'}}}, 'HTTPValidationError': {'type': 'object', 'title': 'HTTPValidationError', 'properties': {'detail': {'type': 'array', 'items': {'$ref': '#/components/schemas/ValidationError'}, 'title': 'Detail'}}}}}}), started_at=None, created_at='2023-07-09T17:02:14.347703427Z', completed_at=None),\n",
              " Prediction(id='v4vx2zrbb5724br42gro4nnbum', error=None, input={'guidance_scale': 4, 'height': 768, 'num_inference_steps': 100, 'prior_cf_scale': 4, 'prior_steps': '5', 'prompt': 'Tommy,A young boy with short, brown hair wearing a red t-shirt and blue shorts. and Lily,A young girl with long, blonde hair wearing a pink dress and white shoes. approaching the scared kitten hiding behind a bush.', 'scheduler': 'p_sampler', 'width': 1024}, logs='', output=None, status='starting', version=Version(id='601eea49d49003e6ea75a11527209c4f510a93e2112c969d548fbb45b9c4f19f', created_at=datetime.datetime(2023, 4, 15, 12, 51, 14, 975476, tzinfo=datetime.timezone.utc), cog_version='0.6.1', openapi_schema={'info': {'title': 'Cog', 'version': '0.1.0'}, 'paths': {'/': {'get': {'summary': 'Root', 'responses': {'200': {'content': {'application/json': {'schema': {'title': 'Response Root  Get'}}}, 'description': 'Successful Response'}}, 'operationId': 'root__get'}}, '/predictions': {'post': {'summary': 'Predict', 'responses': {'200': {'content': {'application/json': {'schema': {'$ref': '#/components/schemas/PredictionResponse'}}}, 'description': 'Successful Response'}, '422': {'content': {'application/json': {'schema': {'$ref': '#/components/schemas/HTTPValidationError'}}}, 'description': 'Validation Error'}}, 'description': 'Run a single prediction on the model', 'operationId': 'predict_predictions_post', 'requestBody': {'content': {'application/json': {'schema': {'$ref': '#/components/schemas/PredictionRequest'}}}}}}}, 'openapi': '3.0.2', 'components': {'schemas': {'Input': {'type': 'object', 'title': 'Input', 'properties': {'width': {'allOf': [{'$ref': '#/components/schemas/width'}], 'default': 512, 'x-order': 6, 'description': 'Choose width. Lower the setting if out of memory.'}, 'height': {'allOf': [{'$ref': '#/components/schemas/height'}], 'default': 512, 'x-order': 7, 'description': 'Choose height. Lower the setting if out of memory.'}, 'prompt': {'type': 'string', 'title': 'Prompt', 'default': 'red cat, 4k photo', 'x-order': 0, 'description': 'Input Prompt'}, 'scheduler': {'allOf': [{'$ref': '#/components/schemas/scheduler'}], 'default': 'p_sampler', 'x-order': 3, 'description': 'Choose a scheduler'}, 'batch_size': {'allOf': [{'$ref': '#/components/schemas/batch_size'}], 'default': 1, 'x-order': 8, 'description': 'Choose batch size. Lower the setting if out of memory.'}, 'prior_steps': {'type': 'string', 'title': 'Prior Steps', 'default': '5', 'x-order': 5}, 'guidance_scale': {'type': 'number', 'title': 'Guidance Scale', 'default': 4, 'maximum': 20, 'minimum': 1, 'x-order': 2, 'description': 'Scale for classifier-free guidance'}, 'prior_cf_scale': {'type': 'integer', 'title': 'Prior Cf Scale', 'default': 4, 'x-order': 4}, 'num_inference_steps': {'type': 'integer', 'title': 'Num Inference Steps', 'default': 50, 'maximum': 500, 'minimum': 1, 'x-order': 1, 'description': 'Number of denoising steps'}}}, 'width': {'enum': [256, 288, 432, 512, 576, 768, 1024], 'type': 'integer', 'title': 'width', 'description': 'An enumeration.'}, 'Output': {'type': 'array', 'items': {'type': 'string', 'format': 'uri'}, 'title': 'Output'}, 'Status': {'enum': ['processing', 'succeeded', 'canceled', 'failed'], 'type': 'string', 'title': 'Status', 'description': 'An enumeration.'}, 'height': {'enum': [256, 288, 432, 512, 576, 768, 1024], 'type': 'integer', 'title': 'height', 'description': 'An enumeration.'}, 'scheduler': {'enum': ['ddim_sampler', 'p_sampler', 'plms_sampler'], 'type': 'string', 'title': 'scheduler', 'description': 'An enumeration.'}, 'batch_size': {'enum': [1, 2, 3, 4], 'type': 'integer', 'title': 'batch_size', 'description': 'An enumeration.'}, 'WebhookEvent': {'enum': ['start', 'output', 'logs', 'completed'], 'type': 'string', 'title': 'WebhookEvent', 'description': 'An enumeration.'}, 'ValidationError': {'type': 'object', 'title': 'ValidationError', 'required': ['loc', 'msg', 'type'], 'properties': {'loc': {'type': 'array', 'items': {'anyOf': [{'type': 'string'}, {'type': 'integer'}]}, 'title': 'Location'}, 'msg': {'type': 'string', 'title': 'Message'}, 'type': {'type': 'string', 'title': 'Error Type'}}}, 'PredictionRequest': {'type': 'object', 'title': 'PredictionRequest', 'properties': {'id': {'type': 'string', 'title': 'Id'}, 'input': {'$ref': '#/components/schemas/Input'}, 'webhook': {'type': 'string', 'title': 'Webhook', 'format': 'uri', 'maxLength': 65536, 'minLength': 1}, 'created_at': {'type': 'string', 'title': 'Created At', 'format': 'date-time'}, 'output_file_prefix': {'type': 'string', 'title': 'Output File Prefix'}, 'webhook_events_filter': {'type': 'array', 'items': {'$ref': '#/components/schemas/WebhookEvent'}, 'default': ['output', 'logs', 'start', 'completed'], 'uniqueItems': True}}}, 'PredictionResponse': {'type': 'object', 'title': 'PredictionResponse', 'properties': {'id': {'type': 'string', 'title': 'Id'}, 'logs': {'type': 'string', 'title': 'Logs'}, 'error': {'type': 'string', 'title': 'Error'}, 'input': {'$ref': '#/components/schemas/Input'}, 'output': {'$ref': '#/components/schemas/Output'}, 'status': {'$ref': '#/components/schemas/Status'}, 'created_at': {'type': 'string', 'title': 'Created At', 'format': 'date-time'}, 'started_at': {'type': 'string', 'title': 'Started At', 'format': 'date-time'}, 'completed_at': {'type': 'string', 'title': 'Completed At', 'format': 'date-time'}}}, 'HTTPValidationError': {'type': 'object', 'title': 'HTTPValidationError', 'properties': {'detail': {'type': 'array', 'items': {'$ref': '#/components/schemas/ValidationError'}, 'title': 'Detail'}}}}}}), started_at=None, created_at='2023-07-09T17:02:14.562611896Z', completed_at=None),\n",
              " Prediction(id='jj4crfrb3w7tudxvywjwve5ify', error=None, input={'guidance_scale': 4, 'height': 768, 'num_inference_steps': 100, 'prior_cf_scale': 4, 'prior_steps': '5', 'prompt': 'Tommy,A young boy with short, brown hair wearing a red t-shirt and blue shorts. and Lily,A young girl with long, blonde hair wearing a pink dress and white shoes. petting the hungry and scared kitten gently.', 'scheduler': 'p_sampler', 'width': 1024}, logs='', output=None, status='starting', version=Version(id='601eea49d49003e6ea75a11527209c4f510a93e2112c969d548fbb45b9c4f19f', created_at=datetime.datetime(2023, 4, 15, 12, 51, 14, 975476, tzinfo=datetime.timezone.utc), cog_version='0.6.1', openapi_schema={'info': {'title': 'Cog', 'version': '0.1.0'}, 'paths': {'/': {'get': {'summary': 'Root', 'responses': {'200': {'content': {'application/json': {'schema': {'title': 'Response Root  Get'}}}, 'description': 'Successful Response'}}, 'operationId': 'root__get'}}, '/predictions': {'post': {'summary': 'Predict', 'responses': {'200': {'content': {'application/json': {'schema': {'$ref': '#/components/schemas/PredictionResponse'}}}, 'description': 'Successful Response'}, '422': {'content': {'application/json': {'schema': {'$ref': '#/components/schemas/HTTPValidationError'}}}, 'description': 'Validation Error'}}, 'description': 'Run a single prediction on the model', 'operationId': 'predict_predictions_post', 'requestBody': {'content': {'application/json': {'schema': {'$ref': '#/components/schemas/PredictionRequest'}}}}}}}, 'openapi': '3.0.2', 'components': {'schemas': {'Input': {'type': 'object', 'title': 'Input', 'properties': {'width': {'allOf': [{'$ref': '#/components/schemas/width'}], 'default': 512, 'x-order': 6, 'description': 'Choose width. Lower the setting if out of memory.'}, 'height': {'allOf': [{'$ref': '#/components/schemas/height'}], 'default': 512, 'x-order': 7, 'description': 'Choose height. Lower the setting if out of memory.'}, 'prompt': {'type': 'string', 'title': 'Prompt', 'default': 'red cat, 4k photo', 'x-order': 0, 'description': 'Input Prompt'}, 'scheduler': {'allOf': [{'$ref': '#/components/schemas/scheduler'}], 'default': 'p_sampler', 'x-order': 3, 'description': 'Choose a scheduler'}, 'batch_size': {'allOf': [{'$ref': '#/components/schemas/batch_size'}], 'default': 1, 'x-order': 8, 'description': 'Choose batch size. Lower the setting if out of memory.'}, 'prior_steps': {'type': 'string', 'title': 'Prior Steps', 'default': '5', 'x-order': 5}, 'guidance_scale': {'type': 'number', 'title': 'Guidance Scale', 'default': 4, 'maximum': 20, 'minimum': 1, 'x-order': 2, 'description': 'Scale for classifier-free guidance'}, 'prior_cf_scale': {'type': 'integer', 'title': 'Prior Cf Scale', 'default': 4, 'x-order': 4}, 'num_inference_steps': {'type': 'integer', 'title': 'Num Inference Steps', 'default': 50, 'maximum': 500, 'minimum': 1, 'x-order': 1, 'description': 'Number of denoising steps'}}}, 'width': {'enum': [256, 288, 432, 512, 576, 768, 1024], 'type': 'integer', 'title': 'width', 'description': 'An enumeration.'}, 'Output': {'type': 'array', 'items': {'type': 'string', 'format': 'uri'}, 'title': 'Output'}, 'Status': {'enum': ['processing', 'succeeded', 'canceled', 'failed'], 'type': 'string', 'title': 'Status', 'description': 'An enumeration.'}, 'height': {'enum': [256, 288, 432, 512, 576, 768, 1024], 'type': 'integer', 'title': 'height', 'description': 'An enumeration.'}, 'scheduler': {'enum': ['ddim_sampler', 'p_sampler', 'plms_sampler'], 'type': 'string', 'title': 'scheduler', 'description': 'An enumeration.'}, 'batch_size': {'enum': [1, 2, 3, 4], 'type': 'integer', 'title': 'batch_size', 'description': 'An enumeration.'}, 'WebhookEvent': {'enum': ['start', 'output', 'logs', 'completed'], 'type': 'string', 'title': 'WebhookEvent', 'description': 'An enumeration.'}, 'ValidationError': {'type': 'object', 'title': 'ValidationError', 'required': ['loc', 'msg', 'type'], 'properties': {'loc': {'type': 'array', 'items': {'anyOf': [{'type': 'string'}, {'type': 'integer'}]}, 'title': 'Location'}, 'msg': {'type': 'string', 'title': 'Message'}, 'type': {'type': 'string', 'title': 'Error Type'}}}, 'PredictionRequest': {'type': 'object', 'title': 'PredictionRequest', 'properties': {'id': {'type': 'string', 'title': 'Id'}, 'input': {'$ref': '#/components/schemas/Input'}, 'webhook': {'type': 'string', 'title': 'Webhook', 'format': 'uri', 'maxLength': 65536, 'minLength': 1}, 'created_at': {'type': 'string', 'title': 'Created At', 'format': 'date-time'}, 'output_file_prefix': {'type': 'string', 'title': 'Output File Prefix'}, 'webhook_events_filter': {'type': 'array', 'items': {'$ref': '#/components/schemas/WebhookEvent'}, 'default': ['output', 'logs', 'start', 'completed'], 'uniqueItems': True}}}, 'PredictionResponse': {'type': 'object', 'title': 'PredictionResponse', 'properties': {'id': {'type': 'string', 'title': 'Id'}, 'logs': {'type': 'string', 'title': 'Logs'}, 'error': {'type': 'string', 'title': 'Error'}, 'input': {'$ref': '#/components/schemas/Input'}, 'output': {'$ref': '#/components/schemas/Output'}, 'status': {'$ref': '#/components/schemas/Status'}, 'created_at': {'type': 'string', 'title': 'Created At', 'format': 'date-time'}, 'started_at': {'type': 'string', 'title': 'Started At', 'format': 'date-time'}, 'completed_at': {'type': 'string', 'title': 'Completed At', 'format': 'date-time'}}}, 'HTTPValidationError': {'type': 'object', 'title': 'HTTPValidationError', 'properties': {'detail': {'type': 'array', 'items': {'$ref': '#/components/schemas/ValidationError'}, 'title': 'Detail'}}}}}}), started_at=None, created_at='2023-07-09T17:02:14.776249057Z', completed_at=None),\n",
              " Prediction(id='fcyhrsjbmxscfjejhirxwqag5i', error=None, input={'guidance_scale': 4, 'height': 768, 'num_inference_steps': 100, 'prior_cf_scale': 4, 'prior_steps': '5', 'prompt': 'Tommy,A young boy with short, brown hair wearing a red t-shirt and blue shorts. and Lily,A young girl with long, blonde hair wearing a pink dress and white shoes. carrying Whiskers,A tiny kitten with gray fur and adorable whiskers. in their arms, walking towards their home.', 'scheduler': 'p_sampler', 'width': 1024}, logs='', output=None, status='starting', version=Version(id='601eea49d49003e6ea75a11527209c4f510a93e2112c969d548fbb45b9c4f19f', created_at=datetime.datetime(2023, 4, 15, 12, 51, 14, 975476, tzinfo=datetime.timezone.utc), cog_version='0.6.1', openapi_schema={'info': {'title': 'Cog', 'version': '0.1.0'}, 'paths': {'/': {'get': {'summary': 'Root', 'responses': {'200': {'content': {'application/json': {'schema': {'title': 'Response Root  Get'}}}, 'description': 'Successful Response'}}, 'operationId': 'root__get'}}, '/predictions': {'post': {'summary': 'Predict', 'responses': {'200': {'content': {'application/json': {'schema': {'$ref': '#/components/schemas/PredictionResponse'}}}, 'description': 'Successful Response'}, '422': {'content': {'application/json': {'schema': {'$ref': '#/components/schemas/HTTPValidationError'}}}, 'description': 'Validation Error'}}, 'description': 'Run a single prediction on the model', 'operationId': 'predict_predictions_post', 'requestBody': {'content': {'application/json': {'schema': {'$ref': '#/components/schemas/PredictionRequest'}}}}}}}, 'openapi': '3.0.2', 'components': {'schemas': {'Input': {'type': 'object', 'title': 'Input', 'properties': {'width': {'allOf': [{'$ref': '#/components/schemas/width'}], 'default': 512, 'x-order': 6, 'description': 'Choose width. Lower the setting if out of memory.'}, 'height': {'allOf': [{'$ref': '#/components/schemas/height'}], 'default': 512, 'x-order': 7, 'description': 'Choose height. Lower the setting if out of memory.'}, 'prompt': {'type': 'string', 'title': 'Prompt', 'default': 'red cat, 4k photo', 'x-order': 0, 'description': 'Input Prompt'}, 'scheduler': {'allOf': [{'$ref': '#/components/schemas/scheduler'}], 'default': 'p_sampler', 'x-order': 3, 'description': 'Choose a scheduler'}, 'batch_size': {'allOf': [{'$ref': '#/components/schemas/batch_size'}], 'default': 1, 'x-order': 8, 'description': 'Choose batch size. Lower the setting if out of memory.'}, 'prior_steps': {'type': 'string', 'title': 'Prior Steps', 'default': '5', 'x-order': 5}, 'guidance_scale': {'type': 'number', 'title': 'Guidance Scale', 'default': 4, 'maximum': 20, 'minimum': 1, 'x-order': 2, 'description': 'Scale for classifier-free guidance'}, 'prior_cf_scale': {'type': 'integer', 'title': 'Prior Cf Scale', 'default': 4, 'x-order': 4}, 'num_inference_steps': {'type': 'integer', 'title': 'Num Inference Steps', 'default': 50, 'maximum': 500, 'minimum': 1, 'x-order': 1, 'description': 'Number of denoising steps'}}}, 'width': {'enum': [256, 288, 432, 512, 576, 768, 1024], 'type': 'integer', 'title': 'width', 'description': 'An enumeration.'}, 'Output': {'type': 'array', 'items': {'type': 'string', 'format': 'uri'}, 'title': 'Output'}, 'Status': {'enum': ['processing', 'succeeded', 'canceled', 'failed'], 'type': 'string', 'title': 'Status', 'description': 'An enumeration.'}, 'height': {'enum': [256, 288, 432, 512, 576, 768, 1024], 'type': 'integer', 'title': 'height', 'description': 'An enumeration.'}, 'scheduler': {'enum': ['ddim_sampler', 'p_sampler', 'plms_sampler'], 'type': 'string', 'title': 'scheduler', 'description': 'An enumeration.'}, 'batch_size': {'enum': [1, 2, 3, 4], 'type': 'integer', 'title': 'batch_size', 'description': 'An enumeration.'}, 'WebhookEvent': {'enum': ['start', 'output', 'logs', 'completed'], 'type': 'string', 'title': 'WebhookEvent', 'description': 'An enumeration.'}, 'ValidationError': {'type': 'object', 'title': 'ValidationError', 'required': ['loc', 'msg', 'type'], 'properties': {'loc': {'type': 'array', 'items': {'anyOf': [{'type': 'string'}, {'type': 'integer'}]}, 'title': 'Location'}, 'msg': {'type': 'string', 'title': 'Message'}, 'type': {'type': 'string', 'title': 'Error Type'}}}, 'PredictionRequest': {'type': 'object', 'title': 'PredictionRequest', 'properties': {'id': {'type': 'string', 'title': 'Id'}, 'input': {'$ref': '#/components/schemas/Input'}, 'webhook': {'type': 'string', 'title': 'Webhook', 'format': 'uri', 'maxLength': 65536, 'minLength': 1}, 'created_at': {'type': 'string', 'title': 'Created At', 'format': 'date-time'}, 'output_file_prefix': {'type': 'string', 'title': 'Output File Prefix'}, 'webhook_events_filter': {'type': 'array', 'items': {'$ref': '#/components/schemas/WebhookEvent'}, 'default': ['output', 'logs', 'start', 'completed'], 'uniqueItems': True}}}, 'PredictionResponse': {'type': 'object', 'title': 'PredictionResponse', 'properties': {'id': {'type': 'string', 'title': 'Id'}, 'logs': {'type': 'string', 'title': 'Logs'}, 'error': {'type': 'string', 'title': 'Error'}, 'input': {'$ref': '#/components/schemas/Input'}, 'output': {'$ref': '#/components/schemas/Output'}, 'status': {'$ref': '#/components/schemas/Status'}, 'created_at': {'type': 'string', 'title': 'Created At', 'format': 'date-time'}, 'started_at': {'type': 'string', 'title': 'Started At', 'format': 'date-time'}, 'completed_at': {'type': 'string', 'title': 'Completed At', 'format': 'date-time'}}}, 'HTTPValidationError': {'type': 'object', 'title': 'HTTPValidationError', 'properties': {'detail': {'type': 'array', 'items': {'$ref': '#/components/schemas/ValidationError'}, 'title': 'Detail'}}}}}}), started_at=None, created_at='2023-07-09T17:02:14.984055642Z', completed_at=None),\n",
              " Prediction(id='f2nmq3rbckynv23qlwyheyxpje', error=None, input={'guidance_scale': 4, 'height': 768, 'num_inference_steps': 100, 'prior_cf_scale': 4, 'prior_steps': '5', 'prompt': 'Tommy,A young boy with short, brown hair wearing a red t-shirt and blue shorts., Lily,A young girl with long, blonde hair wearing a pink dress and white shoes., and Whiskers,A tiny kitten with gray fur and adorable whiskers. playing happily together inside their cozy home.', 'scheduler': 'p_sampler', 'width': 1024}, logs='', output=None, status='starting', version=Version(id='601eea49d49003e6ea75a11527209c4f510a93e2112c969d548fbb45b9c4f19f', created_at=datetime.datetime(2023, 4, 15, 12, 51, 14, 975476, tzinfo=datetime.timezone.utc), cog_version='0.6.1', openapi_schema={'info': {'title': 'Cog', 'version': '0.1.0'}, 'paths': {'/': {'get': {'summary': 'Root', 'responses': {'200': {'content': {'application/json': {'schema': {'title': 'Response Root  Get'}}}, 'description': 'Successful Response'}}, 'operationId': 'root__get'}}, '/predictions': {'post': {'summary': 'Predict', 'responses': {'200': {'content': {'application/json': {'schema': {'$ref': '#/components/schemas/PredictionResponse'}}}, 'description': 'Successful Response'}, '422': {'content': {'application/json': {'schema': {'$ref': '#/components/schemas/HTTPValidationError'}}}, 'description': 'Validation Error'}}, 'description': 'Run a single prediction on the model', 'operationId': 'predict_predictions_post', 'requestBody': {'content': {'application/json': {'schema': {'$ref': '#/components/schemas/PredictionRequest'}}}}}}}, 'openapi': '3.0.2', 'components': {'schemas': {'Input': {'type': 'object', 'title': 'Input', 'properties': {'width': {'allOf': [{'$ref': '#/components/schemas/width'}], 'default': 512, 'x-order': 6, 'description': 'Choose width. Lower the setting if out of memory.'}, 'height': {'allOf': [{'$ref': '#/components/schemas/height'}], 'default': 512, 'x-order': 7, 'description': 'Choose height. Lower the setting if out of memory.'}, 'prompt': {'type': 'string', 'title': 'Prompt', 'default': 'red cat, 4k photo', 'x-order': 0, 'description': 'Input Prompt'}, 'scheduler': {'allOf': [{'$ref': '#/components/schemas/scheduler'}], 'default': 'p_sampler', 'x-order': 3, 'description': 'Choose a scheduler'}, 'batch_size': {'allOf': [{'$ref': '#/components/schemas/batch_size'}], 'default': 1, 'x-order': 8, 'description': 'Choose batch size. Lower the setting if out of memory.'}, 'prior_steps': {'type': 'string', 'title': 'Prior Steps', 'default': '5', 'x-order': 5}, 'guidance_scale': {'type': 'number', 'title': 'Guidance Scale', 'default': 4, 'maximum': 20, 'minimum': 1, 'x-order': 2, 'description': 'Scale for classifier-free guidance'}, 'prior_cf_scale': {'type': 'integer', 'title': 'Prior Cf Scale', 'default': 4, 'x-order': 4}, 'num_inference_steps': {'type': 'integer', 'title': 'Num Inference Steps', 'default': 50, 'maximum': 500, 'minimum': 1, 'x-order': 1, 'description': 'Number of denoising steps'}}}, 'width': {'enum': [256, 288, 432, 512, 576, 768, 1024], 'type': 'integer', 'title': 'width', 'description': 'An enumeration.'}, 'Output': {'type': 'array', 'items': {'type': 'string', 'format': 'uri'}, 'title': 'Output'}, 'Status': {'enum': ['processing', 'succeeded', 'canceled', 'failed'], 'type': 'string', 'title': 'Status', 'description': 'An enumeration.'}, 'height': {'enum': [256, 288, 432, 512, 576, 768, 1024], 'type': 'integer', 'title': 'height', 'description': 'An enumeration.'}, 'scheduler': {'enum': ['ddim_sampler', 'p_sampler', 'plms_sampler'], 'type': 'string', 'title': 'scheduler', 'description': 'An enumeration.'}, 'batch_size': {'enum': [1, 2, 3, 4], 'type': 'integer', 'title': 'batch_size', 'description': 'An enumeration.'}, 'WebhookEvent': {'enum': ['start', 'output', 'logs', 'completed'], 'type': 'string', 'title': 'WebhookEvent', 'description': 'An enumeration.'}, 'ValidationError': {'type': 'object', 'title': 'ValidationError', 'required': ['loc', 'msg', 'type'], 'properties': {'loc': {'type': 'array', 'items': {'anyOf': [{'type': 'string'}, {'type': 'integer'}]}, 'title': 'Location'}, 'msg': {'type': 'string', 'title': 'Message'}, 'type': {'type': 'string', 'title': 'Error Type'}}}, 'PredictionRequest': {'type': 'object', 'title': 'PredictionRequest', 'properties': {'id': {'type': 'string', 'title': 'Id'}, 'input': {'$ref': '#/components/schemas/Input'}, 'webhook': {'type': 'string', 'title': 'Webhook', 'format': 'uri', 'maxLength': 65536, 'minLength': 1}, 'created_at': {'type': 'string', 'title': 'Created At', 'format': 'date-time'}, 'output_file_prefix': {'type': 'string', 'title': 'Output File Prefix'}, 'webhook_events_filter': {'type': 'array', 'items': {'$ref': '#/components/schemas/WebhookEvent'}, 'default': ['output', 'logs', 'start', 'completed'], 'uniqueItems': True}}}, 'PredictionResponse': {'type': 'object', 'title': 'PredictionResponse', 'properties': {'id': {'type': 'string', 'title': 'Id'}, 'logs': {'type': 'string', 'title': 'Logs'}, 'error': {'type': 'string', 'title': 'Error'}, 'input': {'$ref': '#/components/schemas/Input'}, 'output': {'$ref': '#/components/schemas/Output'}, 'status': {'$ref': '#/components/schemas/Status'}, 'created_at': {'type': 'string', 'title': 'Created At', 'format': 'date-time'}, 'started_at': {'type': 'string', 'title': 'Started At', 'format': 'date-time'}, 'completed_at': {'type': 'string', 'title': 'Completed At', 'format': 'date-time'}}}, 'HTTPValidationError': {'type': 'object', 'title': 'HTTPValidationError', 'properties': {'detail': {'type': 'array', 'items': {'$ref': '#/components/schemas/ValidationError'}, 'title': 'Detail'}}}}}}), started_at=None, created_at='2023-07-09T17:02:15.196961683Z', completed_at=None),\n",
              " Prediction(id='qvp6mzrbnwdciu2ixpu75hnmje', error=None, input={'guidance_scale': 4, 'height': 768, 'num_inference_steps': 100, 'prior_cf_scale': 4, 'prior_steps': '5', 'prompt': 'Whiskers,A tiny kitten with gray fur and adorable whiskers. accidentally wandering off into the nearby forest, with Tommy,A young boy with short, brown hair wearing a red t-shirt and blue shorts. and Lily,A young girl with long, blonde hair wearing a pink dress and white shoes. searching for him.', 'scheduler': 'p_sampler', 'width': 1024}, logs='', output=None, status='starting', version=Version(id='601eea49d49003e6ea75a11527209c4f510a93e2112c969d548fbb45b9c4f19f', created_at=datetime.datetime(2023, 4, 15, 12, 51, 14, 975476, tzinfo=datetime.timezone.utc), cog_version='0.6.1', openapi_schema={'info': {'title': 'Cog', 'version': '0.1.0'}, 'paths': {'/': {'get': {'summary': 'Root', 'responses': {'200': {'content': {'application/json': {'schema': {'title': 'Response Root  Get'}}}, 'description': 'Successful Response'}}, 'operationId': 'root__get'}}, '/predictions': {'post': {'summary': 'Predict', 'responses': {'200': {'content': {'application/json': {'schema': {'$ref': '#/components/schemas/PredictionResponse'}}}, 'description': 'Successful Response'}, '422': {'content': {'application/json': {'schema': {'$ref': '#/components/schemas/HTTPValidationError'}}}, 'description': 'Validation Error'}}, 'description': 'Run a single prediction on the model', 'operationId': 'predict_predictions_post', 'requestBody': {'content': {'application/json': {'schema': {'$ref': '#/components/schemas/PredictionRequest'}}}}}}}, 'openapi': '3.0.2', 'components': {'schemas': {'Input': {'type': 'object', 'title': 'Input', 'properties': {'width': {'allOf': [{'$ref': '#/components/schemas/width'}], 'default': 512, 'x-order': 6, 'description': 'Choose width. Lower the setting if out of memory.'}, 'height': {'allOf': [{'$ref': '#/components/schemas/height'}], 'default': 512, 'x-order': 7, 'description': 'Choose height. Lower the setting if out of memory.'}, 'prompt': {'type': 'string', 'title': 'Prompt', 'default': 'red cat, 4k photo', 'x-order': 0, 'description': 'Input Prompt'}, 'scheduler': {'allOf': [{'$ref': '#/components/schemas/scheduler'}], 'default': 'p_sampler', 'x-order': 3, 'description': 'Choose a scheduler'}, 'batch_size': {'allOf': [{'$ref': '#/components/schemas/batch_size'}], 'default': 1, 'x-order': 8, 'description': 'Choose batch size. Lower the setting if out of memory.'}, 'prior_steps': {'type': 'string', 'title': 'Prior Steps', 'default': '5', 'x-order': 5}, 'guidance_scale': {'type': 'number', 'title': 'Guidance Scale', 'default': 4, 'maximum': 20, 'minimum': 1, 'x-order': 2, 'description': 'Scale for classifier-free guidance'}, 'prior_cf_scale': {'type': 'integer', 'title': 'Prior Cf Scale', 'default': 4, 'x-order': 4}, 'num_inference_steps': {'type': 'integer', 'title': 'Num Inference Steps', 'default': 50, 'maximum': 500, 'minimum': 1, 'x-order': 1, 'description': 'Number of denoising steps'}}}, 'width': {'enum': [256, 288, 432, 512, 576, 768, 1024], 'type': 'integer', 'title': 'width', 'description': 'An enumeration.'}, 'Output': {'type': 'array', 'items': {'type': 'string', 'format': 'uri'}, 'title': 'Output'}, 'Status': {'enum': ['processing', 'succeeded', 'canceled', 'failed'], 'type': 'string', 'title': 'Status', 'description': 'An enumeration.'}, 'height': {'enum': [256, 288, 432, 512, 576, 768, 1024], 'type': 'integer', 'title': 'height', 'description': 'An enumeration.'}, 'scheduler': {'enum': ['ddim_sampler', 'p_sampler', 'plms_sampler'], 'type': 'string', 'title': 'scheduler', 'description': 'An enumeration.'}, 'batch_size': {'enum': [1, 2, 3, 4], 'type': 'integer', 'title': 'batch_size', 'description': 'An enumeration.'}, 'WebhookEvent': {'enum': ['start', 'output', 'logs', 'completed'], 'type': 'string', 'title': 'WebhookEvent', 'description': 'An enumeration.'}, 'ValidationError': {'type': 'object', 'title': 'ValidationError', 'required': ['loc', 'msg', 'type'], 'properties': {'loc': {'type': 'array', 'items': {'anyOf': [{'type': 'string'}, {'type': 'integer'}]}, 'title': 'Location'}, 'msg': {'type': 'string', 'title': 'Message'}, 'type': {'type': 'string', 'title': 'Error Type'}}}, 'PredictionRequest': {'type': 'object', 'title': 'PredictionRequest', 'properties': {'id': {'type': 'string', 'title': 'Id'}, 'input': {'$ref': '#/components/schemas/Input'}, 'webhook': {'type': 'string', 'title': 'Webhook', 'format': 'uri', 'maxLength': 65536, 'minLength': 1}, 'created_at': {'type': 'string', 'title': 'Created At', 'format': 'date-time'}, 'output_file_prefix': {'type': 'string', 'title': 'Output File Prefix'}, 'webhook_events_filter': {'type': 'array', 'items': {'$ref': '#/components/schemas/WebhookEvent'}, 'default': ['output', 'logs', 'start', 'completed'], 'uniqueItems': True}}}, 'PredictionResponse': {'type': 'object', 'title': 'PredictionResponse', 'properties': {'id': {'type': 'string', 'title': 'Id'}, 'logs': {'type': 'string', 'title': 'Logs'}, 'error': {'type': 'string', 'title': 'Error'}, 'input': {'$ref': '#/components/schemas/Input'}, 'output': {'$ref': '#/components/schemas/Output'}, 'status': {'$ref': '#/components/schemas/Status'}, 'created_at': {'type': 'string', 'title': 'Created At', 'format': 'date-time'}, 'started_at': {'type': 'string', 'title': 'Started At', 'format': 'date-time'}, 'completed_at': {'type': 'string', 'title': 'Completed At', 'format': 'date-time'}}}, 'HTTPValidationError': {'type': 'object', 'title': 'HTTPValidationError', 'properties': {'detail': {'type': 'array', 'items': {'$ref': '#/components/schemas/ValidationError'}, 'title': 'Detail'}}}}}}), started_at=None, created_at='2023-07-09T17:02:15.402910938Z', completed_at=None),\n",
              " Prediction(id='eympifrbyennzkvc2d7xvx4l6q', error=None, input={'guidance_scale': 4, 'height': 768, 'num_inference_steps': 100, 'prior_cf_scale': 4, 'prior_steps': '5', 'prompt': 'Tommy,A young boy with short, brown hair wearing a red t-shirt and blue shorts. and Lily,A young girl with long, blonde hair wearing a pink dress and white shoes. looking worried as they search for Whiskers,A tiny kitten with gray fur and adorable whiskers. in the forest.', 'scheduler': 'p_sampler', 'width': 1024}, logs='', output=None, status='starting', version=Version(id='601eea49d49003e6ea75a11527209c4f510a93e2112c969d548fbb45b9c4f19f', created_at=datetime.datetime(2023, 4, 15, 12, 51, 14, 975476, tzinfo=datetime.timezone.utc), cog_version='0.6.1', openapi_schema={'info': {'title': 'Cog', 'version': '0.1.0'}, 'paths': {'/': {'get': {'summary': 'Root', 'responses': {'200': {'content': {'application/json': {'schema': {'title': 'Response Root  Get'}}}, 'description': 'Successful Response'}}, 'operationId': 'root__get'}}, '/predictions': {'post': {'summary': 'Predict', 'responses': {'200': {'content': {'application/json': {'schema': {'$ref': '#/components/schemas/PredictionResponse'}}}, 'description': 'Successful Response'}, '422': {'content': {'application/json': {'schema': {'$ref': '#/components/schemas/HTTPValidationError'}}}, 'description': 'Validation Error'}}, 'description': 'Run a single prediction on the model', 'operationId': 'predict_predictions_post', 'requestBody': {'content': {'application/json': {'schema': {'$ref': '#/components/schemas/PredictionRequest'}}}}}}}, 'openapi': '3.0.2', 'components': {'schemas': {'Input': {'type': 'object', 'title': 'Input', 'properties': {'width': {'allOf': [{'$ref': '#/components/schemas/width'}], 'default': 512, 'x-order': 6, 'description': 'Choose width. Lower the setting if out of memory.'}, 'height': {'allOf': [{'$ref': '#/components/schemas/height'}], 'default': 512, 'x-order': 7, 'description': 'Choose height. Lower the setting if out of memory.'}, 'prompt': {'type': 'string', 'title': 'Prompt', 'default': 'red cat, 4k photo', 'x-order': 0, 'description': 'Input Prompt'}, 'scheduler': {'allOf': [{'$ref': '#/components/schemas/scheduler'}], 'default': 'p_sampler', 'x-order': 3, 'description': 'Choose a scheduler'}, 'batch_size': {'allOf': [{'$ref': '#/components/schemas/batch_size'}], 'default': 1, 'x-order': 8, 'description': 'Choose batch size. Lower the setting if out of memory.'}, 'prior_steps': {'type': 'string', 'title': 'Prior Steps', 'default': '5', 'x-order': 5}, 'guidance_scale': {'type': 'number', 'title': 'Guidance Scale', 'default': 4, 'maximum': 20, 'minimum': 1, 'x-order': 2, 'description': 'Scale for classifier-free guidance'}, 'prior_cf_scale': {'type': 'integer', 'title': 'Prior Cf Scale', 'default': 4, 'x-order': 4}, 'num_inference_steps': {'type': 'integer', 'title': 'Num Inference Steps', 'default': 50, 'maximum': 500, 'minimum': 1, 'x-order': 1, 'description': 'Number of denoising steps'}}}, 'width': {'enum': [256, 288, 432, 512, 576, 768, 1024], 'type': 'integer', 'title': 'width', 'description': 'An enumeration.'}, 'Output': {'type': 'array', 'items': {'type': 'string', 'format': 'uri'}, 'title': 'Output'}, 'Status': {'enum': ['processing', 'succeeded', 'canceled', 'failed'], 'type': 'string', 'title': 'Status', 'description': 'An enumeration.'}, 'height': {'enum': [256, 288, 432, 512, 576, 768, 1024], 'type': 'integer', 'title': 'height', 'description': 'An enumeration.'}, 'scheduler': {'enum': ['ddim_sampler', 'p_sampler', 'plms_sampler'], 'type': 'string', 'title': 'scheduler', 'description': 'An enumeration.'}, 'batch_size': {'enum': [1, 2, 3, 4], 'type': 'integer', 'title': 'batch_size', 'description': 'An enumeration.'}, 'WebhookEvent': {'enum': ['start', 'output', 'logs', 'completed'], 'type': 'string', 'title': 'WebhookEvent', 'description': 'An enumeration.'}, 'ValidationError': {'type': 'object', 'title': 'ValidationError', 'required': ['loc', 'msg', 'type'], 'properties': {'loc': {'type': 'array', 'items': {'anyOf': [{'type': 'string'}, {'type': 'integer'}]}, 'title': 'Location'}, 'msg': {'type': 'string', 'title': 'Message'}, 'type': {'type': 'string', 'title': 'Error Type'}}}, 'PredictionRequest': {'type': 'object', 'title': 'PredictionRequest', 'properties': {'id': {'type': 'string', 'title': 'Id'}, 'input': {'$ref': '#/components/schemas/Input'}, 'webhook': {'type': 'string', 'title': 'Webhook', 'format': 'uri', 'maxLength': 65536, 'minLength': 1}, 'created_at': {'type': 'string', 'title': 'Created At', 'format': 'date-time'}, 'output_file_prefix': {'type': 'string', 'title': 'Output File Prefix'}, 'webhook_events_filter': {'type': 'array', 'items': {'$ref': '#/components/schemas/WebhookEvent'}, 'default': ['output', 'logs', 'start', 'completed'], 'uniqueItems': True}}}, 'PredictionResponse': {'type': 'object', 'title': 'PredictionResponse', 'properties': {'id': {'type': 'string', 'title': 'Id'}, 'logs': {'type': 'string', 'title': 'Logs'}, 'error': {'type': 'string', 'title': 'Error'}, 'input': {'$ref': '#/components/schemas/Input'}, 'output': {'$ref': '#/components/schemas/Output'}, 'status': {'$ref': '#/components/schemas/Status'}, 'created_at': {'type': 'string', 'title': 'Created At', 'format': 'date-time'}, 'started_at': {'type': 'string', 'title': 'Started At', 'format': 'date-time'}, 'completed_at': {'type': 'string', 'title': 'Completed At', 'format': 'date-time'}}}, 'HTTPValidationError': {'type': 'object', 'title': 'HTTPValidationError', 'properties': {'detail': {'type': 'array', 'items': {'$ref': '#/components/schemas/ValidationError'}, 'title': 'Detail'}}}}}}), started_at=None, created_at='2023-07-09T17:02:15.617408831Z', completed_at=None),\n",
              " Prediction(id='wynl6mzb4dptu3lsc6l6jfci74', error=None, input={'guidance_scale': 4, 'height': 768, 'num_inference_steps': 100, 'prior_cf_scale': 4, 'prior_steps': '5', 'prompt': 'Tommy,A young boy with short, brown hair wearing a red t-shirt and blue shorts. and Lily,A young girl with long, blonde hair wearing a pink dress and white shoes. asking their neighbors for help in finding Whiskers,A tiny kitten with gray fur and adorable whiskers..', 'scheduler': 'p_sampler', 'width': 1024}, logs='', output=None, status='starting', version=Version(id='601eea49d49003e6ea75a11527209c4f510a93e2112c969d548fbb45b9c4f19f', created_at=datetime.datetime(2023, 4, 15, 12, 51, 14, 975476, tzinfo=datetime.timezone.utc), cog_version='0.6.1', openapi_schema={'info': {'title': 'Cog', 'version': '0.1.0'}, 'paths': {'/': {'get': {'summary': 'Root', 'responses': {'200': {'content': {'application/json': {'schema': {'title': 'Response Root  Get'}}}, 'description': 'Successful Response'}}, 'operationId': 'root__get'}}, '/predictions': {'post': {'summary': 'Predict', 'responses': {'200': {'content': {'application/json': {'schema': {'$ref': '#/components/schemas/PredictionResponse'}}}, 'description': 'Successful Response'}, '422': {'content': {'application/json': {'schema': {'$ref': '#/components/schemas/HTTPValidationError'}}}, 'description': 'Validation Error'}}, 'description': 'Run a single prediction on the model', 'operationId': 'predict_predictions_post', 'requestBody': {'content': {'application/json': {'schema': {'$ref': '#/components/schemas/PredictionRequest'}}}}}}}, 'openapi': '3.0.2', 'components': {'schemas': {'Input': {'type': 'object', 'title': 'Input', 'properties': {'width': {'allOf': [{'$ref': '#/components/schemas/width'}], 'default': 512, 'x-order': 6, 'description': 'Choose width. Lower the setting if out of memory.'}, 'height': {'allOf': [{'$ref': '#/components/schemas/height'}], 'default': 512, 'x-order': 7, 'description': 'Choose height. Lower the setting if out of memory.'}, 'prompt': {'type': 'string', 'title': 'Prompt', 'default': 'red cat, 4k photo', 'x-order': 0, 'description': 'Input Prompt'}, 'scheduler': {'allOf': [{'$ref': '#/components/schemas/scheduler'}], 'default': 'p_sampler', 'x-order': 3, 'description': 'Choose a scheduler'}, 'batch_size': {'allOf': [{'$ref': '#/components/schemas/batch_size'}], 'default': 1, 'x-order': 8, 'description': 'Choose batch size. Lower the setting if out of memory.'}, 'prior_steps': {'type': 'string', 'title': 'Prior Steps', 'default': '5', 'x-order': 5}, 'guidance_scale': {'type': 'number', 'title': 'Guidance Scale', 'default': 4, 'maximum': 20, 'minimum': 1, 'x-order': 2, 'description': 'Scale for classifier-free guidance'}, 'prior_cf_scale': {'type': 'integer', 'title': 'Prior Cf Scale', 'default': 4, 'x-order': 4}, 'num_inference_steps': {'type': 'integer', 'title': 'Num Inference Steps', 'default': 50, 'maximum': 500, 'minimum': 1, 'x-order': 1, 'description': 'Number of denoising steps'}}}, 'width': {'enum': [256, 288, 432, 512, 576, 768, 1024], 'type': 'integer', 'title': 'width', 'description': 'An enumeration.'}, 'Output': {'type': 'array', 'items': {'type': 'string', 'format': 'uri'}, 'title': 'Output'}, 'Status': {'enum': ['processing', 'succeeded', 'canceled', 'failed'], 'type': 'string', 'title': 'Status', 'description': 'An enumeration.'}, 'height': {'enum': [256, 288, 432, 512, 576, 768, 1024], 'type': 'integer', 'title': 'height', 'description': 'An enumeration.'}, 'scheduler': {'enum': ['ddim_sampler', 'p_sampler', 'plms_sampler'], 'type': 'string', 'title': 'scheduler', 'description': 'An enumeration.'}, 'batch_size': {'enum': [1, 2, 3, 4], 'type': 'integer', 'title': 'batch_size', 'description': 'An enumeration.'}, 'WebhookEvent': {'enum': ['start', 'output', 'logs', 'completed'], 'type': 'string', 'title': 'WebhookEvent', 'description': 'An enumeration.'}, 'ValidationError': {'type': 'object', 'title': 'ValidationError', 'required': ['loc', 'msg', 'type'], 'properties': {'loc': {'type': 'array', 'items': {'anyOf': [{'type': 'string'}, {'type': 'integer'}]}, 'title': 'Location'}, 'msg': {'type': 'string', 'title': 'Message'}, 'type': {'type': 'string', 'title': 'Error Type'}}}, 'PredictionRequest': {'type': 'object', 'title': 'PredictionRequest', 'properties': {'id': {'type': 'string', 'title': 'Id'}, 'input': {'$ref': '#/components/schemas/Input'}, 'webhook': {'type': 'string', 'title': 'Webhook', 'format': 'uri', 'maxLength': 65536, 'minLength': 1}, 'created_at': {'type': 'string', 'title': 'Created At', 'format': 'date-time'}, 'output_file_prefix': {'type': 'string', 'title': 'Output File Prefix'}, 'webhook_events_filter': {'type': 'array', 'items': {'$ref': '#/components/schemas/WebhookEvent'}, 'default': ['output', 'logs', 'start', 'completed'], 'uniqueItems': True}}}, 'PredictionResponse': {'type': 'object', 'title': 'PredictionResponse', 'properties': {'id': {'type': 'string', 'title': 'Id'}, 'logs': {'type': 'string', 'title': 'Logs'}, 'error': {'type': 'string', 'title': 'Error'}, 'input': {'$ref': '#/components/schemas/Input'}, 'output': {'$ref': '#/components/schemas/Output'}, 'status': {'$ref': '#/components/schemas/Status'}, 'created_at': {'type': 'string', 'title': 'Created At', 'format': 'date-time'}, 'started_at': {'type': 'string', 'title': 'Started At', 'format': 'date-time'}, 'completed_at': {'type': 'string', 'title': 'Completed At', 'format': 'date-time'}}}, 'HTTPValidationError': {'type': 'object', 'title': 'HTTPValidationError', 'properties': {'detail': {'type': 'array', 'items': {'$ref': '#/components/schemas/ValidationError'}, 'title': 'Detail'}}}}}}), started_at=None, created_at='2023-07-09T17:02:15.831068116Z', completed_at=None),\n",
              " Prediction(id='zefs4yrbqbzlma7s6xqf6tdnpu', error=None, input={'guidance_scale': 4, 'height': 768, 'num_inference_steps': 100, 'prior_cf_scale': 4, 'prior_steps': '5', 'prompt': \"Tommy,A young boy with short, brown hair wearing a red t-shirt and blue shorts. and Lily,A young girl with long, blonde hair wearing a pink dress and white shoes. putting up posters with Whiskers,A tiny kitten with gray fur and adorable whiskers.' picture around the village.\", 'scheduler': 'p_sampler', 'width': 1024}, logs='', output=None, status='starting', version=Version(id='601eea49d49003e6ea75a11527209c4f510a93e2112c969d548fbb45b9c4f19f', created_at=datetime.datetime(2023, 4, 15, 12, 51, 14, 975476, tzinfo=datetime.timezone.utc), cog_version='0.6.1', openapi_schema={'info': {'title': 'Cog', 'version': '0.1.0'}, 'paths': {'/': {'get': {'summary': 'Root', 'responses': {'200': {'content': {'application/json': {'schema': {'title': 'Response Root  Get'}}}, 'description': 'Successful Response'}}, 'operationId': 'root__get'}}, '/predictions': {'post': {'summary': 'Predict', 'responses': {'200': {'content': {'application/json': {'schema': {'$ref': '#/components/schemas/PredictionResponse'}}}, 'description': 'Successful Response'}, '422': {'content': {'application/json': {'schema': {'$ref': '#/components/schemas/HTTPValidationError'}}}, 'description': 'Validation Error'}}, 'description': 'Run a single prediction on the model', 'operationId': 'predict_predictions_post', 'requestBody': {'content': {'application/json': {'schema': {'$ref': '#/components/schemas/PredictionRequest'}}}}}}}, 'openapi': '3.0.2', 'components': {'schemas': {'Input': {'type': 'object', 'title': 'Input', 'properties': {'width': {'allOf': [{'$ref': '#/components/schemas/width'}], 'default': 512, 'x-order': 6, 'description': 'Choose width. Lower the setting if out of memory.'}, 'height': {'allOf': [{'$ref': '#/components/schemas/height'}], 'default': 512, 'x-order': 7, 'description': 'Choose height. Lower the setting if out of memory.'}, 'prompt': {'type': 'string', 'title': 'Prompt', 'default': 'red cat, 4k photo', 'x-order': 0, 'description': 'Input Prompt'}, 'scheduler': {'allOf': [{'$ref': '#/components/schemas/scheduler'}], 'default': 'p_sampler', 'x-order': 3, 'description': 'Choose a scheduler'}, 'batch_size': {'allOf': [{'$ref': '#/components/schemas/batch_size'}], 'default': 1, 'x-order': 8, 'description': 'Choose batch size. Lower the setting if out of memory.'}, 'prior_steps': {'type': 'string', 'title': 'Prior Steps', 'default': '5', 'x-order': 5}, 'guidance_scale': {'type': 'number', 'title': 'Guidance Scale', 'default': 4, 'maximum': 20, 'minimum': 1, 'x-order': 2, 'description': 'Scale for classifier-free guidance'}, 'prior_cf_scale': {'type': 'integer', 'title': 'Prior Cf Scale', 'default': 4, 'x-order': 4}, 'num_inference_steps': {'type': 'integer', 'title': 'Num Inference Steps', 'default': 50, 'maximum': 500, 'minimum': 1, 'x-order': 1, 'description': 'Number of denoising steps'}}}, 'width': {'enum': [256, 288, 432, 512, 576, 768, 1024], 'type': 'integer', 'title': 'width', 'description': 'An enumeration.'}, 'Output': {'type': 'array', 'items': {'type': 'string', 'format': 'uri'}, 'title': 'Output'}, 'Status': {'enum': ['processing', 'succeeded', 'canceled', 'failed'], 'type': 'string', 'title': 'Status', 'description': 'An enumeration.'}, 'height': {'enum': [256, 288, 432, 512, 576, 768, 1024], 'type': 'integer', 'title': 'height', 'description': 'An enumeration.'}, 'scheduler': {'enum': ['ddim_sampler', 'p_sampler', 'plms_sampler'], 'type': 'string', 'title': 'scheduler', 'description': 'An enumeration.'}, 'batch_size': {'enum': [1, 2, 3, 4], 'type': 'integer', 'title': 'batch_size', 'description': 'An enumeration.'}, 'WebhookEvent': {'enum': ['start', 'output', 'logs', 'completed'], 'type': 'string', 'title': 'WebhookEvent', 'description': 'An enumeration.'}, 'ValidationError': {'type': 'object', 'title': 'ValidationError', 'required': ['loc', 'msg', 'type'], 'properties': {'loc': {'type': 'array', 'items': {'anyOf': [{'type': 'string'}, {'type': 'integer'}]}, 'title': 'Location'}, 'msg': {'type': 'string', 'title': 'Message'}, 'type': {'type': 'string', 'title': 'Error Type'}}}, 'PredictionRequest': {'type': 'object', 'title': 'PredictionRequest', 'properties': {'id': {'type': 'string', 'title': 'Id'}, 'input': {'$ref': '#/components/schemas/Input'}, 'webhook': {'type': 'string', 'title': 'Webhook', 'format': 'uri', 'maxLength': 65536, 'minLength': 1}, 'created_at': {'type': 'string', 'title': 'Created At', 'format': 'date-time'}, 'output_file_prefix': {'type': 'string', 'title': 'Output File Prefix'}, 'webhook_events_filter': {'type': 'array', 'items': {'$ref': '#/components/schemas/WebhookEvent'}, 'default': ['output', 'logs', 'start', 'completed'], 'uniqueItems': True}}}, 'PredictionResponse': {'type': 'object', 'title': 'PredictionResponse', 'properties': {'id': {'type': 'string', 'title': 'Id'}, 'logs': {'type': 'string', 'title': 'Logs'}, 'error': {'type': 'string', 'title': 'Error'}, 'input': {'$ref': '#/components/schemas/Input'}, 'output': {'$ref': '#/components/schemas/Output'}, 'status': {'$ref': '#/components/schemas/Status'}, 'created_at': {'type': 'string', 'title': 'Created At', 'format': 'date-time'}, 'started_at': {'type': 'string', 'title': 'Started At', 'format': 'date-time'}, 'completed_at': {'type': 'string', 'title': 'Completed At', 'format': 'date-time'}}}, 'HTTPValidationError': {'type': 'object', 'title': 'HTTPValidationError', 'properties': {'detail': {'type': 'array', 'items': {'$ref': '#/components/schemas/ValidationError'}, 'title': 'Detail'}}}}}}), started_at=None, created_at='2023-07-09T17:02:16.045744098Z', completed_at=None),\n",
              " Prediction(id='aijzv2jbua2zemgvhgk5isg7km', error=None, input={'guidance_scale': 4, 'height': 768, 'num_inference_steps': 100, 'prior_cf_scale': 4, 'prior_steps': '5', 'prompt': 'The whole village joining Tommy,A young boy with short, brown hair wearing a red t-shirt and blue shorts. and Lily,A young girl with long, blonde hair wearing a pink dress and white shoes. in the search for Whiskers,A tiny kitten with gray fur and adorable whiskers..', 'scheduler': 'p_sampler', 'width': 1024}, logs='', output=None, status='starting', version=Version(id='601eea49d49003e6ea75a11527209c4f510a93e2112c969d548fbb45b9c4f19f', created_at=datetime.datetime(2023, 4, 15, 12, 51, 14, 975476, tzinfo=datetime.timezone.utc), cog_version='0.6.1', openapi_schema={'info': {'title': 'Cog', 'version': '0.1.0'}, 'paths': {'/': {'get': {'summary': 'Root', 'responses': {'200': {'content': {'application/json': {'schema': {'title': 'Response Root  Get'}}}, 'description': 'Successful Response'}}, 'operationId': 'root__get'}}, '/predictions': {'post': {'summary': 'Predict', 'responses': {'200': {'content': {'application/json': {'schema': {'$ref': '#/components/schemas/PredictionResponse'}}}, 'description': 'Successful Response'}, '422': {'content': {'application/json': {'schema': {'$ref': '#/components/schemas/HTTPValidationError'}}}, 'description': 'Validation Error'}}, 'description': 'Run a single prediction on the model', 'operationId': 'predict_predictions_post', 'requestBody': {'content': {'application/json': {'schema': {'$ref': '#/components/schemas/PredictionRequest'}}}}}}}, 'openapi': '3.0.2', 'components': {'schemas': {'Input': {'type': 'object', 'title': 'Input', 'properties': {'width': {'allOf': [{'$ref': '#/components/schemas/width'}], 'default': 512, 'x-order': 6, 'description': 'Choose width. Lower the setting if out of memory.'}, 'height': {'allOf': [{'$ref': '#/components/schemas/height'}], 'default': 512, 'x-order': 7, 'description': 'Choose height. Lower the setting if out of memory.'}, 'prompt': {'type': 'string', 'title': 'Prompt', 'default': 'red cat, 4k photo', 'x-order': 0, 'description': 'Input Prompt'}, 'scheduler': {'allOf': [{'$ref': '#/components/schemas/scheduler'}], 'default': 'p_sampler', 'x-order': 3, 'description': 'Choose a scheduler'}, 'batch_size': {'allOf': [{'$ref': '#/components/schemas/batch_size'}], 'default': 1, 'x-order': 8, 'description': 'Choose batch size. Lower the setting if out of memory.'}, 'prior_steps': {'type': 'string', 'title': 'Prior Steps', 'default': '5', 'x-order': 5}, 'guidance_scale': {'type': 'number', 'title': 'Guidance Scale', 'default': 4, 'maximum': 20, 'minimum': 1, 'x-order': 2, 'description': 'Scale for classifier-free guidance'}, 'prior_cf_scale': {'type': 'integer', 'title': 'Prior Cf Scale', 'default': 4, 'x-order': 4}, 'num_inference_steps': {'type': 'integer', 'title': 'Num Inference Steps', 'default': 50, 'maximum': 500, 'minimum': 1, 'x-order': 1, 'description': 'Number of denoising steps'}}}, 'width': {'enum': [256, 288, 432, 512, 576, 768, 1024], 'type': 'integer', 'title': 'width', 'description': 'An enumeration.'}, 'Output': {'type': 'array', 'items': {'type': 'string', 'format': 'uri'}, 'title': 'Output'}, 'Status': {'enum': ['processing', 'succeeded', 'canceled', 'failed'], 'type': 'string', 'title': 'Status', 'description': 'An enumeration.'}, 'height': {'enum': [256, 288, 432, 512, 576, 768, 1024], 'type': 'integer', 'title': 'height', 'description': 'An enumeration.'}, 'scheduler': {'enum': ['ddim_sampler', 'p_sampler', 'plms_sampler'], 'type': 'string', 'title': 'scheduler', 'description': 'An enumeration.'}, 'batch_size': {'enum': [1, 2, 3, 4], 'type': 'integer', 'title': 'batch_size', 'description': 'An enumeration.'}, 'WebhookEvent': {'enum': ['start', 'output', 'logs', 'completed'], 'type': 'string', 'title': 'WebhookEvent', 'description': 'An enumeration.'}, 'ValidationError': {'type': 'object', 'title': 'ValidationError', 'required': ['loc', 'msg', 'type'], 'properties': {'loc': {'type': 'array', 'items': {'anyOf': [{'type': 'string'}, {'type': 'integer'}]}, 'title': 'Location'}, 'msg': {'type': 'string', 'title': 'Message'}, 'type': {'type': 'string', 'title': 'Error Type'}}}, 'PredictionRequest': {'type': 'object', 'title': 'PredictionRequest', 'properties': {'id': {'type': 'string', 'title': 'Id'}, 'input': {'$ref': '#/components/schemas/Input'}, 'webhook': {'type': 'string', 'title': 'Webhook', 'format': 'uri', 'maxLength': 65536, 'minLength': 1}, 'created_at': {'type': 'string', 'title': 'Created At', 'format': 'date-time'}, 'output_file_prefix': {'type': 'string', 'title': 'Output File Prefix'}, 'webhook_events_filter': {'type': 'array', 'items': {'$ref': '#/components/schemas/WebhookEvent'}, 'default': ['output', 'logs', 'start', 'completed'], 'uniqueItems': True}}}, 'PredictionResponse': {'type': 'object', 'title': 'PredictionResponse', 'properties': {'id': {'type': 'string', 'title': 'Id'}, 'logs': {'type': 'string', 'title': 'Logs'}, 'error': {'type': 'string', 'title': 'Error'}, 'input': {'$ref': '#/components/schemas/Input'}, 'output': {'$ref': '#/components/schemas/Output'}, 'status': {'$ref': '#/components/schemas/Status'}, 'created_at': {'type': 'string', 'title': 'Created At', 'format': 'date-time'}, 'started_at': {'type': 'string', 'title': 'Started At', 'format': 'date-time'}, 'completed_at': {'type': 'string', 'title': 'Completed At', 'format': 'date-time'}}}, 'HTTPValidationError': {'type': 'object', 'title': 'HTTPValidationError', 'properties': {'detail': {'type': 'array', 'items': {'$ref': '#/components/schemas/ValidationError'}, 'title': 'Detail'}}}}}}), started_at=None, created_at='2023-07-09T17:02:16.267872275Z', completed_at=None),\n",
              " Prediction(id='xxhmesbbdz54enz32aqqu4nca4', error=None, input={'guidance_scale': 4, 'height': 768, 'num_inference_steps': 100, 'prior_cf_scale': 4, 'prior_steps': '5', 'prompt': 'Tommy,A young boy with short, brown hair wearing a red t-shirt and blue shorts. spotting Whiskers,A tiny kitten with gray fur and adorable whiskers. stuck in a tree and calling for help.', 'scheduler': 'p_sampler', 'width': 1024}, logs='', output=None, status='starting', version=Version(id='601eea49d49003e6ea75a11527209c4f510a93e2112c969d548fbb45b9c4f19f', created_at=datetime.datetime(2023, 4, 15, 12, 51, 14, 975476, tzinfo=datetime.timezone.utc), cog_version='0.6.1', openapi_schema={'info': {'title': 'Cog', 'version': '0.1.0'}, 'paths': {'/': {'get': {'summary': 'Root', 'responses': {'200': {'content': {'application/json': {'schema': {'title': 'Response Root  Get'}}}, 'description': 'Successful Response'}}, 'operationId': 'root__get'}}, '/predictions': {'post': {'summary': 'Predict', 'responses': {'200': {'content': {'application/json': {'schema': {'$ref': '#/components/schemas/PredictionResponse'}}}, 'description': 'Successful Response'}, '422': {'content': {'application/json': {'schema': {'$ref': '#/components/schemas/HTTPValidationError'}}}, 'description': 'Validation Error'}}, 'description': 'Run a single prediction on the model', 'operationId': 'predict_predictions_post', 'requestBody': {'content': {'application/json': {'schema': {'$ref': '#/components/schemas/PredictionRequest'}}}}}}}, 'openapi': '3.0.2', 'components': {'schemas': {'Input': {'type': 'object', 'title': 'Input', 'properties': {'width': {'allOf': [{'$ref': '#/components/schemas/width'}], 'default': 512, 'x-order': 6, 'description': 'Choose width. Lower the setting if out of memory.'}, 'height': {'allOf': [{'$ref': '#/components/schemas/height'}], 'default': 512, 'x-order': 7, 'description': 'Choose height. Lower the setting if out of memory.'}, 'prompt': {'type': 'string', 'title': 'Prompt', 'default': 'red cat, 4k photo', 'x-order': 0, 'description': 'Input Prompt'}, 'scheduler': {'allOf': [{'$ref': '#/components/schemas/scheduler'}], 'default': 'p_sampler', 'x-order': 3, 'description': 'Choose a scheduler'}, 'batch_size': {'allOf': [{'$ref': '#/components/schemas/batch_size'}], 'default': 1, 'x-order': 8, 'description': 'Choose batch size. Lower the setting if out of memory.'}, 'prior_steps': {'type': 'string', 'title': 'Prior Steps', 'default': '5', 'x-order': 5}, 'guidance_scale': {'type': 'number', 'title': 'Guidance Scale', 'default': 4, 'maximum': 20, 'minimum': 1, 'x-order': 2, 'description': 'Scale for classifier-free guidance'}, 'prior_cf_scale': {'type': 'integer', 'title': 'Prior Cf Scale', 'default': 4, 'x-order': 4}, 'num_inference_steps': {'type': 'integer', 'title': 'Num Inference Steps', 'default': 50, 'maximum': 500, 'minimum': 1, 'x-order': 1, 'description': 'Number of denoising steps'}}}, 'width': {'enum': [256, 288, 432, 512, 576, 768, 1024], 'type': 'integer', 'title': 'width', 'description': 'An enumeration.'}, 'Output': {'type': 'array', 'items': {'type': 'string', 'format': 'uri'}, 'title': 'Output'}, 'Status': {'enum': ['processing', 'succeeded', 'canceled', 'failed'], 'type': 'string', 'title': 'Status', 'description': 'An enumeration.'}, 'height': {'enum': [256, 288, 432, 512, 576, 768, 1024], 'type': 'integer', 'title': 'height', 'description': 'An enumeration.'}, 'scheduler': {'enum': ['ddim_sampler', 'p_sampler', 'plms_sampler'], 'type': 'string', 'title': 'scheduler', 'description': 'An enumeration.'}, 'batch_size': {'enum': [1, 2, 3, 4], 'type': 'integer', 'title': 'batch_size', 'description': 'An enumeration.'}, 'WebhookEvent': {'enum': ['start', 'output', 'logs', 'completed'], 'type': 'string', 'title': 'WebhookEvent', 'description': 'An enumeration.'}, 'ValidationError': {'type': 'object', 'title': 'ValidationError', 'required': ['loc', 'msg', 'type'], 'properties': {'loc': {'type': 'array', 'items': {'anyOf': [{'type': 'string'}, {'type': 'integer'}]}, 'title': 'Location'}, 'msg': {'type': 'string', 'title': 'Message'}, 'type': {'type': 'string', 'title': 'Error Type'}}}, 'PredictionRequest': {'type': 'object', 'title': 'PredictionRequest', 'properties': {'id': {'type': 'string', 'title': 'Id'}, 'input': {'$ref': '#/components/schemas/Input'}, 'webhook': {'type': 'string', 'title': 'Webhook', 'format': 'uri', 'maxLength': 65536, 'minLength': 1}, 'created_at': {'type': 'string', 'title': 'Created At', 'format': 'date-time'}, 'output_file_prefix': {'type': 'string', 'title': 'Output File Prefix'}, 'webhook_events_filter': {'type': 'array', 'items': {'$ref': '#/components/schemas/WebhookEvent'}, 'default': ['output', 'logs', 'start', 'completed'], 'uniqueItems': True}}}, 'PredictionResponse': {'type': 'object', 'title': 'PredictionResponse', 'properties': {'id': {'type': 'string', 'title': 'Id'}, 'logs': {'type': 'string', 'title': 'Logs'}, 'error': {'type': 'string', 'title': 'Error'}, 'input': {'$ref': '#/components/schemas/Input'}, 'output': {'$ref': '#/components/schemas/Output'}, 'status': {'$ref': '#/components/schemas/Status'}, 'created_at': {'type': 'string', 'title': 'Created At', 'format': 'date-time'}, 'started_at': {'type': 'string', 'title': 'Started At', 'format': 'date-time'}, 'completed_at': {'type': 'string', 'title': 'Completed At', 'format': 'date-time'}}}, 'HTTPValidationError': {'type': 'object', 'title': 'HTTPValidationError', 'properties': {'detail': {'type': 'array', 'items': {'$ref': '#/components/schemas/ValidationError'}, 'title': 'Detail'}}}}}}), started_at=None, created_at='2023-07-09T17:02:16.477799093Z', completed_at=None),\n",
              " Prediction(id='7c7lambbfffuo7lc3haglycrmi', error=None, input={'guidance_scale': 4, 'height': 768, 'num_inference_steps': 100, 'prior_cf_scale': 4, 'prior_steps': '5', 'prompt': 'Tommy,A young boy with short, brown hair wearing a red t-shirt and blue shorts. climbing the tree to rescue Whiskers,A tiny kitten with gray fur and adorable whiskers. while Lily,A young girl with long, blonde hair wearing a pink dress and white shoes. and others cheer him on.', 'scheduler': 'p_sampler', 'width': 1024}, logs='', output=None, status='starting', version=Version(id='601eea49d49003e6ea75a11527209c4f510a93e2112c969d548fbb45b9c4f19f', created_at=datetime.datetime(2023, 4, 15, 12, 51, 14, 975476, tzinfo=datetime.timezone.utc), cog_version='0.6.1', openapi_schema={'info': {'title': 'Cog', 'version': '0.1.0'}, 'paths': {'/': {'get': {'summary': 'Root', 'responses': {'200': {'content': {'application/json': {'schema': {'title': 'Response Root  Get'}}}, 'description': 'Successful Response'}}, 'operationId': 'root__get'}}, '/predictions': {'post': {'summary': 'Predict', 'responses': {'200': {'content': {'application/json': {'schema': {'$ref': '#/components/schemas/PredictionResponse'}}}, 'description': 'Successful Response'}, '422': {'content': {'application/json': {'schema': {'$ref': '#/components/schemas/HTTPValidationError'}}}, 'description': 'Validation Error'}}, 'description': 'Run a single prediction on the model', 'operationId': 'predict_predictions_post', 'requestBody': {'content': {'application/json': {'schema': {'$ref': '#/components/schemas/PredictionRequest'}}}}}}}, 'openapi': '3.0.2', 'components': {'schemas': {'Input': {'type': 'object', 'title': 'Input', 'properties': {'width': {'allOf': [{'$ref': '#/components/schemas/width'}], 'default': 512, 'x-order': 6, 'description': 'Choose width. Lower the setting if out of memory.'}, 'height': {'allOf': [{'$ref': '#/components/schemas/height'}], 'default': 512, 'x-order': 7, 'description': 'Choose height. Lower the setting if out of memory.'}, 'prompt': {'type': 'string', 'title': 'Prompt', 'default': 'red cat, 4k photo', 'x-order': 0, 'description': 'Input Prompt'}, 'scheduler': {'allOf': [{'$ref': '#/components/schemas/scheduler'}], 'default': 'p_sampler', 'x-order': 3, 'description': 'Choose a scheduler'}, 'batch_size': {'allOf': [{'$ref': '#/components/schemas/batch_size'}], 'default': 1, 'x-order': 8, 'description': 'Choose batch size. Lower the setting if out of memory.'}, 'prior_steps': {'type': 'string', 'title': 'Prior Steps', 'default': '5', 'x-order': 5}, 'guidance_scale': {'type': 'number', 'title': 'Guidance Scale', 'default': 4, 'maximum': 20, 'minimum': 1, 'x-order': 2, 'description': 'Scale for classifier-free guidance'}, 'prior_cf_scale': {'type': 'integer', 'title': 'Prior Cf Scale', 'default': 4, 'x-order': 4}, 'num_inference_steps': {'type': 'integer', 'title': 'Num Inference Steps', 'default': 50, 'maximum': 500, 'minimum': 1, 'x-order': 1, 'description': 'Number of denoising steps'}}}, 'width': {'enum': [256, 288, 432, 512, 576, 768, 1024], 'type': 'integer', 'title': 'width', 'description': 'An enumeration.'}, 'Output': {'type': 'array', 'items': {'type': 'string', 'format': 'uri'}, 'title': 'Output'}, 'Status': {'enum': ['processing', 'succeeded', 'canceled', 'failed'], 'type': 'string', 'title': 'Status', 'description': 'An enumeration.'}, 'height': {'enum': [256, 288, 432, 512, 576, 768, 1024], 'type': 'integer', 'title': 'height', 'description': 'An enumeration.'}, 'scheduler': {'enum': ['ddim_sampler', 'p_sampler', 'plms_sampler'], 'type': 'string', 'title': 'scheduler', 'description': 'An enumeration.'}, 'batch_size': {'enum': [1, 2, 3, 4], 'type': 'integer', 'title': 'batch_size', 'description': 'An enumeration.'}, 'WebhookEvent': {'enum': ['start', 'output', 'logs', 'completed'], 'type': 'string', 'title': 'WebhookEvent', 'description': 'An enumeration.'}, 'ValidationError': {'type': 'object', 'title': 'ValidationError', 'required': ['loc', 'msg', 'type'], 'properties': {'loc': {'type': 'array', 'items': {'anyOf': [{'type': 'string'}, {'type': 'integer'}]}, 'title': 'Location'}, 'msg': {'type': 'string', 'title': 'Message'}, 'type': {'type': 'string', 'title': 'Error Type'}}}, 'PredictionRequest': {'type': 'object', 'title': 'PredictionRequest', 'properties': {'id': {'type': 'string', 'title': 'Id'}, 'input': {'$ref': '#/components/schemas/Input'}, 'webhook': {'type': 'string', 'title': 'Webhook', 'format': 'uri', 'maxLength': 65536, 'minLength': 1}, 'created_at': {'type': 'string', 'title': 'Created At', 'format': 'date-time'}, 'output_file_prefix': {'type': 'string', 'title': 'Output File Prefix'}, 'webhook_events_filter': {'type': 'array', 'items': {'$ref': '#/components/schemas/WebhookEvent'}, 'default': ['output', 'logs', 'start', 'completed'], 'uniqueItems': True}}}, 'PredictionResponse': {'type': 'object', 'title': 'PredictionResponse', 'properties': {'id': {'type': 'string', 'title': 'Id'}, 'logs': {'type': 'string', 'title': 'Logs'}, 'error': {'type': 'string', 'title': 'Error'}, 'input': {'$ref': '#/components/schemas/Input'}, 'output': {'$ref': '#/components/schemas/Output'}, 'status': {'$ref': '#/components/schemas/Status'}, 'created_at': {'type': 'string', 'title': 'Created At', 'format': 'date-time'}, 'started_at': {'type': 'string', 'title': 'Started At', 'format': 'date-time'}, 'completed_at': {'type': 'string', 'title': 'Completed At', 'format': 'date-time'}}}, 'HTTPValidationError': {'type': 'object', 'title': 'HTTPValidationError', 'properties': {'detail': {'type': 'array', 'items': {'$ref': '#/components/schemas/ValidationError'}, 'title': 'Detail'}}}}}}), started_at=None, created_at='2023-07-09T17:02:16.69038322Z', completed_at=None),\n",
              " Prediction(id='3okhrbrbkhnld7xhjmnqmygojm', error=None, input={'guidance_scale': 4, 'height': 768, 'num_inference_steps': 100, 'prior_cf_scale': 4, 'prior_steps': '5', 'prompt': 'Tommy,A young boy with short, brown hair wearing a red t-shirt and blue shorts. and Lily,A young girl with long, blonde hair wearing a pink dress and white shoes. happily carrying Whiskers,A tiny kitten with gray fur and adorable whiskers. back home in their arms.', 'scheduler': 'p_sampler', 'width': 1024}, logs='', output=None, status='starting', version=Version(id='601eea49d49003e6ea75a11527209c4f510a93e2112c969d548fbb45b9c4f19f', created_at=datetime.datetime(2023, 4, 15, 12, 51, 14, 975476, tzinfo=datetime.timezone.utc), cog_version='0.6.1', openapi_schema={'info': {'title': 'Cog', 'version': '0.1.0'}, 'paths': {'/': {'get': {'summary': 'Root', 'responses': {'200': {'content': {'application/json': {'schema': {'title': 'Response Root  Get'}}}, 'description': 'Successful Response'}}, 'operationId': 'root__get'}}, '/predictions': {'post': {'summary': 'Predict', 'responses': {'200': {'content': {'application/json': {'schema': {'$ref': '#/components/schemas/PredictionResponse'}}}, 'description': 'Successful Response'}, '422': {'content': {'application/json': {'schema': {'$ref': '#/components/schemas/HTTPValidationError'}}}, 'description': 'Validation Error'}}, 'description': 'Run a single prediction on the model', 'operationId': 'predict_predictions_post', 'requestBody': {'content': {'application/json': {'schema': {'$ref': '#/components/schemas/PredictionRequest'}}}}}}}, 'openapi': '3.0.2', 'components': {'schemas': {'Input': {'type': 'object', 'title': 'Input', 'properties': {'width': {'allOf': [{'$ref': '#/components/schemas/width'}], 'default': 512, 'x-order': 6, 'description': 'Choose width. Lower the setting if out of memory.'}, 'height': {'allOf': [{'$ref': '#/components/schemas/height'}], 'default': 512, 'x-order': 7, 'description': 'Choose height. Lower the setting if out of memory.'}, 'prompt': {'type': 'string', 'title': 'Prompt', 'default': 'red cat, 4k photo', 'x-order': 0, 'description': 'Input Prompt'}, 'scheduler': {'allOf': [{'$ref': '#/components/schemas/scheduler'}], 'default': 'p_sampler', 'x-order': 3, 'description': 'Choose a scheduler'}, 'batch_size': {'allOf': [{'$ref': '#/components/schemas/batch_size'}], 'default': 1, 'x-order': 8, 'description': 'Choose batch size. Lower the setting if out of memory.'}, 'prior_steps': {'type': 'string', 'title': 'Prior Steps', 'default': '5', 'x-order': 5}, 'guidance_scale': {'type': 'number', 'title': 'Guidance Scale', 'default': 4, 'maximum': 20, 'minimum': 1, 'x-order': 2, 'description': 'Scale for classifier-free guidance'}, 'prior_cf_scale': {'type': 'integer', 'title': 'Prior Cf Scale', 'default': 4, 'x-order': 4}, 'num_inference_steps': {'type': 'integer', 'title': 'Num Inference Steps', 'default': 50, 'maximum': 500, 'minimum': 1, 'x-order': 1, 'description': 'Number of denoising steps'}}}, 'width': {'enum': [256, 288, 432, 512, 576, 768, 1024], 'type': 'integer', 'title': 'width', 'description': 'An enumeration.'}, 'Output': {'type': 'array', 'items': {'type': 'string', 'format': 'uri'}, 'title': 'Output'}, 'Status': {'enum': ['processing', 'succeeded', 'canceled', 'failed'], 'type': 'string', 'title': 'Status', 'description': 'An enumeration.'}, 'height': {'enum': [256, 288, 432, 512, 576, 768, 1024], 'type': 'integer', 'title': 'height', 'description': 'An enumeration.'}, 'scheduler': {'enum': ['ddim_sampler', 'p_sampler', 'plms_sampler'], 'type': 'string', 'title': 'scheduler', 'description': 'An enumeration.'}, 'batch_size': {'enum': [1, 2, 3, 4], 'type': 'integer', 'title': 'batch_size', 'description': 'An enumeration.'}, 'WebhookEvent': {'enum': ['start', 'output', 'logs', 'completed'], 'type': 'string', 'title': 'WebhookEvent', 'description': 'An enumeration.'}, 'ValidationError': {'type': 'object', 'title': 'ValidationError', 'required': ['loc', 'msg', 'type'], 'properties': {'loc': {'type': 'array', 'items': {'anyOf': [{'type': 'string'}, {'type': 'integer'}]}, 'title': 'Location'}, 'msg': {'type': 'string', 'title': 'Message'}, 'type': {'type': 'string', 'title': 'Error Type'}}}, 'PredictionRequest': {'type': 'object', 'title': 'PredictionRequest', 'properties': {'id': {'type': 'string', 'title': 'Id'}, 'input': {'$ref': '#/components/schemas/Input'}, 'webhook': {'type': 'string', 'title': 'Webhook', 'format': 'uri', 'maxLength': 65536, 'minLength': 1}, 'created_at': {'type': 'string', 'title': 'Created At', 'format': 'date-time'}, 'output_file_prefix': {'type': 'string', 'title': 'Output File Prefix'}, 'webhook_events_filter': {'type': 'array', 'items': {'$ref': '#/components/schemas/WebhookEvent'}, 'default': ['output', 'logs', 'start', 'completed'], 'uniqueItems': True}}}, 'PredictionResponse': {'type': 'object', 'title': 'PredictionResponse', 'properties': {'id': {'type': 'string', 'title': 'Id'}, 'logs': {'type': 'string', 'title': 'Logs'}, 'error': {'type': 'string', 'title': 'Error'}, 'input': {'$ref': '#/components/schemas/Input'}, 'output': {'$ref': '#/components/schemas/Output'}, 'status': {'$ref': '#/components/schemas/Status'}, 'created_at': {'type': 'string', 'title': 'Created At', 'format': 'date-time'}, 'started_at': {'type': 'string', 'title': 'Started At', 'format': 'date-time'}, 'completed_at': {'type': 'string', 'title': 'Completed At', 'format': 'date-time'}}}, 'HTTPValidationError': {'type': 'object', 'title': 'HTTPValidationError', 'properties': {'detail': {'type': 'array', 'items': {'$ref': '#/components/schemas/ValidationError'}, 'title': 'Detail'}}}}}}), started_at=None, created_at='2023-07-09T17:02:16.908852795Z', completed_at=None),\n",
              " Prediction(id='x3yli4zbnv4hzrufvdqsus2mci', error=None, input={'guidance_scale': 4, 'height': 768, 'num_inference_steps': 100, 'prior_cf_scale': 4, 'prior_steps': '5', 'prompt': 'The whole village celebrating the reunion of Tommy,A young boy with short, brown hair wearing a red t-shirt and blue shorts., Lily,A young girl with long, blonde hair wearing a pink dress and white shoes., and Whiskers,A tiny kitten with gray fur and adorable whiskers. with smiles and laughter.', 'scheduler': 'p_sampler', 'width': 1024}, logs='', output=None, status='starting', version=Version(id='601eea49d49003e6ea75a11527209c4f510a93e2112c969d548fbb45b9c4f19f', created_at=datetime.datetime(2023, 4, 15, 12, 51, 14, 975476, tzinfo=datetime.timezone.utc), cog_version='0.6.1', openapi_schema={'info': {'title': 'Cog', 'version': '0.1.0'}, 'paths': {'/': {'get': {'summary': 'Root', 'responses': {'200': {'content': {'application/json': {'schema': {'title': 'Response Root  Get'}}}, 'description': 'Successful Response'}}, 'operationId': 'root__get'}}, '/predictions': {'post': {'summary': 'Predict', 'responses': {'200': {'content': {'application/json': {'schema': {'$ref': '#/components/schemas/PredictionResponse'}}}, 'description': 'Successful Response'}, '422': {'content': {'application/json': {'schema': {'$ref': '#/components/schemas/HTTPValidationError'}}}, 'description': 'Validation Error'}}, 'description': 'Run a single prediction on the model', 'operationId': 'predict_predictions_post', 'requestBody': {'content': {'application/json': {'schema': {'$ref': '#/components/schemas/PredictionRequest'}}}}}}}, 'openapi': '3.0.2', 'components': {'schemas': {'Input': {'type': 'object', 'title': 'Input', 'properties': {'width': {'allOf': [{'$ref': '#/components/schemas/width'}], 'default': 512, 'x-order': 6, 'description': 'Choose width. Lower the setting if out of memory.'}, 'height': {'allOf': [{'$ref': '#/components/schemas/height'}], 'default': 512, 'x-order': 7, 'description': 'Choose height. Lower the setting if out of memory.'}, 'prompt': {'type': 'string', 'title': 'Prompt', 'default': 'red cat, 4k photo', 'x-order': 0, 'description': 'Input Prompt'}, 'scheduler': {'allOf': [{'$ref': '#/components/schemas/scheduler'}], 'default': 'p_sampler', 'x-order': 3, 'description': 'Choose a scheduler'}, 'batch_size': {'allOf': [{'$ref': '#/components/schemas/batch_size'}], 'default': 1, 'x-order': 8, 'description': 'Choose batch size. Lower the setting if out of memory.'}, 'prior_steps': {'type': 'string', 'title': 'Prior Steps', 'default': '5', 'x-order': 5}, 'guidance_scale': {'type': 'number', 'title': 'Guidance Scale', 'default': 4, 'maximum': 20, 'minimum': 1, 'x-order': 2, 'description': 'Scale for classifier-free guidance'}, 'prior_cf_scale': {'type': 'integer', 'title': 'Prior Cf Scale', 'default': 4, 'x-order': 4}, 'num_inference_steps': {'type': 'integer', 'title': 'Num Inference Steps', 'default': 50, 'maximum': 500, 'minimum': 1, 'x-order': 1, 'description': 'Number of denoising steps'}}}, 'width': {'enum': [256, 288, 432, 512, 576, 768, 1024], 'type': 'integer', 'title': 'width', 'description': 'An enumeration.'}, 'Output': {'type': 'array', 'items': {'type': 'string', 'format': 'uri'}, 'title': 'Output'}, 'Status': {'enum': ['processing', 'succeeded', 'canceled', 'failed'], 'type': 'string', 'title': 'Status', 'description': 'An enumeration.'}, 'height': {'enum': [256, 288, 432, 512, 576, 768, 1024], 'type': 'integer', 'title': 'height', 'description': 'An enumeration.'}, 'scheduler': {'enum': ['ddim_sampler', 'p_sampler', 'plms_sampler'], 'type': 'string', 'title': 'scheduler', 'description': 'An enumeration.'}, 'batch_size': {'enum': [1, 2, 3, 4], 'type': 'integer', 'title': 'batch_size', 'description': 'An enumeration.'}, 'WebhookEvent': {'enum': ['start', 'output', 'logs', 'completed'], 'type': 'string', 'title': 'WebhookEvent', 'description': 'An enumeration.'}, 'ValidationError': {'type': 'object', 'title': 'ValidationError', 'required': ['loc', 'msg', 'type'], 'properties': {'loc': {'type': 'array', 'items': {'anyOf': [{'type': 'string'}, {'type': 'integer'}]}, 'title': 'Location'}, 'msg': {'type': 'string', 'title': 'Message'}, 'type': {'type': 'string', 'title': 'Error Type'}}}, 'PredictionRequest': {'type': 'object', 'title': 'PredictionRequest', 'properties': {'id': {'type': 'string', 'title': 'Id'}, 'input': {'$ref': '#/components/schemas/Input'}, 'webhook': {'type': 'string', 'title': 'Webhook', 'format': 'uri', 'maxLength': 65536, 'minLength': 1}, 'created_at': {'type': 'string', 'title': 'Created At', 'format': 'date-time'}, 'output_file_prefix': {'type': 'string', 'title': 'Output File Prefix'}, 'webhook_events_filter': {'type': 'array', 'items': {'$ref': '#/components/schemas/WebhookEvent'}, 'default': ['output', 'logs', 'start', 'completed'], 'uniqueItems': True}}}, 'PredictionResponse': {'type': 'object', 'title': 'PredictionResponse', 'properties': {'id': {'type': 'string', 'title': 'Id'}, 'logs': {'type': 'string', 'title': 'Logs'}, 'error': {'type': 'string', 'title': 'Error'}, 'input': {'$ref': '#/components/schemas/Input'}, 'output': {'$ref': '#/components/schemas/Output'}, 'status': {'$ref': '#/components/schemas/Status'}, 'created_at': {'type': 'string', 'title': 'Created At', 'format': 'date-time'}, 'started_at': {'type': 'string', 'title': 'Started At', 'format': 'date-time'}, 'completed_at': {'type': 'string', 'title': 'Completed At', 'format': 'date-time'}}}, 'HTTPValidationError': {'type': 'object', 'title': 'HTTPValidationError', 'properties': {'detail': {'type': 'array', 'items': {'$ref': '#/components/schemas/ValidationError'}, 'title': 'Detail'}}}}}}), started_at=None, created_at='2023-07-09T17:02:17.121887331Z', completed_at=None),\n",
              " Prediction(id='v3nbi6rbar52tc4oxouz43zd6a', error=None, input={'guidance_scale': 4, 'height': 768, 'num_inference_steps': 100, 'prior_cf_scale': 4, 'prior_steps': '5', 'prompt': 'Tommy,A young boy with short, brown hair wearing a red t-shirt and blue shorts. and Lily,A young girl with long, blonde hair wearing a pink dress and white shoes. hugging Whiskers,A tiny kitten with gray fur and adorable whiskers. tightly, realizing the importance of never giving up and helping others.', 'scheduler': 'p_sampler', 'width': 1024}, logs='', output=None, status='starting', version=Version(id='601eea49d49003e6ea75a11527209c4f510a93e2112c969d548fbb45b9c4f19f', created_at=datetime.datetime(2023, 4, 15, 12, 51, 14, 975476, tzinfo=datetime.timezone.utc), cog_version='0.6.1', openapi_schema={'info': {'title': 'Cog', 'version': '0.1.0'}, 'paths': {'/': {'get': {'summary': 'Root', 'responses': {'200': {'content': {'application/json': {'schema': {'title': 'Response Root  Get'}}}, 'description': 'Successful Response'}}, 'operationId': 'root__get'}}, '/predictions': {'post': {'summary': 'Predict', 'responses': {'200': {'content': {'application/json': {'schema': {'$ref': '#/components/schemas/PredictionResponse'}}}, 'description': 'Successful Response'}, '422': {'content': {'application/json': {'schema': {'$ref': '#/components/schemas/HTTPValidationError'}}}, 'description': 'Validation Error'}}, 'description': 'Run a single prediction on the model', 'operationId': 'predict_predictions_post', 'requestBody': {'content': {'application/json': {'schema': {'$ref': '#/components/schemas/PredictionRequest'}}}}}}}, 'openapi': '3.0.2', 'components': {'schemas': {'Input': {'type': 'object', 'title': 'Input', 'properties': {'width': {'allOf': [{'$ref': '#/components/schemas/width'}], 'default': 512, 'x-order': 6, 'description': 'Choose width. Lower the setting if out of memory.'}, 'height': {'allOf': [{'$ref': '#/components/schemas/height'}], 'default': 512, 'x-order': 7, 'description': 'Choose height. Lower the setting if out of memory.'}, 'prompt': {'type': 'string', 'title': 'Prompt', 'default': 'red cat, 4k photo', 'x-order': 0, 'description': 'Input Prompt'}, 'scheduler': {'allOf': [{'$ref': '#/components/schemas/scheduler'}], 'default': 'p_sampler', 'x-order': 3, 'description': 'Choose a scheduler'}, 'batch_size': {'allOf': [{'$ref': '#/components/schemas/batch_size'}], 'default': 1, 'x-order': 8, 'description': 'Choose batch size. Lower the setting if out of memory.'}, 'prior_steps': {'type': 'string', 'title': 'Prior Steps', 'default': '5', 'x-order': 5}, 'guidance_scale': {'type': 'number', 'title': 'Guidance Scale', 'default': 4, 'maximum': 20, 'minimum': 1, 'x-order': 2, 'description': 'Scale for classifier-free guidance'}, 'prior_cf_scale': {'type': 'integer', 'title': 'Prior Cf Scale', 'default': 4, 'x-order': 4}, 'num_inference_steps': {'type': 'integer', 'title': 'Num Inference Steps', 'default': 50, 'maximum': 500, 'minimum': 1, 'x-order': 1, 'description': 'Number of denoising steps'}}}, 'width': {'enum': [256, 288, 432, 512, 576, 768, 1024], 'type': 'integer', 'title': 'width', 'description': 'An enumeration.'}, 'Output': {'type': 'array', 'items': {'type': 'string', 'format': 'uri'}, 'title': 'Output'}, 'Status': {'enum': ['processing', 'succeeded', 'canceled', 'failed'], 'type': 'string', 'title': 'Status', 'description': 'An enumeration.'}, 'height': {'enum': [256, 288, 432, 512, 576, 768, 1024], 'type': 'integer', 'title': 'height', 'description': 'An enumeration.'}, 'scheduler': {'enum': ['ddim_sampler', 'p_sampler', 'plms_sampler'], 'type': 'string', 'title': 'scheduler', 'description': 'An enumeration.'}, 'batch_size': {'enum': [1, 2, 3, 4], 'type': 'integer', 'title': 'batch_size', 'description': 'An enumeration.'}, 'WebhookEvent': {'enum': ['start', 'output', 'logs', 'completed'], 'type': 'string', 'title': 'WebhookEvent', 'description': 'An enumeration.'}, 'ValidationError': {'type': 'object', 'title': 'ValidationError', 'required': ['loc', 'msg', 'type'], 'properties': {'loc': {'type': 'array', 'items': {'anyOf': [{'type': 'string'}, {'type': 'integer'}]}, 'title': 'Location'}, 'msg': {'type': 'string', 'title': 'Message'}, 'type': {'type': 'string', 'title': 'Error Type'}}}, 'PredictionRequest': {'type': 'object', 'title': 'PredictionRequest', 'properties': {'id': {'type': 'string', 'title': 'Id'}, 'input': {'$ref': '#/components/schemas/Input'}, 'webhook': {'type': 'string', 'title': 'Webhook', 'format': 'uri', 'maxLength': 65536, 'minLength': 1}, 'created_at': {'type': 'string', 'title': 'Created At', 'format': 'date-time'}, 'output_file_prefix': {'type': 'string', 'title': 'Output File Prefix'}, 'webhook_events_filter': {'type': 'array', 'items': {'$ref': '#/components/schemas/WebhookEvent'}, 'default': ['output', 'logs', 'start', 'completed'], 'uniqueItems': True}}}, 'PredictionResponse': {'type': 'object', 'title': 'PredictionResponse', 'properties': {'id': {'type': 'string', 'title': 'Id'}, 'logs': {'type': 'string', 'title': 'Logs'}, 'error': {'type': 'string', 'title': 'Error'}, 'input': {'$ref': '#/components/schemas/Input'}, 'output': {'$ref': '#/components/schemas/Output'}, 'status': {'$ref': '#/components/schemas/Status'}, 'created_at': {'type': 'string', 'title': 'Created At', 'format': 'date-time'}, 'started_at': {'type': 'string', 'title': 'Started At', 'format': 'date-time'}, 'completed_at': {'type': 'string', 'title': 'Completed At', 'format': 'date-time'}}}, 'HTTPValidationError': {'type': 'object', 'title': 'HTTPValidationError', 'properties': {'detail': {'type': 'array', 'items': {'$ref': '#/components/schemas/ValidationError'}, 'title': 'Detail'}}}}}}), started_at=None, created_at='2023-07-09T17:02:17.348031988Z', completed_at=None)]"
            ]
          },
          "metadata": {},
          "execution_count": 22
        }
      ],
      "source": [
        "# unpack outputs\n",
        "script = chain_output['script']\n",
        "title = script['title']\n",
        "split_script = script['paragraphs']\n",
        "video_descriptions = script['visual_descriptions']\n",
        "video_predictions = chain_output['video_predictions']\n",
        "#audio_predictions = chain_output['audio_predictions']\n",
        "\n",
        "# print(title)\n",
        "print(len(split_script))\n",
        "print(len(video_descriptions))\n",
        "# print(video_predictions)\n",
        "# print(audio_predictions)\n",
        "\n",
        "video_predictions"
      ]
    },
    {
      "cell_type": "code",
      "execution_count": 23,
      "metadata": {
        "id": "PcdrKjxgjEY8"
      },
      "outputs": [],
      "source": [
        "# sanity check\n",
        "assert len(split_script) == len(video_descriptions)"
      ]
    },
    {
      "cell_type": "code",
      "source": [
        "# response = Resemble.v2.voices.all(page, page_size)\n",
        "# voice = list(filter(lambda x: x['name'] == 'Jagan-StoryNarrator', response['items']))[0]\n",
        "# voice"
      ],
      "metadata": {
        "id": "uaQsOAS9Bwxo"
      },
      "execution_count": 24,
      "outputs": []
    },
    {
      "cell_type": "markdown",
      "metadata": {
        "id": "65lEfaahjOYz"
      },
      "source": [
        "# ⏳ Wait for our async predictions to complete\n",
        "Here's a helper to check in on our predictions. This usually takes a minute or two."
      ]
    },
    {
      "cell_type": "code",
      "execution_count": 25,
      "metadata": {
        "id": "TCSfv_LPjP2b"
      },
      "outputs": [],
      "source": [
        "def all_done(predictions):\n",
        "    return set([p.status for p in predictions]) == {'succeeded'}"
      ]
    },
    {
      "cell_type": "code",
      "execution_count": 26,
      "metadata": {
        "id": "ca5eiUYxjTay"
      },
      "outputs": [],
      "source": [
        "all_predictions = chain_output['video_predictions'] + \\\n",
        "                  [chain_output['ending_quote_prediction']] + \\\n",
        "                  [chain_output['title_audio_prediction']] + \\\n",
        "                  [chain_output['music_prediction']]"
      ]
    },
    {
      "cell_type": "code",
      "execution_count": 27,
      "metadata": {
        "colab": {
          "base_uri": "https://localhost:8080/"
        },
        "id": "jxKwLD-yjZ81",
        "outputId": "9a39ef4c-dcd3-4220-96c1-94e21aeb976e"
      },
      "outputs": [
        {
          "output_type": "stream",
          "name": "stdout",
          "text": [
            "Predictions complete\n"
          ]
        }
      ],
      "source": [
        "done = False\n",
        "\n",
        "while not done:\n",
        "  [p.reload() for p in all_predictions]\n",
        "  for p in all_predictions:\n",
        "    print(f'https://replicate.com/p/{p.id}', p.status)\n",
        "  done = all_done(all_predictions)\n",
        "  time.sleep(2)\n",
        "  output.clear()\n",
        "\n",
        "print(\"Predictions complete\")\n"
      ]
    },
    {
      "cell_type": "markdown",
      "metadata": {
        "id": "tPbUIOPtjfjk"
      },
      "source": [
        "# 🪡 Stitch them all together!"
      ]
    },
    {
      "cell_type": "code",
      "execution_count": 28,
      "metadata": {
        "colab": {
          "base_uri": "https://localhost:8080/"
        },
        "id": "UnydT92Hjh-W",
        "outputId": "07fd9335-7f3a-4edb-de43-fec005b31231"
      },
      "outputs": [
        {
          "output_type": "execute_result",
          "data": {
            "text/plain": [
              "[['https://replicate.delivery/pbxt/yONObVjf1tS2HKdQRXj6kg2a2hMfQsJ7Pj2OLu4x5dFeRTciA/out_0.png'],\n",
              " ['https://replicate.delivery/pbxt/LlfBa2UBFQViY6enKxPjyFAu9BOHV3bCfUukW4GUV4nBSTciA/out_0.png'],\n",
              " ['https://replicate.delivery/pbxt/rIrBfNcIK3WfyUAH2J9pz1iqY7728StJz0fPhp0M3NOASTciA/out_0.png'],\n",
              " ['https://replicate.delivery/pbxt/63S26EW6qeXce0vthZsA8LPVP4T3E09wom8EWFwefzXXkm4EB/out_0.png'],\n",
              " ['https://replicate.delivery/pbxt/VnhK8UTedNUvAaB3Zc1489jEvSMe9tVhSQ5J17yQntMFpJORA/out_0.png'],\n",
              " ['https://replicate.delivery/pbxt/safo9MwbBr1fPUuo3VpUVlcBwyy6uLPpohhogMTt7QuIpJORA/out_0.png'],\n",
              " ['https://replicate.delivery/pbxt/JeWwLs2sEcUjXS0WqTOo3aKLsbh3LMea9RdwPInrKXxMpJORA/out_0.png'],\n",
              " ['https://replicate.delivery/pbxt/KJKMfzn1NWyYciM5E6bypAtkHLZJfWP3ineeY9Q6qJG2km4EB/out_0.png'],\n",
              " ['https://replicate.delivery/pbxt/rdiJ0tsjP5IAGdL8nejfnH1G3kn91NUqVf5n4cVJeWr5km4EB/out_0.png'],\n",
              " ['https://replicate.delivery/pbxt/9il97kDSXqIIBBZB1LTV0mTMXhrnQB5SITMEKMYOFBNUaiTE/out_0.png'],\n",
              " ['https://replicate.delivery/pbxt/NpmEkcxAYE55JhvNFWD7ZqiiHRTpB3me0nDe7BswABZTpJORA/out_0.png'],\n",
              " ['https://replicate.delivery/pbxt/MYvunN3N166fOyzAtgqqrLxFnqjYPPgnRsWYbiGGsGxs0EnIA/out_0.png'],\n",
              " ['https://replicate.delivery/pbxt/QnLSaIOZ0m4pJ11H0tS7ZeigTRmjVWfZok6CZm5nLCnXpJORA/out_0.png'],\n",
              " ['https://replicate.delivery/pbxt/p9c0sZtVS9LfXyfuQeUnglJ4yoq4RRJ3z09h0dlx2PY0STciA/out_0.png'],\n",
              " ['https://replicate.delivery/pbxt/LGJjuj5jZTagF9UAZiHedPgChxB0DJfhP87VqV1VXlGapJORA/out_0.png'],\n",
              " ['https://replicate.delivery/pbxt/GFHolRL9v0raAFzfRON1Pxzs8kbKbeCL7EE5CKxfQsp0STciA/out_0.png']]"
            ]
          },
          "metadata": {},
          "execution_count": 28
        }
      ],
      "source": [
        "video_urls = [v.output for v in video_predictions]\n",
        "#audio_urls = [a.output['audio_out'] for a in audio_predictions]\n",
        "music_url = chain_output['music_prediction'].output['audio']\n",
        "subtitles = split_script\n",
        "title_image_url = chain_output['title_image']\n",
        "title_audio_url = chain_output['title_audio_prediction'].output['audio_out']\n",
        "\n",
        "video_urls\n"
      ]
    },
    {
      "cell_type": "code",
      "source": [
        "from getpass import getpass\n",
        "\n",
        "INPUT_TEXT = getpass()"
      ],
      "metadata": {
        "colab": {
          "base_uri": "https://localhost:8080/",
          "height": 345
        },
        "id": "BqLageG5IugV",
        "outputId": "424236eb-5edc-42d0-e09c-9407b3ee94e7"
      },
      "execution_count": 29,
      "outputs": [
        {
          "output_type": "error",
          "ename": "KeyboardInterrupt",
          "evalue": "ignored",
          "traceback": [
            "\u001b[0;31m---------------------------------------------------------------------------\u001b[0m",
            "\u001b[0;31mKeyboardInterrupt\u001b[0m                         Traceback (most recent call last)",
            "\u001b[0;32m<ipython-input-29-cf3556238501>\u001b[0m in \u001b[0;36m<cell line: 3>\u001b[0;34m()\u001b[0m\n\u001b[1;32m      1\u001b[0m \u001b[0;32mfrom\u001b[0m \u001b[0mgetpass\u001b[0m \u001b[0;32mimport\u001b[0m \u001b[0mgetpass\u001b[0m\u001b[0;34m\u001b[0m\u001b[0;34m\u001b[0m\u001b[0m\n\u001b[1;32m      2\u001b[0m \u001b[0;34m\u001b[0m\u001b[0m\n\u001b[0;32m----> 3\u001b[0;31m \u001b[0mINPUT_TEXT\u001b[0m \u001b[0;34m=\u001b[0m \u001b[0mgetpass\u001b[0m\u001b[0;34m(\u001b[0m\u001b[0;34m)\u001b[0m\u001b[0;34m\u001b[0m\u001b[0;34m\u001b[0m\u001b[0m\n\u001b[0m",
            "\u001b[0;32m/usr/local/lib/python3.10/dist-packages/ipykernel/kernelbase.py\u001b[0m in \u001b[0;36mgetpass\u001b[0;34m(self, prompt, stream)\u001b[0m\n\u001b[1;32m    832\u001b[0m             warnings.warn(\"The `stream` parameter of `getpass.getpass` will have no effect when using ipykernel\",\n\u001b[1;32m    833\u001b[0m                     UserWarning, stacklevel=2)\n\u001b[0;32m--> 834\u001b[0;31m         return self._input_request(prompt,\n\u001b[0m\u001b[1;32m    835\u001b[0m             \u001b[0mself\u001b[0m\u001b[0;34m.\u001b[0m\u001b[0m_parent_ident\u001b[0m\u001b[0;34m,\u001b[0m\u001b[0;34m\u001b[0m\u001b[0;34m\u001b[0m\u001b[0m\n\u001b[1;32m    836\u001b[0m             \u001b[0mself\u001b[0m\u001b[0;34m.\u001b[0m\u001b[0m_parent_header\u001b[0m\u001b[0;34m,\u001b[0m\u001b[0;34m\u001b[0m\u001b[0;34m\u001b[0m\u001b[0m\n",
            "\u001b[0;32m/usr/local/lib/python3.10/dist-packages/ipykernel/kernelbase.py\u001b[0m in \u001b[0;36m_input_request\u001b[0;34m(self, prompt, ident, parent, password)\u001b[0m\n\u001b[1;32m    893\u001b[0m             \u001b[0;32mexcept\u001b[0m \u001b[0mKeyboardInterrupt\u001b[0m\u001b[0;34m:\u001b[0m\u001b[0;34m\u001b[0m\u001b[0;34m\u001b[0m\u001b[0m\n\u001b[1;32m    894\u001b[0m                 \u001b[0;31m# re-raise KeyboardInterrupt, to truncate traceback\u001b[0m\u001b[0;34m\u001b[0m\u001b[0;34m\u001b[0m\u001b[0m\n\u001b[0;32m--> 895\u001b[0;31m                 \u001b[0;32mraise\u001b[0m \u001b[0mKeyboardInterrupt\u001b[0m\u001b[0;34m(\u001b[0m\u001b[0;34m\"Interrupted by user\"\u001b[0m\u001b[0;34m)\u001b[0m \u001b[0;32mfrom\u001b[0m \u001b[0;32mNone\u001b[0m\u001b[0;34m\u001b[0m\u001b[0;34m\u001b[0m\u001b[0m\n\u001b[0m\u001b[1;32m    896\u001b[0m             \u001b[0;32mexcept\u001b[0m \u001b[0mException\u001b[0m \u001b[0;32mas\u001b[0m \u001b[0me\u001b[0m\u001b[0;34m:\u001b[0m\u001b[0;34m\u001b[0m\u001b[0;34m\u001b[0m\u001b[0m\n\u001b[1;32m    897\u001b[0m                 \u001b[0mself\u001b[0m\u001b[0;34m.\u001b[0m\u001b[0mlog\u001b[0m\u001b[0;34m.\u001b[0m\u001b[0mwarning\u001b[0m\u001b[0;34m(\u001b[0m\u001b[0;34m\"Invalid Message:\"\u001b[0m\u001b[0;34m,\u001b[0m \u001b[0mexc_info\u001b[0m\u001b[0;34m=\u001b[0m\u001b[0;32mTrue\u001b[0m\u001b[0;34m)\u001b[0m\u001b[0;34m\u001b[0m\u001b[0;34m\u001b[0m\u001b[0m\n",
            "\u001b[0;31mKeyboardInterrupt\u001b[0m: Interrupted by user"
          ]
        }
      ]
    },
    {
      "cell_type": "code",
      "source": [
        "\n",
        "page = 1\n",
        "page_size = 100\n",
        "\n",
        "# response = Resemble.v2.voices.all(page, page_size)\n",
        "# voice = list(filter(lambda x: x['name'] == 'Jagan', response['items']))[0]\n",
        "\n",
        "# response = Resemble.v2.projects.all(page, page_size)\n",
        "# projects = response['items']\n",
        "\n",
        "# response = Resemble.v2.clips.all(project_uuid, page, page_size)\n",
        "# clips = response['items']\n",
        "\n",
        "# create a new clip\n",
        "\n",
        "audio_descriptions = script['paragraphs']\n",
        "print(audio_descriptions)\n",
        "\n",
        "audio_clips = []\n",
        "for i, description in enumerate(audio_descriptions):\n",
        "    print(f\"Creating audio prediction for {description}\")\n",
        "    project_uuid = '2a577ebf'\n",
        "    voice_uuid = 'fa25749e' #'f0426afb'\n",
        "    callback_uri = 'https://example.com/callback/resemble-clip'\n",
        "    body = description\n",
        "    print(body)\n",
        "    response = Resemble.v2.clips.create_async(\n",
        "        project_uuid,\n",
        "        voice_uuid,\n",
        "        callback_uri,\n",
        "        body,\n",
        "        title=f\"My clip {i}\",\n",
        "        sample_rate=None,\n",
        "        output_format=None,\n",
        "        precision=None,\n",
        "        include_timestamps=None,\n",
        "        is_public=False,\n",
        "        is_archived=False\n",
        "    )\n",
        "\n",
        "    audio_clips.append(response)\n"
      ],
      "metadata": {
        "id": "PbsUCIxjEll7"
      },
      "execution_count": null,
      "outputs": []
    },
    {
      "cell_type": "code",
      "source": [
        "done = False\n",
        "audio_urls = []\n",
        "while not done:\n",
        "  done = True\n",
        "  for clip in audio_clips:\n",
        "    response = Resemble.v2.clips.get(project_uuid, clip['item']['uuid'])\n",
        "    time.sleep(5)\n",
        "    if(response['success'] == False or hasattr(response['item'], 'audio_src')):\n",
        "      done = False\n",
        "    else:\n",
        "      print(response['item']['audio_src'])\n",
        "      audio_urls.append(response['item']['audio_src'])\n",
        "\n",
        "  output.clear()\n",
        "\n",
        "print(\"All audio clips are processed\")\n",
        "\n",
        "audio_urls"
      ],
      "metadata": {
        "id": "_20rWkEEmgj6"
      },
      "execution_count": null,
      "outputs": []
    },
    {
      "cell_type": "code",
      "execution_count": null,
      "metadata": {
        "id": "E6WO3an_0423"
      },
      "outputs": [],
      "source": [
        "## slow down the audio urls\n",
        "\n",
        "import requests\n",
        "import os\n",
        "\n",
        "def slow_down_audio(input_file, output_file, slowdown_factor):\n",
        "    # Load the audio file\n",
        "    audio = AudioSegment.from_wav(input_file)\n",
        "\n",
        "    # Calculate the new length of the audio\n",
        "    new_length = int(len(audio) / slowdown_factor)\n",
        "\n",
        "    # Stretch the audio by duplicating frames\n",
        "    slowed_audio = audio._spawn(audio.raw_data, overrides={\n",
        "        \"frame_rate\": int(audio.frame_rate * slowdown_factor)\n",
        "    })\n",
        "\n",
        "    # Export the modified audio to a file\n",
        "    slowed_audio.export(output_file, format=\"mp3\")\n",
        "    print(\"Slowdown complete. Output file:\", output_file)\n",
        "\n",
        "slowdown_factor = 1.1"
      ]
    },
    {
      "cell_type": "code",
      "execution_count": null,
      "metadata": {
        "id": "Djhj0wMm8G4F"
      },
      "outputs": [],
      "source": [
        "audio_files = []\n",
        "\n",
        "for i, url in enumerate(audio_urls):\n",
        "    response = requests.get(url)\n",
        "    audio_filename = f\"temp_audio{i}.wav\"\n",
        "    with open(audio_filename, \"wb\") as audio_file:\n",
        "        audio_file.write(response.content)\n",
        "\n",
        "    # Generate the output file name\n",
        "    output_file = os.path.join(audio_filename.replace(\".wav\", \".mp3\"))\n",
        "\n",
        "    # Call the slow_down_audio function\n",
        "    slow_down_audio(audio_filename, output_file, slowdown_factor)\n",
        "\n",
        "    # Append the output file name to the array\n",
        "    audio_files.append(output_file)\n",
        "    #audio_files.append(audio_filename)"
      ]
    },
    {
      "cell_type": "code",
      "execution_count": null,
      "metadata": {
        "id": "ItggQVmkkBDH"
      },
      "outputs": [],
      "source": [
        "import requests\n",
        "import os\n",
        "import moviepy.editor as mp\n",
        "import moviepy.video.fx.all as vfx\n",
        "import textwrap\n",
        "from moviepy.editor import *\n",
        "from PIL import Image, ImageDraw, ImageFont\n",
        "from io import BytesIO\n",
        "import numpy as np\n",
        "\n",
        "\n",
        "# Download video and audio files\n",
        "video_files = []\n",
        "audio_files = []\n",
        "# for i, url in enumerate(video_urls):\n",
        "#     response = requests.get(url)\n",
        "#     video_filename = f\"temp_video{i}.mp4\"\n",
        "#     with open(video_filename, \"wb\") as video_file:\n",
        "#         video_file.write(response.content)\n",
        "#     video_files.append(video_filename)\n",
        "fps = 12.0\n",
        "for i, url in enumerate(video_urls):\n",
        "    response = requests.get(url[0])\n",
        "    image = Image.open(BytesIO(response.content))\n",
        "    image_np = np.array(image)\n",
        "    clip = mp.ImageSequenceClip([image_np], fps=fps)\n",
        "    video_filename = f\"temp_video{i}.mp4\"\n",
        "    clip.write_videofile(video_filename, codec='libx264', fps=fps)\n",
        "    #with open(video_filename, \"wb\") as video_file:\n",
        "        #video_file.write(response.content)\n",
        "    video_files.append(video_filename)\n",
        "\n",
        "for i, url in enumerate(audio_urls[0:14]):\n",
        "    response = requests.get(url)\n",
        "    audio_filename = f\"temp_audio{i}.wav\"\n",
        "    with open(audio_filename, \"wb\") as audio_file:\n",
        "        audio_file.write(response.content)\n",
        "\n",
        "    # Generate the output file name\n",
        "    output_file = os.path.join(audio_filename.replace(\".wav\", \".mp3\"))\n",
        "\n",
        "    # Call the slow_down_audio function\n",
        "    slow_down_audio(audio_filename, output_file, slowdown_factor)\n",
        "\n",
        "    # Append the output file name to the array\n",
        "    audio_files.append(output_file)\n",
        "    #audio_files.append(audio_filename)\n",
        "\n",
        "# Load and process video and audio files\n",
        "\n",
        "processed_videos = []\n",
        "for i, audio_file in enumerate(audio_files):\n",
        "    try:\n",
        "      video = mp.VideoFileClip(video_files[i])\n",
        "    except IndexError:\n",
        "      video = mp.VideoFileClip(video_files[i-1])\n",
        "    #video = mp.VideoFileClip(video_files[i])\n",
        "    audio = mp.AudioFileClip(audio_file)\n",
        "\n",
        "    # Loop the video for the duration of the audio\n",
        "    looped_video = mp.concatenate_videoclips([video] * int(audio.duration // video.duration + 1))\n",
        "\n",
        "    # Set the audio of the video to the audio file\n",
        "    video_with_audio = looped_video.set_audio(audio)\n",
        "    processed_videos.append(video_with_audio)\n",
        "\n",
        "# Concatenate all the processed videos\n",
        "final_video = mp.concatenate_videoclips(processed_videos)\n",
        "\n",
        "## The following adds the title image / narration to the video.\n",
        "# Add this function to create the text image\n",
        "def txt_image(img, txt, font_size, color):\n",
        "    image = img.copy()\n",
        "    draw = ImageDraw.Draw(image)\n",
        "    draw.text((50, 50), txt, fill=(255, 255, 0))\n",
        "    # font = ImageFont.load_default().font_variant(size=font_size)\n",
        "    # draw.text((50, 50), txt, font=font, fill=color)\n",
        "    return image\n",
        "\n",
        "# Download and create the image clip\n",
        "image_url = title_image_url\n",
        "response = requests.get(image_url)\n",
        "img = Image.open(BytesIO(response.content))\n",
        "\n",
        "# Resize the image to match the video dimensions\n",
        "img_resized = img.resize((1200, 900))\n",
        "\n",
        "# Download the audio file\n",
        "audio_url = chain_output['ending_quote_prediction'].output['audio_out']\n",
        "response = requests.get(audio_url)\n",
        "audio_filename = \"temp_audio_ending.wav\"\n",
        "with open(audio_filename, \"wb\") as audio_file:\n",
        "    audio_file.write(response.content)\n",
        "\n",
        "# Generate the output file name\n",
        "output_file = os.path.join(audio_filename.replace(\".wav\", \".mp3\"))\n",
        "\n",
        "# Call the slow_down_audio function\n",
        "slow_down_audio(audio_filename, output_file, slowdown_factor)\n",
        "\n",
        "# Create the audio clip\n",
        "audio_ending = AudioFileClip(output_file)\n",
        "\n",
        "# make title empty for now, couldn't figure out how to get it bigger\n",
        "text = chain_output['title']\n",
        "img_text = ImageClip(np.asarray(txt_image(img_resized, txt='text', font_size=72, color=\"white\")), duration=4)\n",
        "\n",
        "# Set the audio of the image clip to the audio file and trim it to the same duration\n",
        "img_text_audio_ending = mp.concatenate_videoclips([img_text] * int(audio_ending.duration // img_text.duration + 1))\n",
        "img_text_audio_ending = img_text.set_audio(audio_ending)\n",
        "\n",
        "# Download the title page audio file\n",
        "audio_url = chain_output['title_audio_prediction'].output['audio_out']\n",
        "response = requests.get(audio_url)\n",
        "with open(\"temp_audio_title.mp3\", \"wb\") as audio_file:\n",
        "    audio_file.write(response.content)\n",
        "\n",
        "# Create the audio clip\n",
        "audio_beginning = AudioFileClip(\"temp_audio_title.mp3\")\n",
        "\n",
        "# Set the audio of the image clip to the audio file and trim it to the same duration\n",
        "img_text_audio_beginning = mp.concatenate_videoclips([img_text] * int(audio_beginning.duration // img_text.duration + 1))\n",
        "img_text_audio_beginning = img_text.set_audio(audio_beginning)\n",
        "\n",
        "# Concatenate the image clip with the processed videos\n",
        "width, height = processed_videos[0].size\n",
        "title_video = img_text_audio_beginning.resize((width, height))\n",
        "ending_video = img_text_audio_ending.resize((width, height))\n",
        "\n",
        "# processed_videos.insert(0, title_video)\n",
        "# processed_videos.append(ending_video)\n",
        "\n",
        "final_video = concatenate_videoclips(processed_videos)\n",
        "\n",
        "# Download the background audio file\n",
        "bg_audio_url = music_url\n",
        "response = requests.get(bg_audio_url)\n",
        "with open(\"temp_bg_audio.mp3\", \"wb\") as audio_file:\n",
        "    audio_file.write(response.content)\n",
        "\n",
        "# Create the background audio clip\n",
        "bg_audio = AudioFileClip(\"temp_bg_audio.mp3\")\n",
        "\n",
        "# Calculate the duration of the final video\n",
        "video_duration = final_video.duration\n",
        "\n",
        "# Loop the background audio to match the final video's duration\n",
        "bg_audio_looped = bg_audio.fx(afx.audio_loop, duration=video_duration)\n",
        "bg_audio_looped = bg_audio_looped.volumex(0.3)\n",
        "\n",
        "# Overlay the background audio with the audio from the final video\n",
        "final_audio = CompositeAudioClip([final_video.audio, bg_audio_looped])\n",
        "\n",
        "# Set the audio of the final video to the combined audio\n",
        "final_video_with_bg_audio = final_video.set_audio(final_audio)\n",
        "\n",
        "# Save the final video\n",
        "final_video_with_bg_audio.write_videofile(f\"how_to.mp4\", codec='libx264', audio_codec='aac')\n",
        "\n",
        "# Clean up temporary files\n",
        "for video_file, audio_file in zip(video_files, audio_files):\n",
        "    os.remove(video_file)\n",
        "# for audio_file in audio_files:\n",
        "#     os.remove(audio_file)"
      ]
    },
    {
      "cell_type": "code",
      "execution_count": null,
      "metadata": {
        "id": "xQW6Eyoxkdbn"
      },
      "outputs": [],
      "source": [
        "#@title Watch the video\n",
        "from IPython.display import HTML\n",
        "from base64 import b64encode\n",
        "mp4 = open(f'how_to.mp4','rb').read()\n",
        "data_url = \"data:video/mp4;base64,\" + b64encode(mp4).decode()\n",
        "HTML(\"\"\"\n",
        "<video width=400 controls>\n",
        "      <source src=\"%s\" type=\"video/mp4\">\n",
        "</video>\n",
        "\"\"\" % data_url)"
      ]
    },
    {
      "cell_type": "code",
      "execution_count": null,
      "metadata": {
        "id": "lDbxU6osnxmg"
      },
      "outputs": [],
      "source": [
        "chain_output['ending_quote_prediction'].output['audio_out']"
      ]
    }
  ],
  "metadata": {
    "colab": {
      "provenance": [],
      "authorship_tag": "ABX9TyMI5cl3nzmFYenzKt4X9oxB",
      "include_colab_link": true
    },
    "kernelspec": {
      "display_name": "Python 3",
      "name": "python3"
    },
    "language_info": {
      "name": "python"
    }
  },
  "nbformat": 4,
  "nbformat_minor": 0
}